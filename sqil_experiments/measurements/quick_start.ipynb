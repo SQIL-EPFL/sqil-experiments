{
 "cells": [
  {
   "cell_type": "markdown",
   "id": "675d80a5",
   "metadata": {},
   "source": [
    "# Get started with `sqil-experimental`"
   ]
  },
  {
   "cell_type": "markdown",
   "id": "1cc8f81f",
   "metadata": {},
   "source": [
    "Requirements for `sqil-experimental` to work:\n",
    "- Having installed the `sqil-core` package (`pip install sqil-core`)\n",
    "- A `config.yaml` file\n",
    "- A setup file"
   ]
  },
  {
   "cell_type": "markdown",
   "id": "e5162e6f",
   "metadata": {},
   "source": [
    "## 1. The config file"
   ]
  },
  {
   "cell_type": "markdown",
   "id": "0f8a99d1",
   "metadata": {},
   "source": [
    "The config file (`config.yaml`) it's located in the root directory of `sqil-experiments` and must NOT be deleted or renamed.  \n",
    "\n",
    "It's currently used only to point to a setup file"
   ]
  },
  {
   "cell_type": "raw",
   "id": "aaa6c7ca",
   "metadata": {
    "vscode": {
     "languageId": "raw"
    }
   },
   "source": [
    "setup_path: \"./setup/setup_test.py\""
   ]
  },
  {
   "cell_type": "markdown",
   "id": "c18b7f84",
   "metadata": {},
   "source": [
    "This allows you to easily switch between different setups, which could be useful if two experiments share the same measurement computer. For example, let's say that experiment 1 requires a Yoko to control flux and experiment 2 doesn't. Create a setup file for each experiment, `setup_1.py` and `setup_2.py` in which you specify all the instruments connected to the line. Then specify which setup file to use based on what you need to measure."
   ]
  },
  {
   "cell_type": "markdown",
   "id": "ad2955b4",
   "metadata": {},
   "source": [
    "## 2. The setup file"
   ]
  },
  {
   "cell_type": "markdown",
   "id": "4477630e",
   "metadata": {},
   "source": [
    "The setup file controls all the things related to your experimental setup\n",
    "1. Choose where the experimental data is saved\n",
    "2. Define the Zuirch Instruments setup object\n",
    "3. Generate a QPU file when it's not available (e.g. first time running an experiment)\n",
    "4. Define the instruments used by your experiments\n",
    "5. Change the default behavior of the instruments  \n",
    "\n",
    "_IMPORTANT_: The setup file is a python file, meaning that complex functionality can be defined and passed to the experiment."
   ]
  },
  {
   "cell_type": "markdown",
   "id": "4cb26fd0",
   "metadata": {},
   "source": [
    "### 2.1. Data storage"
   ]
  },
  {
   "cell_type": "markdown",
   "id": "8a953ce1",
   "metadata": {},
   "source": [
    "`db_root` and `db_root_local` are used to define the respective remote and local database directories.  \n",
    "`data_folder_name` is used to name the specific data collection folder.  \n",
    "\n",
    "Data will be saved in the following directories:\n",
    "  - `db_path_local/data_folder_name/`\n",
    "  - `db_path/data_folder_name/`\n",
    "We'll refer to these as 'data folders' or 'data paths'\n",
    "\n",
    "The QPU file will be saved in both data folders with name specified by `qpu_filename`."
   ]
  },
  {
   "cell_type": "code",
   "execution_count": 7,
   "id": "7c3cacdc",
   "metadata": {},
   "outputs": [],
   "source": [
    "import os\n",
    "\n",
    "data_folder_name = \"test\"\n",
    "\n",
    "# Data storage\n",
    "db_root = r\"C:\\Users\\sqil\\Desktop\\code\\sqil-experiments\\data\"\n",
    "db_root_local = r\"C:\\Users\\sqil\\Desktop\\code\\sqil-experiments\\data_local\"\n",
    "storage = {\n",
    "    \"db_type\": \"plottr\",\n",
    "    \"db_path\": os.path.join(db_root, data_folder_name),\n",
    "    \"db_path_local\": os.path.join(db_root_local, data_folder_name),\n",
    "    \"qpu_filename\": \"qpu.json\",\n",
    "}"
   ]
  },
  {
   "cell_type": "markdown",
   "id": "436c4693",
   "metadata": {},
   "source": [
    "### 2.2. Zuirch Instruments setup"
   ]
  },
  {
   "cell_type": "markdown",
   "id": "95d550b5",
   "metadata": {},
   "source": [
    "A function that specifies how to generate the Zurich Instruments setup object. It's called every time is needed to connect to Zurich Instruments devices. This method is not required if you're not using ZI.\n",
    "\n",
    "It's recmmended to construct this function using the `generate_device_setup` provided by LaboneQ. "
   ]
  },
  {
   "cell_type": "code",
   "execution_count": 8,
   "id": "8d083705",
   "metadata": {},
   "outputs": [],
   "source": [
    "from laboneq.contrib.example_helpers.generate_device_setup import generate_device_setup\n",
    "\n",
    "def generate_zi_setup():\n",
    "    return generate_device_setup(\n",
    "        number_qubits=1,\n",
    "        shfqc=[\n",
    "            {\"serial\": \"dev12183\", \"number_of_channels\": 4, \"options\": \"SHFQC/QC4CH\"}\n",
    "        ],\n",
    "        include_flux_lines=False,\n",
    "        multiplex_drive_lines=True,\n",
    "        query_options=False,\n",
    "    )"
   ]
  },
  {
   "cell_type": "markdown",
   "id": "d1fb8fb1",
   "metadata": {},
   "source": [
    "### 2.3. Generate QPU"
   ]
  },
  {
   "cell_type": "markdown",
   "id": "7015e7af",
   "metadata": {},
   "source": [
    "The QPU, quantum processing unit, contains all the information about your qubits.  \n",
    "The `generate_qpu` function gives the experiment instructions on how to generate the QPU file, in case one it's not already available. This means `generate_qpu` is supposed to run only once: when the first experiment is run.\n",
    "\n",
    "You can avoid defining this function if you already have a QPU file. For example if you're re-measuring the same qubit on the same setup, just copy the old QPU file into the new data folder (`db_path_local/data_folder_name/`)\n",
    "\n",
    "It's recommended to use the `from_device_setup` function if you have ZI in your setup.  \n",
    "\n",
    "_NOTE_: A QPU is required even if you're not using any device from Zurich Instruments."
   ]
  },
  {
   "cell_type": "code",
   "execution_count": 9,
   "id": "ddfd2d98",
   "metadata": {},
   "outputs": [],
   "source": [
    "from helpers.sqil_transmon.operations import SqilTransmonOperations\n",
    "from helpers.sqil_transmon.qubit import SqilTransmon\n",
    "from laboneq.dsl.quantum import QPU\n",
    "\n",
    "def generate_qpu(zi_setup):\n",
    "    qubits = SqilTransmon.from_device_setup(zi_setup)\n",
    "    quantum_operations = SqilTransmonOperations()\n",
    "    qpu = QPU(qubits, quantum_operations)\n",
    "\n",
    "    # Set required qubit parameters\n",
    "    for qubit in qpu.quantum_elements:\n",
    "        qubit.update(\n",
    "            **{\n",
    "                \"readout_lo_frequency\": 7e9,\n",
    "                \"drive_lo_frequency\": 5e9,\n",
    "            }\n",
    "        )\n",
    "    return qpu"
   ]
  },
  {
   "cell_type": "markdown",
   "id": "799cb9ad",
   "metadata": {},
   "source": [
    "It's a good idea t define here the LO frequencies for readout and drive. The QPU is generated with these two values empty, but not experiment can start without the LOs."
   ]
  },
  {
   "cell_type": "markdown",
   "id": "7cb9641b",
   "metadata": {},
   "source": [
    "### 2.4. Define the instruments"
   ]
  },
  {
   "cell_type": "markdown",
   "id": "c3f11e18",
   "metadata": {},
   "source": [
    "The `instruments` dictionary contains all the information about your instruments.  \n",
    "Every instrument needs a `type`, which is used by `sqil-core` to cast it to the correct class and control it properly. If there can be multiple models of the same instrument type, also a `model` is required.  "
   ]
  },
  {
   "cell_type": "markdown",
   "id": "aead1999",
   "metadata": {},
   "source": [
    "In the example below the experimental setup is made of our Zurich Instruments and an SGS used as external LO.  \n",
    "\n",
    "Even if we created the `generate_setup` function for ZI earlier, now we need to bind it to the dictionary entry.  \n",
    "\n",
    "For the SGS, we need to specify a `type` and a `model`, since we could use multiple instruments as LO sources.  \n",
    "The `address` is required to connect to it, while the `name` is a human readable string used for logs.  \n",
    "\n",
    "The `variables` field can be used by some instruments quickly access variables present in your experiment context.  \n",
    "This is generally used to automatically allow sweeps on the instrument variables.  \n",
    "With the old experimental code you would control the LO through the parameter \"ext_LO_freq\". The new way is more abstract and the LO can be controlled by any variable present in the experiment (qubit paramenters, experiment options, etc.).  \n",
    "To bind a variable you need to specify a function that returns the value you want, given the experiment object."
   ]
  },
  {
   "cell_type": "code",
   "execution_count": 10,
   "id": "f0d6cb9e",
   "metadata": {},
   "outputs": [],
   "source": [
    "instruments = {\n",
    "    \"zi\": {\n",
    "        \"type\": \"ZI\",\n",
    "        \"address\": \"localhost\",\n",
    "        \"generate_setup\": generate_zi_setup,\n",
    "        \"generate_qpu\": generate_qpu,\n",
    "    },\n",
    "    \"lo\": {\n",
    "        \"type\": \"LO\",\n",
    "        \"model\": \"RohdeSchwarzSGS100A\",\n",
    "        \"name\": \"SGSA100\",\n",
    "        \"address\": \"TCPIP0::192.168.1.56::inst0::INSTR\",\n",
    "        \"variables\": {\n",
    "            \"frequency\": lambda exp: exp.qpu.quantum_elements[0].parameters.external_lo_frequency,\n",
    "            \"power\": lambda exp: exp.qpu.quantum_elements[0].parameters.external_lo_power,\n",
    "        },\n",
    "    },\n",
    "}"
   ]
  },
  {
   "cell_type": "markdown",
   "id": "f7453f27",
   "metadata": {},
   "source": [
    "In the dictionary defining the instruments for your experiments, the key lo represents the variable name used to control the Local Oscillator (LO). In this case, the dictionary key \"lo\" is associated with the SGS, and when writing your experiment code, you interact with it as if it’s a generic LO object—regardless of its specific model. For example, you would call `lo.set_frequency(11e9)` to set the frequency, no matter whether you're using an SGS or a different LO.\n",
    "\n",
    "The reason this is useful is that the sqil-core framework generalizes all LOs, abstracting away the specific details of the underlying hardware. This means you don’t need to worry about treating the SGS as an SGS. Instead, you just treat it as an abstract LO object that you can control in a standardized way.\n",
    "\n",
    "If, in the future, you decide to switch to a different LO source, e.g. a Signal Core, you don’t have to go through and modify every experiment script. You simply update the dictionary by changing the lo entry to reflect the new model and name, and your experiment code will continue working exactly the same way without needing any further adjustments."
   ]
  },
  {
   "cell_type": "markdown",
   "id": "0b0cc2db",
   "metadata": {},
   "source": [
    "### 2.5. Change instrument behavior"
   ]
  },
  {
   "cell_type": "markdown",
   "id": "a618e4c3",
   "metadata": {},
   "source": [
    "Some instruments have a default behavior, like turning on before the experiment and turning off after the experiment. You can change these behaviors or add new ones by overriding the instrument functions.\n",
    "\n",
    "- `connect`: how the experiment should connect to the instrument\n",
    "- `setup`: how to setup the instrument after it's connected (e.g. turn on phase locking or set a specific power)\n",
    "- `before_experiment`: function that runs before the experiment starts\n",
    "- `before_sequence`: function that runs just before the pulse sequence is sent\n",
    "- `after_sequence`:  function that runs just after the pulse sequence is sent\n",
    "- `before_experiment`: function that runs after the experiment ends\n",
    "\n",
    "The difference between `before_experiment` and `before_sequence` is that the first one runs only once, while the second one runs every time the pulse sequence is sent and can be used to handle sweeps.\n",
    "\n",
    "_NOTE_: when overriding these functions you are overriding the instrument class default for that function, which means you have access to the `self` argument and can access class attributes, like `name`, `address`, etc., and even the instrument's functions, like `turn_on`, `set_frequency`, etc.\n",
    "\n",
    "_NOTE_: most instruments have default behaviors for these functions, before overriding them check what they're doing, because they may be handling something you didn't think about. Like safely handling connections or forcing some useful behaviors by default, like turning on phase locking.\n",
    "\n"
   ]
  },
  {
   "cell_type": "code",
   "execution_count": null,
   "id": "f6a45c19",
   "metadata": {},
   "outputs": [],
   "source": [
    "def lo_after_experiment(self, *args, **kwargs):\n",
    "    print(\"Setting low power and turning off {self.name}\")\n",
    "    self.set_power(-60)\n",
    "    self.turn_off()\n",
    "\n",
    "instruments = {\n",
    "    \"zi\": {\n",
    "        \"type\": \"ZI\",\n",
    "        \"address\": \"localhost\",\n",
    "        \"generate_setup\": generate_zi_setup,\n",
    "        \"generate_qpu\": generate_qpu,\n",
    "    },\n",
    "    \"lo\": {\n",
    "        \"type\": \"LO\",\n",
    "        \"model\": \"RohdeSchwarzSGS100A\",\n",
    "        \"name\": \"SGSA100\",\n",
    "        \"address\": \"TCPIP0::192.168.1.56::inst0::INSTR\",\n",
    "        \"variables\": {\n",
    "            \"frequency\": lambda exp: (\n",
    "                exp.qpu.quantum_elements[0].parameters.external_lo_frequency\n",
    "            ),\n",
    "            \"power\": lambda exp: (\n",
    "                exp.qpu.quantum_elements[0].parameters.external_lo_power\n",
    "            ),\n",
    "        },\n",
    "        # Bind the new function to the instrument\n",
    "        \"after_experiment\": lo_after_experiment,\n",
    "    },\n",
    "}"
   ]
  },
  {
   "cell_type": "markdown",
   "id": "1ab4381b",
   "metadata": {},
   "source": [
    "## 3. Run an experiment"
   ]
  },
  {
   "cell_type": "code",
   "execution_count": null,
   "id": "d371af4c",
   "metadata": {},
   "outputs": [],
   "source": [
    "import numpy as np\n",
    "from time_rabi import TimeRabi, TimeRabiOptions\n",
    "\n",
    "time_rabi = TimeRabi()\n",
    "options = TimeRabiOptions()\n",
    "options.count = 2**8\n",
    "\n",
    "pulse_lengths = np.linspace(1e-10,600e-9, 53)\n",
    "\n",
    "result = time_rabi.run(pulse_lengths, options=options)"
   ]
  }
 ],
 "metadata": {
  "kernelspec": {
   "display_name": "sqil-experiments-gl8RHkKX-py3.12",
   "language": "python",
   "name": "python3"
  },
  "language_info": {
   "codemirror_mode": {
    "name": "ipython",
    "version": 3
   },
   "file_extension": ".py",
   "mimetype": "text/x-python",
   "name": "python",
   "nbconvert_exporter": "python",
   "pygments_lexer": "ipython3",
   "version": "3.12.7"
  }
 },
 "nbformat": 4,
 "nbformat_minor": 5
}
