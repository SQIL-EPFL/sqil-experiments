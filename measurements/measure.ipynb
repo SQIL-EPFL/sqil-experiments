{
 "cells": [
  {
   "cell_type": "code",
   "execution_count": 1,
   "id": "1c2ccbcb",
   "metadata": {},
   "outputs": [],
   "source": [
    "import sqil_core as sqil\n",
    "import numpy as np\n",
    "import matplotlib.pyplot as plt\n",
    "\n",
    "from laboneq.dsl.quantum import QPU\n",
    "from laboneq_applications.qpu_types.tunable_transmon import (\n",
    "    TunableTransmonOperations,\n",
    "    TunableTransmonQubit,\n",
    ")\n",
    "from helpers.sqil_transmon.qubit import SqilTransmon\n",
    "from helpers.sqil_transmon.operations import SqilTransmonOperations\n",
    "\n",
    "from laboneq_applications.experiments.options import (\n",
    "    ResonatorSpectroscopyExperimentOptions,\n",
    ")\n",
    "from laboneq_applications.core import validation\n",
    "from laboneq.dsl.enums import AcquisitionType\n",
    "from laboneq.simple import Experiment, SweepParameter, dsl\n",
    "\n",
    "from laboneq.dsl.quantum.quantum_element import QuantumElement\n",
    "from numpy.typing import ArrayLike\n",
    "\n",
    "%matplotlib inline"
   ]
  },
  {
   "cell_type": "code",
   "execution_count": 2,
   "id": "493b79d5",
   "metadata": {},
   "outputs": [
    {
     "name": "stderr",
     "output_type": "stream",
     "text": [
      "2025-05-12 23:05:11,942 - \u001b[32mINFO\u001b[0m - Connecting to SGSA100 (RohdeSchwarzSGS100A)\n",
      "\u001b[0m"
     ]
    },
    {
     "name": "stdout",
     "output_type": "stream",
     "text": [
      "Connected to: Rohde&Schwarz SGS100A (serial:1416.0505k02/114907, firmware:4.2.366.0-5.00.232.72) in 0.11s\u001b[0m\n"
     ]
    },
    {
     "name": "stderr",
     "output_type": "stream",
     "text": [
      "2025-05-12 23:05:12,057 - \u001b[32mINFO\u001b[0m - Successfully connected to SGSA100\n",
      "\u001b[0m2025-05-12 23:05:12,058 - \u001b[32mINFO\u001b[0m - Successfully connected to zi\n",
      "\u001b[0m"
     ]
    },
    {
     "name": "stdout",
     "output_type": "stream",
     "text": [
      "\u001b[0m[2025.05.12 23:05:12.062] INFO    Logging initialized from [Default inline config in laboneq.laboneq_logging] logdir is c:\\Users\\sqil\\Desktop\\code\\sqil-experiments\\measurements\\laboneq_output\\log\n",
      "\u001b[0m[2025.05.12 23:05:12.064] INFO    VERSION: laboneq 2.51.0\n",
      "\u001b[0m[2025.05.12 23:05:12.066] INFO    Connecting to data server at localhost:8004\n",
      "\u001b[0m[2025.05.12 23:05:12.075] INFO    Connected to Zurich Instruments LabOne Data Server version 25.04.0.628 at localhost:8004\n",
      "\u001b[0m[2025.05.12 23:05:12.081] WARNING SHFQC/QA:dev12183: Include the device options 'SHFQC/QC4CH' in the device setup ('options' field of the 'instruments' list in the device setup descriptor, 'device_options' argument when constructing instrument objects to be added to 'DeviceSetup' instances). This will become a strict requirement in the future.\n",
      "\u001b[0m[2025.05.12 23:05:12.084] INFO    Configuring the device setup\n",
      "\u001b[0m[2025.05.12 23:05:12.092] INFO    The device setup is configured\n",
      "\u001b[0m"
     ]
    },
    {
     "name": "stderr",
     "output_type": "stream",
     "text": [
      "2025-05-12 23:05:12,095 - \u001b[32mINFO\u001b[0m - Turning on local oscillators before experiment\n",
      "\u001b[0m"
     ]
    },
    {
     "name": "stdout",
     "output_type": "stream",
     "text": [
      "[2025.05.12 23:05:12.104] INFO    Starting LabOne Q Compiler run...\n",
      "\u001b[0m[2025.05.12 23:05:12.120] INFO    Schedule completed. [0.013 s]\n",
      "\u001b[0m[2025.05.12 23:05:12.149] INFO    Code generation completed for all AWGs. [0.029 s]\n",
      "\u001b[0m[2025.05.12 23:05:12.150] INFO    Completed compilation step 1 of 1. [0.044 s]\n",
      "\u001b[0m[2025.05.12 23:05:12.155] INFO     ─────────────────────────────────────────────────────────────────────── \n",
      "\u001b[0m[2025.05.12 23:05:12.157] INFO     \u001b[1m \u001b[0m\u001b[1mDevice           \u001b[0m\u001b[1m \u001b[0m \u001b[1m \u001b[0m\u001b[1mAWG\u001b[0m\u001b[1m \u001b[0m \u001b[1m \u001b[0m\u001b[1mSeqC LOC\u001b[0m\u001b[1m \u001b[0m \u001b[1m \u001b[0m\u001b[1mCT entries\u001b[0m\u001b[1m \u001b[0m \u001b[1m \u001b[0m\u001b[1mWaveforms\u001b[0m\u001b[1m \u001b[0m \u001b[1m \u001b[0m\u001b[1mSamples\u001b[0m\u001b[1m \u001b[0m \n",
      "\u001b[0m[2025.05.12 23:05:12.158] INFO     ─────────────────────────────────────────────────────────────────────── \n",
      "\u001b[0m[2025.05.12 23:05:12.159] INFO      SHFQC_dev12183        0         21            0           1      8000  \n",
      "\u001b[0m[2025.05.12 23:05:12.159] INFO      SHFQC_dev12183_sg     0          4            1           0         0  \n",
      "\u001b[0m[2025.05.12 23:05:12.161] INFO     ─────────────────────────────────────────────────────────────────────── \n",
      "\u001b[0m[2025.05.12 23:05:12.161] INFO     \u001b[1m \u001b[0m\u001b[1mTOTAL            \u001b[0m\u001b[1m \u001b[0m \u001b[1m \u001b[0m\u001b[1m   \u001b[0m\u001b[1m \u001b[0m \u001b[1m \u001b[0m\u001b[1m      25\u001b[0m\u001b[1m \u001b[0m \u001b[1m \u001b[0m\u001b[1m         1\u001b[0m\u001b[1m \u001b[0m \u001b[1m \u001b[0m\u001b[1m         \u001b[0m\u001b[1m \u001b[0m \u001b[1m \u001b[0m\u001b[1m   8000\u001b[0m\u001b[1m \u001b[0m \n",
      "\u001b[0m[2025.05.12 23:05:12.162] INFO     ─────────────────────────────────────────────────────────────────────── \n",
      "\u001b[0m[2025.05.12 23:05:12.165] INFO    Finished LabOne Q Compiler run.\n",
      "\u001b[0m[2025.05.12 23:05:12.786] INFO    Starting near-time execution...\n",
      "\u001b[0m[2025.05.12 23:05:13.162] WARNING SHFQC/QA:dev12183: Channel 0 Output overrange count: 26\n",
      "\u001b[0m[2025.05.12 23:05:13.196] INFO    Finished near-time execution.\n",
      "\u001b[0m(101,)\u001b[0m\n"
     ]
    },
    {
     "name": "stderr",
     "output_type": "stream",
     "text": [
      "2025-05-12 23:05:13,237 - \u001b[32mINFO\u001b[0m - Turning off local oscillators after experiment\n",
      "\u001b[0m"
     ]
    },
    {
     "name": "stdout",
     "output_type": "stream",
     "text": [
      "\u001b[0m"
     ]
    },
    {
     "data": {
      "image/png": "[encoded data removed]",
      "text/plain": [
       "<Figure size 640x480 with 1 Axes>"
      ]
     },
     "metadata": {},
     "output_type": "display_data"
    }
   ],
   "source": [
    "from rr_spec import RRSpec\n",
    "\n",
    "rr_spec = RRSpec()\n",
    "result = rr_spec.run(0, np.linspace(7.3e9, 8e9, 101))"
   ]
  },
  {
   "cell_type": "code",
   "execution_count": null,
   "id": "04f14484",
   "metadata": {},
   "outputs": [
    {
     "name": "stdout",
     "output_type": "stream",
     "text": [
      "Data successfully added to DataDict\u001b[0m\n",
      "\u001b[0m"
     ]
    }
   ],
   "source": [
    "from sqil_core.experiment.data.plottr import DataDict, DDH5Writer\n",
    "from plottr.data.datadict import DataDict\n",
    "import numpy as np\n",
    "\n",
    "# Create a DataDict with explicit 1D configuration\n",
    "datadict = DataDict(\n",
    "    ro_freq=dict(unit=\"Hz\"),               # Axis: ro_freq as 1D\n",
    "    data=dict(axes=[\"ro_freq\"], unit=\"\"),   # Data: associated with ro_freq\n",
    ")\n",
    "datadict.validate()\n",
    "\n",
    "# Simulated 1D data\n",
    "ro_freq = np.linspace(1e9, 2e9, 101)  # 1D array\n",
    "raw_data = np.random.rand(101)        # 1D array\n",
    "\n",
    "# Enforce 1D shape explicitly\n",
    "ro_freq = np.atleast_1d(ro_freq)  # Ensure it's 1D\n",
    "raw_data = np.atleast_1d(raw_data)  # Ensure it's 1D\n",
    "\n",
    "# Adding data to the writer\n",
    "with DDH5Writer(datadict, \"data\", name=\"culo\") as writer:\n",
    "    writer.add_data(ro_freq=ro_freq)\n",
    "    writer.add_data(data=raw_data)\n",
    "\n",
    "print(\"Data successfully added to DataDict\")"
   ]
  },
  {
   "cell_type": "code",
   "execution_count": null,
   "id": "cca8805d",
   "metadata": {},
   "outputs": [
    {
     "ename": "FileNotFoundError",
     "evalue": "[Errno 2] Unable to synchronously open file (unable to open file: name = 'C:\\Users\\sqil\\Desktop\\code\\sqil-experiments\\measurements\\data\\2025-05-12\\data.ddh5', errno = 2, error message = 'No such file or directory', flags = 0, o_flags = 0)",
     "output_type": "error",
     "traceback": [
      "\u001b[31m---------------------------------------------------------------------------\u001b[39m",
      "\u001b[31mFileNotFoundError\u001b[39m                         Traceback (most recent call last)",
      "\u001b[36mCell\u001b[39m\u001b[36m \u001b[39m\u001b[32mIn[7]\u001b[39m\u001b[32m, line 2\u001b[39m\n\u001b[32m      1\u001b[39m path = \u001b[33mr\u001b[39m\u001b[33m\"\u001b[39m\u001b[33mC:\u001b[39m\u001b[33m\\\u001b[39m\u001b[33mUsers\u001b[39m\u001b[33m\\\u001b[39m\u001b[33msqil\u001b[39m\u001b[33m\\\u001b[39m\u001b[33mDesktop\u001b[39m\u001b[33m\\\u001b[39m\u001b[33mcode\u001b[39m\u001b[33m\\\u001b[39m\u001b[33msqil-experiments\u001b[39m\u001b[33m\\\u001b[39m\u001b[33mmeasurements\u001b[39m\u001b[33m\\\u001b[39m\u001b[33mdata\u001b[39m\u001b[33m\\\u001b[39m\u001b[33m2025-05-12\u001b[39m\u001b[33m\"\u001b[39m\n\u001b[32m----> \u001b[39m\u001b[32m2\u001b[39m data, freq = \u001b[43msqil\u001b[49m\u001b[43m.\u001b[49m\u001b[43mextract_h5_data\u001b[49m\u001b[43m(\u001b[49m\u001b[43mpath\u001b[49m\u001b[43m,\u001b[49m\u001b[43m \u001b[49m\u001b[43m[\u001b[49m\u001b[33;43m\"\u001b[39;49m\u001b[33;43mdata\u001b[39;49m\u001b[33;43m\"\u001b[39;49m\u001b[43m,\u001b[49m\u001b[43m \u001b[49m\u001b[33;43m\"\u001b[39;49m\u001b[33;43mro_freq\u001b[39;49m\u001b[33;43m\"\u001b[39;49m\u001b[43m]\u001b[49m\u001b[43m)\u001b[49m\n\u001b[32m      4\u001b[39m data.shape, freq.shape\n",
      "\u001b[36mFile \u001b[39m\u001b[32mc:\\Users\\sqil\\AppData\\Local\\pypoetry\\Cache\\virtualenvs\\sqil-experiments-gl8RHkKX-py3.12\\Lib\\site-packages\\sqil_core\\utils\\_read.py:43\u001b[39m, in \u001b[36mextract_h5_data\u001b[39m\u001b[34m(path, keys)\u001b[39m\n\u001b[32m     40\u001b[39m \u001b[38;5;28;01mif\u001b[39;00m os.path.isdir(path):\n\u001b[32m     41\u001b[39m     path = os.path.join(path, \u001b[33m\"\u001b[39m\u001b[33mdata.ddh5\u001b[39m\u001b[33m\"\u001b[39m)\n\u001b[32m---> \u001b[39m\u001b[32m43\u001b[39m \u001b[38;5;28;01mwith\u001b[39;00m \u001b[43mh5py\u001b[49m\u001b[43m.\u001b[49m\u001b[43mFile\u001b[49m\u001b[43m(\u001b[49m\u001b[43mpath\u001b[49m\u001b[43m,\u001b[49m\u001b[43m \u001b[49m\u001b[33;43m\"\u001b[39;49m\u001b[33;43mr\u001b[39;49m\u001b[33;43m\"\u001b[39;49m\u001b[43m)\u001b[49m \u001b[38;5;28;01mas\u001b[39;00m h5file:\n\u001b[32m     44\u001b[39m     data = h5file[\u001b[33m\"\u001b[39m\u001b[33mdata\u001b[39m\u001b[33m\"\u001b[39m]\n\u001b[32m     45\u001b[39m     data_keys = data.keys()\n",
      "\u001b[36mFile \u001b[39m\u001b[32mc:\\Users\\sqil\\AppData\\Local\\pypoetry\\Cache\\virtualenvs\\sqil-experiments-gl8RHkKX-py3.12\\Lib\\site-packages\\h5py\\_hl\\files.py:564\u001b[39m, in \u001b[36mFile.__init__\u001b[39m\u001b[34m(self, name, mode, driver, libver, userblock_size, swmr, rdcc_nslots, rdcc_nbytes, rdcc_w0, track_order, fs_strategy, fs_persist, fs_threshold, fs_page_size, page_buf_size, min_meta_keep, min_raw_keep, locking, alignment_threshold, alignment_interval, meta_block_size, **kwds)\u001b[39m\n\u001b[32m    555\u001b[39m     fapl = make_fapl(driver, libver, rdcc_nslots, rdcc_nbytes, rdcc_w0,\n\u001b[32m    556\u001b[39m                      locking, page_buf_size, min_meta_keep, min_raw_keep,\n\u001b[32m    557\u001b[39m                      alignment_threshold=alignment_threshold,\n\u001b[32m    558\u001b[39m                      alignment_interval=alignment_interval,\n\u001b[32m    559\u001b[39m                      meta_block_size=meta_block_size,\n\u001b[32m    560\u001b[39m                      **kwds)\n\u001b[32m    561\u001b[39m     fcpl = make_fcpl(track_order=track_order, fs_strategy=fs_strategy,\n\u001b[32m    562\u001b[39m                      fs_persist=fs_persist, fs_threshold=fs_threshold,\n\u001b[32m    563\u001b[39m                      fs_page_size=fs_page_size)\n\u001b[32m--> \u001b[39m\u001b[32m564\u001b[39m     fid = \u001b[43mmake_fid\u001b[49m\u001b[43m(\u001b[49m\u001b[43mname\u001b[49m\u001b[43m,\u001b[49m\u001b[43m \u001b[49m\u001b[43mmode\u001b[49m\u001b[43m,\u001b[49m\u001b[43m \u001b[49m\u001b[43muserblock_size\u001b[49m\u001b[43m,\u001b[49m\u001b[43m \u001b[49m\u001b[43mfapl\u001b[49m\u001b[43m,\u001b[49m\u001b[43m \u001b[49m\u001b[43mfcpl\u001b[49m\u001b[43m,\u001b[49m\u001b[43m \u001b[49m\u001b[43mswmr\u001b[49m\u001b[43m=\u001b[49m\u001b[43mswmr\u001b[49m\u001b[43m)\u001b[49m\n\u001b[32m    566\u001b[39m \u001b[38;5;28;01mif\u001b[39;00m \u001b[38;5;28misinstance\u001b[39m(libver, \u001b[38;5;28mtuple\u001b[39m):\n\u001b[32m    567\u001b[39m     \u001b[38;5;28mself\u001b[39m._libver = libver\n",
      "\u001b[36mFile \u001b[39m\u001b[32mc:\\Users\\sqil\\AppData\\Local\\pypoetry\\Cache\\virtualenvs\\sqil-experiments-gl8RHkKX-py3.12\\Lib\\site-packages\\h5py\\_hl\\files.py:238\u001b[39m, in \u001b[36mmake_fid\u001b[39m\u001b[34m(name, mode, userblock_size, fapl, fcpl, swmr)\u001b[39m\n\u001b[32m    236\u001b[39m     \u001b[38;5;28;01mif\u001b[39;00m swmr \u001b[38;5;129;01mand\u001b[39;00m swmr_support:\n\u001b[32m    237\u001b[39m         flags |= h5f.ACC_SWMR_READ\n\u001b[32m--> \u001b[39m\u001b[32m238\u001b[39m     fid = \u001b[43mh5f\u001b[49m\u001b[43m.\u001b[49m\u001b[43mopen\u001b[49m\u001b[43m(\u001b[49m\u001b[43mname\u001b[49m\u001b[43m,\u001b[49m\u001b[43m \u001b[49m\u001b[43mflags\u001b[49m\u001b[43m,\u001b[49m\u001b[43m \u001b[49m\u001b[43mfapl\u001b[49m\u001b[43m=\u001b[49m\u001b[43mfapl\u001b[49m\u001b[43m)\u001b[49m\n\u001b[32m    239\u001b[39m \u001b[38;5;28;01melif\u001b[39;00m mode == \u001b[33m'\u001b[39m\u001b[33mr+\u001b[39m\u001b[33m'\u001b[39m:\n\u001b[32m    240\u001b[39m     fid = h5f.open(name, h5f.ACC_RDWR, fapl=fapl)\n",
      "\u001b[36mFile \u001b[39m\u001b[32mh5py\\\\_objects.pyx:54\u001b[39m, in \u001b[36mh5py._objects.with_phil.wrapper\u001b[39m\u001b[34m()\u001b[39m\n",
      "\u001b[36mFile \u001b[39m\u001b[32mh5py\\\\_objects.pyx:55\u001b[39m, in \u001b[36mh5py._objects.with_phil.wrapper\u001b[39m\u001b[34m()\u001b[39m\n",
      "\u001b[36mFile \u001b[39m\u001b[32mh5py\\\\h5f.pyx:102\u001b[39m, in \u001b[36mh5py.h5f.open\u001b[39m\u001b[34m()\u001b[39m\n",
      "\u001b[31mFileNotFoundError\u001b[39m: [Errno 2] Unable to synchronously open file (unable to open file: name = 'C:\\Users\\sqil\\Desktop\\code\\sqil-experiments\\measurements\\data\\2025-05-12\\data.ddh5', errno = 2, error message = 'No such file or directory', flags = 0, o_flags = 0)"
     ]
    }
   ],
   "source": [
    "path = r\"C:\\Users\\sqil\\Desktop\\code\\sqil-experiments\\measurements\\data\\2025-05-12\\00000-culo_2025-05-12T230806\"\n",
    "data, freq = sqil.extract_h5_data(path, [\"data\", \"ro_freq\"])\n",
    "\n",
    "data.shape, freq.shape"
   ]
  },
  {
   "cell_type": "code",
   "execution_count": null,
   "id": "a99dc2bb",
   "metadata": {},
   "outputs": [
    {
     "data": {
      "text/plain": [
       "(array([[-1.10598727e-04+1.61478637e-04j,  1.58333546e-04+1.08540357e-05j,\n",
       "         -9.45245372e-05-4.44815480e-05j,  6.12929542e-05+1.76132820e-04j,\n",
       "          8.86818408e-05-8.83400490e-05j, -8.21884873e-05+5.80233746e-05j,\n",
       "          1.27801691e-04+8.32845750e-05j,  1.10918165e-05-1.08661920e-04j,\n",
       "         -2.65334713e-05+1.03559537e-04j,  1.56602406e-04+9.91937995e-06j,\n",
       "         -3.22273880e-05-5.65503930e-05j,  4.56535230e-05+1.25300646e-04j,\n",
       "          1.74294583e-04-4.55840344e-05j, -2.69516335e-05-4.00481175e-05j,\n",
       "          1.44172294e-04+1.07352387e-04j,  1.71236523e-04-2.10297444e-04j,\n",
       "         -5.97740183e-05+9.13579602e-06j,  2.52482685e-04-5.07143265e-05j,\n",
       "         -6.57916218e-05-2.96722779e-04j, -4.61199583e-05+6.73448797e-05j,\n",
       "          2.12670555e-04-2.72653268e-04j, -3.48764314e-04-2.32884211e-04j,\n",
       "          5.78286648e-05+8.76488311e-05j, -1.01512281e-04-4.78294998e-04j,\n",
       "         -5.15220788e-04+1.50195928e-04j,  1.96338381e-04+4.27854763e-05j,\n",
       "         -5.71799125e-04-3.10330077e-04j, -1.80402685e-04+6.74450276e-04j,\n",
       "          2.18308097e-04-3.07277537e-04j, -7.43398856e-04+3.56772381e-04j,\n",
       "          6.06503849e-04+5.55641525e-04j, -2.87863439e-04-4.74331282e-04j,\n",
       "         -1.44615312e-04+1.01323692e-03j,  9.22900692e-04-3.15682294e-04j,\n",
       "         -7.73025856e-04-2.42953793e-05j,  9.34228065e-04+7.90116861e-04j,\n",
       "          1.27548215e-04-1.21799421e-03j, -6.29096579e-04+8.73082006e-04j,\n",
       "          1.42162514e-03-4.07193882e-04j, -1.31988146e-03-9.36413141e-04j,\n",
       "          5.11161838e-04+1.61511325e-03j,  8.27077196e-04-2.08194064e-03j,\n",
       "         -2.65855607e-03+1.16940567e-03j,  3.96785833e-03+1.11590342e-03j,\n",
       "         -4.74185909e-03-6.24242719e-03j,  2.77417723e-02+2.85621418e-02j,\n",
       "         -8.82107360e-03+3.39287995e-03j,  4.42393994e-03+1.23153449e-03j,\n",
       "         -1.66506766e-03-2.50848563e-03j, -1.72501530e-04+2.18675795e-03j,\n",
       "          1.35708826e-03-1.31455559e-03j, -1.49722419e-03-4.72854147e-05j,\n",
       "          9.47965178e-04+6.61886249e-04j, -2.96235079e-04-1.15552871e-03j,\n",
       "         -5.99545126e-04+7.61459660e-04j,  6.09135619e-04-3.15455574e-04j,\n",
       "         -8.68795002e-04-1.85479790e-04j,  1.82238356e-04+6.83223196e-04j,\n",
       "         -8.51486809e-06-3.74867709e-04j, -3.86236391e-04+5.70097789e-04j,\n",
       "          5.35236746e-04+2.33013817e-04j, -1.06201388e-04-9.23942900e-05j,\n",
       "          2.50089286e-04+4.59736110e-04j,  4.48212797e-04-2.37677829e-04j,\n",
       "         -2.99296776e-05-2.19970430e-05j,  4.32469118e-04-3.89558929e-05j,\n",
       "          6.61526561e-05-4.77409946e-04j, -8.79964407e-05-9.58548485e-05j,\n",
       "          1.09386107e-04-2.96394113e-04j, -3.44122733e-04-2.81886073e-04j,\n",
       "         -1.16970877e-04+4.53659838e-05j, -1.26785648e-04-2.53284397e-04j,\n",
       "         -3.91987338e-04+3.87784367e-05j, -6.95413826e-05+9.78069825e-05j,\n",
       "         -3.06326935e-04-4.05987610e-05j, -2.40191802e-04+3.96613320e-04j,\n",
       "          3.64558967e-05+1.66364428e-04j, -1.60103860e-04+2.73530919e-04j,\n",
       "          2.27217755e-04+3.60174249e-04j,  1.33965632e-04+1.91126426e-05j,\n",
       "          1.04661643e-04+3.05830086e-04j,  4.23802454e-04+1.13539975e-05j,\n",
       "          9.73677446e-05-5.56142119e-05j,  3.35431310e-04+3.86055896e-05j,\n",
       "          2.21486542e-04-3.16818806e-04j,  5.17421555e-05-9.38189650e-05j,\n",
       "          2.24051796e-04-2.97389898e-04j, -1.60961934e-04-2.90708908e-04j,\n",
       "         -1.03645660e-05-1.30709454e-04j, -1.93650900e-04-3.05459969e-04j,\n",
       "         -2.85690414e-04-9.22703399e-06j, -1.32664580e-04-3.75923734e-05j,\n",
       "         -3.07948373e-04+6.33329882e-05j, -9.14842362e-05+2.23536358e-04j,\n",
       "         -7.24612757e-05+1.08807350e-04j, -3.46835687e-05+2.21888532e-04j,\n",
       "          1.18237487e-04+1.30817814e-04j,  4.78673393e-05+7.90795880e-05j,\n",
       "          1.30605038e-04+7.35141225e-05j,  9.15525052e-05-2.44558676e-05j,\n",
       "          6.56904764e-05-2.74115477e-07j]]),)"
      ]
     },
     "execution_count": 4,
     "metadata": {},
     "output_type": "execute_result"
    }
   ],
   "source": [
    "path = r\"C:\\Users\\sqil\\Desktop\\code\\sqil-experiments\\measurements\\data_local\\2025-05-12\\00009-rr spectroscopy_2025-05-12T225744\"\n",
    "\n",
    "data = sqil.extract_h5_data(path, [\"data\"])\n",
    "\n",
    "# plt.plot(freq, np.abs(data))\n",
    "# plt.show()\n",
    "\n",
    "\n",
    "data"
   ]
  },
  {
   "cell_type": "code",
   "execution_count": null,
   "id": "1a635a58",
   "metadata": {},
   "outputs": [],
   "source": [
    "from plottr.data.datadict import DataDict\n",
    "import numpy as np\n",
    "\n",
    "# Create a DataDict with explicit 1D configuration\n",
    "datadict = DataDict(\n",
    "    ro_freq=dict(unit=\"Hz\"),  # Axis: ro_freq as 1D\n",
    "    data=dict(axes=[\"ro_freq\"], unit=\"\"),  # Data: associated with ro_freq\n",
    ")\n",
    "datadict.validate()\n",
    "\n",
    "# Simulated 1D data\n",
    "ro_freq = np.linspace(1e9, 2e9, 101)  # 1D array\n",
    "raw_data = np.random.rand(101)  # 1D array\n",
    "\n",
    "# Enforce 1D shape explicitly\n",
    "ro_freq = np.atleast_1d(ro_freq)  # Ensure it's 1D\n",
    "raw_data = np.atleast_1d(raw_data)  # Ensure it's 1D\n",
    "\n",
    "# Adding data to the writer\n",
    "writer.add_data(ro_freq=ro_freq, data=raw_data)\n",
    "print(\"Data successfully added to DataDict\")"
   ]
  }
 ],
 "metadata": {
  "kernelspec": {
   "display_name": "sqil-experiments-gl8RHkKX-py3.12",
   "language": "python",
   "name": "python3"
  },
  "language_info": {
   "codemirror_mode": {
    "name": "ipython",
    "version": 3
   },
   "file_extension": ".py",
   "mimetype": "text/x-python",
   "name": "python",
   "nbconvert_exporter": "python",
   "pygments_lexer": "ipython3",
   "version": "3.12.7"
  }
 },
 "nbformat": 4,
 "nbformat_minor": 5
}
