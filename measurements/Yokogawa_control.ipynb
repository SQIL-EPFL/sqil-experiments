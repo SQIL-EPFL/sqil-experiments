{
 "cells": [
  {
   "cell_type": "code",
   "execution_count": 1,
   "id": "2f6ee27e-a2fa-4c32-a5eb-304173f1fde4",
   "metadata": {
    "tags": []
   },
   "outputs": [],
   "source": [
    "import numpy as np\n",
    "from qcodes.instrument_drivers.yokogawa import YokogawaGS200"
   ]
  },
  {
   "cell_type": "code",
   "execution_count": 2,
   "id": "5c3c3c03-e5b4-4319-8005-57fc996118de",
   "metadata": {
    "tags": []
   },
   "outputs": [
    {
     "name": "stdout",
     "output_type": "stream",
     "text": [
      "Connected to: YOKOGAWA GS210 (serial:90Z613150, firmware:2.02) in 0.10s\n"
     ]
    }
   ],
   "source": [
    "gs = YokogawaGS200(\"gs200\", r'TCPIP0::192.168.1.60::inst0::INSTR')"
   ]
  },
  {
   "cell_type": "code",
   "execution_count": 25,
   "id": "b5577fdb-ab66-47a8-a843-c82854505c0f",
   "metadata": {
    "tags": []
   },
   "outputs": [],
   "source": [
    "gs.current_range(10e-3)"
   ]
  },
  {
   "cell_type": "code",
   "execution_count": 26,
   "id": "ef9d76cb-d7cd-4e90-b9af-e1ec03c9e6c3",
   "metadata": {
    "tags": []
   },
   "outputs": [],
   "source": [
    "# current_range = np.linspace(0,,1)\n",
    "# gs.source_mode('CURR')\n",
    "# gs.current(0)\n",
    "# gs_voltage_lim = 5 # [V]\n",
    "# gs.voltage_limit(gs_voltage_lim)\n",
    "# gs_current_range = 10000e-6\n",
    "# gs.current_range(gs_current_range)\n",
    "rampstep=1e-6\n",
    "current = -0.995e-3\n",
    "delay = 500e-6\n",
    "# gs.on()\n",
    "gs.ramp_current(current, rampstep, delay)"
   ]
  },
  {
   "cell_type": "code",
   "execution_count": 9,
   "id": "73c42927-7665-4327-a68d-1a9817076818",
   "metadata": {
    "tags": []
   },
   "outputs": [],
   "source": [
    "gs.ramp_current(0, rampstep, delay)"
   ]
  },
  {
   "cell_type": "code",
   "execution_count": 3,
   "id": "ab6ba581-bf91-4f93-a685-da9e102259c9",
   "metadata": {},
   "outputs": [],
   "source": [
    "gs.close()"
   ]
  },
  {
   "cell_type": "code",
   "execution_count": null,
   "id": "f7dab86c-a814-4b30-922c-a124018a06c7",
   "metadata": {},
   "outputs": [],
   "source": []
  }
 ],
 "metadata": {
  "kernelspec": {
   "display_name": "Python 3 (ipykernel)",
   "language": "python",
   "name": "python3"
  },
  "language_info": {
   "codemirror_mode": {
    "name": "ipython",
    "version": 3
   },
   "file_extension": ".py",
   "mimetype": "text/x-python",
   "name": "python",
   "nbconvert_exporter": "python",
   "pygments_lexer": "ipython3",
   "version": "3.12.4"
  }
 },
 "nbformat": 4,
 "nbformat_minor": 5
}
