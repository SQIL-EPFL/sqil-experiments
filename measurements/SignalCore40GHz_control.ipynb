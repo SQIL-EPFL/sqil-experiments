{
 "cells": [
  {
   "cell_type": "markdown",
   "id": "03eee727-18c0-4abf-91c1-829108d6a2bf",
   "metadata": {},
   "source": [
    "### Signal Core Control\n",
    "There is an issue in the driver.\n",
    "\n",
    "https://github.com/QCoDeS/Qcodes_contrib_drivers/blob/main/src/qcodes_contrib_drivers/drivers/SignalCore/SignalCore.py\n",
    "\n",
    "Even after closing the connection by`sc.close()`, you cannot get connection again with `sc = SC5521A('mw1')`. You have to restart the kernel."
   ]
  },
  {
   "cell_type": "code",
   "execution_count": 1,
   "id": "dec4a0dc-983e-49b2-9555-220cbcec37a9",
   "metadata": {
    "tags": []
   },
   "outputs": [],
   "source": [
    "from qcodes_contrib_drivers.drivers.SignalCore.SignalCore import SC5521A"
   ]
  },
  {
   "cell_type": "code",
   "execution_count": 3,
   "id": "43021e0d-9ca2-408e-a517-18bec1b8d0f5",
   "metadata": {
    "tags": []
   },
   "outputs": [
    {
     "name": "stdout",
     "output_type": "stream",
     "text": [
      "Connected to: SignalCore SC5521A (serial:268450462, firmware:4.199999809265137) in 0.05s\n"
     ]
    }
   ],
   "source": [
    "sc = SC5521A('mw1')"
   ]
  },
  {
   "cell_type": "code",
   "execution_count": 8,
   "id": "a1bf6450-d89e-4070-947a-5794a513c023",
   "metadata": {},
   "outputs": [
    {
     "name": "stdout",
     "output_type": "stream",
     "text": [
      "mw1:\n",
      "\tparameter      value\n",
      "--------------------------------------------------------------------------------\n",
      "IDN             :\t{'vendor': 'SignalCore', 'model': 'SC5521A', 'serial': 2684...\n",
      "clock_frequency :\t10 (MHz)\n",
      "clock_reference :\tinternal \n",
      "frequency       :\t1.7e+10 (Hz)\n",
      "power           :\t15 (dbm)\n",
      "rf_mode         :\tsingle_tone \n",
      "status          :\ton \n",
      "temperature     :\t37.531 (celsius)\n"
     ]
    }
   ],
   "source": [
    "sc.print_readable_snapshot(update=True)"
   ]
  },
  {
   "cell_type": "code",
   "execution_count": 4,
   "id": "641a730d-e65d-4a91-ba8e-e564d9f1818e",
   "metadata": {
    "scrolled": true
   },
   "outputs": [
    {
     "data": {
      "text/plain": [
       "{'vendor': 'SignalCore',\n",
       " 'model': 'SC5521A',\n",
       " 'serial': 268450462,\n",
       " 'firmware': 4.199999809265137,\n",
       " 'hardware': 6.0,\n",
       " 'manufacture_date': '2023-12-12 at 15h'}"
      ]
     },
     "execution_count": 4,
     "metadata": {},
     "output_type": "execute_result"
    }
   ],
   "source": [
    "sc.get_idn()"
   ]
  },
  {
   "cell_type": "code",
   "execution_count": 5,
   "id": "1573bfc5-8adb-48bb-ac97-19ecf5ac3496",
   "metadata": {},
   "outputs": [],
   "source": [
    "sc.clock_reference('internal')"
   ]
  },
  {
   "cell_type": "code",
   "execution_count": 6,
   "id": "283e35ac-05eb-4e34-bee2-f789a04b7ab3",
   "metadata": {},
   "outputs": [],
   "source": [
    "sc.clock_reference('external')"
   ]
  },
  {
   "cell_type": "code",
   "execution_count": 5,
   "id": "1b5f3cc0-8546-4c36-a53a-20051211b03b",
   "metadata": {},
   "outputs": [],
   "source": [
    "sc.clock_frequency(10)"
   ]
  },
  {
   "cell_type": "code",
   "execution_count": 36,
   "id": "4b24312d-7258-48d6-8b85-7113c7fdfd19",
   "metadata": {
    "tags": []
   },
   "outputs": [],
   "source": [
    "sc.frequency(17e9)"
   ]
  },
  {
   "cell_type": "code",
   "execution_count": 6,
   "id": "4d8c3786-15c2-4c37-bd5f-75aa6fb35d73",
   "metadata": {
    "tags": []
   },
   "outputs": [
    {
     "data": {
      "text/plain": [
       "17000000000.0"
      ]
     },
     "execution_count": 6,
     "metadata": {},
     "output_type": "execute_result"
    }
   ],
   "source": [
    "sc.frequency()"
   ]
  },
  {
   "cell_type": "code",
   "execution_count": 9,
   "id": "cee7eaaa-9f13-433d-b9b2-7651e45a3d13",
   "metadata": {
    "tags": []
   },
   "outputs": [],
   "source": [
    "sc.power(15)"
   ]
  },
  {
   "cell_type": "markdown",
   "id": "821dd5ca-1645-4575-bcf6-c2ce5cd53749",
   "metadata": {
    "tags": []
   },
   "source": [
    "##### sc.power()"
   ]
  },
  {
   "cell_type": "code",
   "execution_count": 7,
   "id": "57499170-b95f-4a89-949e-c2bc14bae79e",
   "metadata": {
    "tags": []
   },
   "outputs": [],
   "source": [
    "sc.status('on')"
   ]
  },
  {
   "cell_type": "code",
   "execution_count": 9,
   "id": "1afcd76a-5788-458f-9a6d-b7c6c32d06e0",
   "metadata": {
    "tags": []
   },
   "outputs": [],
   "source": [
    "sc.status('off')"
   ]
  },
  {
   "cell_type": "code",
   "execution_count": 45,
   "id": "f24be8ab-2eca-483d-bd01-e10a5797889d",
   "metadata": {},
   "outputs": [
    {
     "data": {
      "text/plain": [
       "'off'"
      ]
     },
     "execution_count": 45,
     "metadata": {},
     "output_type": "execute_result"
    }
   ],
   "source": [
    "sc.status()"
   ]
  },
  {
   "cell_type": "code",
   "execution_count": 7,
   "id": "83b44922-dcff-492b-8923-95f8ebcdec19",
   "metadata": {
    "tags": []
   },
   "outputs": [],
   "source": [
    "sc.close()"
   ]
  },
  {
   "cell_type": "code",
   "execution_count": null,
   "id": "0353124c-c192-4f22-929a-80e0622a3c0b",
   "metadata": {},
   "outputs": [],
   "source": []
  }
 ],
 "metadata": {
  "kernelspec": {
   "display_name": "Python 3 (ipykernel)",
   "language": "python",
   "name": "python3"
  },
  "language_info": {
   "codemirror_mode": {
    "name": "ipython",
    "version": 3
   },
   "file_extension": ".py",
   "mimetype": "text/x-python",
   "name": "python",
   "nbconvert_exporter": "python",
   "pygments_lexer": "ipython3",
   "version": "3.12.4"
  }
 },
 "nbformat": 4,
 "nbformat_minor": 5
}
