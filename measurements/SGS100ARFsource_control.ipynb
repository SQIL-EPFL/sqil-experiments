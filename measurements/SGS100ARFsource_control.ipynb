{
 "cells": [
  {
   "cell_type": "code",
   "execution_count": 1,
   "id": "47a9f690-1b93-4e37-b00f-f1a31427789e",
   "metadata": {},
   "outputs": [],
   "source": [
    "from qcodes.instrument_drivers.rohde_schwarz import RohdeSchwarzSGS100A"
   ]
  },
  {
   "cell_type": "code",
   "execution_count": 2,
   "id": "d924db6d-83e9-4a73-be93-20405d02cda0",
   "metadata": {},
   "outputs": [
    {
     "name": "stdout",
     "output_type": "stream",
     "text": [
      "Connected to: Rohde&Schwarz SGS100A (serial:1416.0505k02/114906, firmware:4.2.366.0-5.00.232.72) in 0.11s\n"
     ]
    }
   ],
   "source": [
    "# sgsa = RohdeSchwarzSGS100A(\"SGSA100\", \"TCPIP0::128.178.120.129::inst0::INSTR\")\n",
    "sgsa = RohdeSchwarzSGS100A(\"SGSA100\", \"USB::0x0AAD::0x0088::114906::INSTR\")"
   ]
  },
  {
   "cell_type": "code",
   "execution_count": 3,
   "id": "8642b900-afd0-4af7-b2fa-785a06cbb7f1",
   "metadata": {},
   "outputs": [
    {
     "name": "stdout",
     "output_type": "stream",
     "text": [
      "SGSA100:\n",
      "\tparameter                      value\n",
      "--------------------------------------------------------------------------------\n",
      "IDN                             :\t{'vendor': 'Rohde&Schwarz', 'model': 'SGS10...\n",
      "IQ_angle                        :\t0 \n",
      "IQ_gain_imbalance               :\t0 \n",
      "IQ_impairments                  :\tFalse \n",
      "IQ_state                        :\tFalse \n",
      "I_offset                        :\t0 \n",
      "LO_source                       :\tINT \n",
      "Q_offset                        :\t0 \n",
      "frequency                       :\t4.7e+09 (Hz)\n",
      "phase                           :\t0 (deg)\n",
      "power                           :\t10 (dBm)\n",
      "pulsemod_delay                  :\t1e-08 (s)\n",
      "pulsemod_double_delay           :\t2e-06 (s)\n",
      "pulsemod_double_width           :\t3e-06 (s)\n",
      "pulsemod_mode                   :\tSING \n",
      "pulsemod_period                 :\t1e-05 (s)\n",
      "pulsemod_polarity               :\tNORM \n",
      "pulsemod_source                 :\tINT \n",
      "pulsemod_state                  :\tFalse \n",
      "pulsemod_trig_ext_gate_polarity :\tNORM \n",
      "pulsemod_trig_ext_impedance     :\tG50 \n",
      "pulsemod_trig_ext_slope         :\tPOS \n",
      "pulsemod_trig_mode              :\tAUTO \n",
      "pulsemod_width                  :\t2e-06 (s)\n",
      "ref_LO_out                      :\tREF \n",
      "ref_osc_external_freq           :\t10MHZ \n",
      "ref_osc_output_freq             :\t10MHZ \n",
      "ref_osc_source                  :\tEXT \n",
      "status                          :\tTrue \n",
      "timeout                         :\t5 (s)\n",
      "trigger_connector_mode          :\tSVAL \n"
     ]
    }
   ],
   "source": [
    "sgsa.print_readable_snapshot(update=True)"
   ]
  },
  {
   "cell_type": "code",
   "execution_count": 18,
   "id": "c1c4848d-d3be-4436-ba06-76615ce1b9e6",
   "metadata": {},
   "outputs": [],
   "source": [
    "sgsa.pulsemod_state(0)"
   ]
  },
  {
   "cell_type": "code",
   "execution_count": 6,
   "id": "8e3b4197-4351-4930-8b64-c58b2aa62b24",
   "metadata": {},
   "outputs": [],
   "source": [
    "# set a power and a frequency\n",
    "sgsa.frequency(4.8e9)\n",
    "sgsa.power(-10)"
   ]
  },
  {
   "cell_type": "code",
   "execution_count": 11,
   "id": "6f5895d4-93a6-46fc-a895-9cfb11c8b8b2",
   "metadata": {},
   "outputs": [],
   "source": [
    "# start RF output\n",
    "sgsa.status(True)"
   ]
  },
  {
   "cell_type": "code",
   "execution_count": 12,
   "id": "044de923-b5b9-42a5-ba4f-f281a2911eac",
   "metadata": {},
   "outputs": [],
   "source": [
    "# stop RF outout\n",
    "sgsa.status(False)"
   ]
  },
  {
   "cell_type": "code",
   "execution_count": 13,
   "id": "cab6a04e-91ec-48a0-be9b-9d5462468e99",
   "metadata": {},
   "outputs": [],
   "source": [
    "sgsa.close()"
   ]
  },
  {
   "cell_type": "code",
   "execution_count": null,
   "id": "2eb7c020-66fc-4e30-90e4-bde441a1b86b",
   "metadata": {},
   "outputs": [],
   "source": []
  }
 ],
 "metadata": {
  "kernelspec": {
   "display_name": "Python 3 (ipykernel)",
   "language": "python",
   "name": "python3"
  },
  "language_info": {
   "codemirror_mode": {
    "name": "ipython",
    "version": 3
   },
   "file_extension": ".py",
   "mimetype": "text/x-python",
   "name": "python",
   "nbconvert_exporter": "python",
   "pygments_lexer": "ipython3",
   "version": "3.12.4"
  }
 },
 "nbformat": 4,
 "nbformat_minor": 5
}
