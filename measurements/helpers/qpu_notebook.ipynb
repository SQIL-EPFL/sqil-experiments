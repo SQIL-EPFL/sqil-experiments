{
 "cells": [
  {
   "cell_type": "markdown",
   "id": "8d0bbde3",
   "metadata": {},
   "source": [
    "### Helpers"
   ]
  },
  {
   "cell_type": "code",
   "execution_count": 42,
   "id": "3a8921f7",
   "metadata": {},
   "outputs": [],
   "source": [
    "from pprint import pprint\n",
    "\n",
    "def get_physical_signal_name(setup, quid, signal_name):\n",
    "    logical_signal = setup.logical_signal_groups[quid].logical_signals[signal_name]\n",
    "    return logical_signal.physical_channel.uid\n",
    "\n",
    "\n",
    "def print_qpu_signals(setup):\n",
    "    qubit_signals = {\n",
    "        quid: list(lsg.logical_signals) for quid, lsg in setup.logical_signal_groups.items()\n",
    "    }\n",
    "    connections = {\n",
    "        quid: {sig_name: get_physical_signal_name(setup, quid, sig_name) for sig_name in signals}\n",
    "        for quid, signals in qubit_signals.items()\n",
    "    }\n",
    "\n",
    "\n",
    "    pprint(connections)"
   ]
  },
  {
   "cell_type": "markdown",
   "id": "ad70118a",
   "metadata": {},
   "source": [
    "### Simple setup"
   ]
  },
  {
   "cell_type": "code",
   "execution_count": 43,
   "id": "172d6a96",
   "metadata": {},
   "outputs": [
    {
     "name": "stdout",
     "output_type": "stream",
     "text": [
      "{'q0': {'acquire': 'SHFQC_DEV12001/qachannels_0_input',\n",
      "        'drive': 'SHFQC_DEV12001/sgchannels_0_output',\n",
      "        'drive_ef': 'SHFQC_DEV12001/sgchannels_0_output',\n",
      "        'measure': 'SHFQC_DEV12001/qachannels_0_output'},\n",
      " 'q1': {'acquire': 'SHFQC_DEV12001/qachannels_0_input',\n",
      "        'drive': 'SHFQC_DEV12001/sgchannels_1_output',\n",
      "        'drive_ef': 'SHFQC_DEV12001/sgchannels_1_output',\n",
      "        'measure': 'SHFQC_DEV12001/qachannels_0_output'}}\n"
     ]
    }
   ],
   "source": [
    "# Setting get_zsync=True automatically detects the zsync ports of the PQCS that\n",
    "# are used by the other instruments in this descriptor.\n",
    "\n",
    "from laboneq.contrib.example_helpers.generate_descriptor import generate_descriptor\n",
    "from laboneq.simple import DeviceSetup\n",
    "\n",
    "descriptor = generate_descriptor(\n",
    "    pqsc=[\"DEV10001\"],\n",
    "    hdawg_8=[\"DEV8001\"],\n",
    "    shfqc_6=[\"DEV12001\"],\n",
    "    number_data_qubits=2,\n",
    "    number_flux_lines=0,\n",
    "    include_cr_lines=False,\n",
    "    multiplex=True,\n",
    "    number_multiplex=2,\n",
    "    get_zsync=False,\n",
    "    ip_address=\"localhost\",\n",
    ")\n",
    "setup = DeviceSetup.from_descriptor(descriptor, \"localhost\")\n",
    "\n",
    "print_qpu_signals(setup)"
   ]
  },
  {
   "cell_type": "markdown",
   "id": "f6421d8f",
   "metadata": {},
   "source": [
    "### Advanced setup"
   ]
  },
  {
   "cell_type": "code",
   "execution_count": 44,
   "id": "97b38a58",
   "metadata": {},
   "outputs": [
    {
     "name": "stdout",
     "output_type": "stream",
     "text": [
      "{'q0': {'acquire': 'shfqc_0/qachannels_0_input',\n",
      "        'drive': 'shfqc_0/sgchannels_0_output',\n",
      "        'drive_ef': 'shfqc_0/sgchannels_0_output',\n",
      "        'measure': 'shfqc_0/qachannels_0_output'},\n",
      " 'q1': {'acquire': 'shfqc_0/qachannels_0_input',\n",
      "        'drive': 'shfqc_0/sgchannels_1_output',\n",
      "        'drive_ef': 'shfqc_0/sgchannels_1_output',\n",
      "        'measure': 'shfqc_0/qachannels_0_output'}}\n"
     ]
    }
   ],
   "source": [
    "from laboneq.contrib.example_helpers.generate_device_setup import (\n",
    "    generate_device_setup,\n",
    ")\n",
    "\n",
    "# specify the number of qubits you want to use\n",
    "number_of_qubits = 2\n",
    "\n",
    "# generate the device setup using a helper function\n",
    "setup = generate_device_setup(\n",
    "    number_qubits=number_of_qubits,\n",
    "    pqsc=[{\"serial\": \"DEV10001\"}],\n",
    "    hdawg=[\n",
    "        {\n",
    "            \"serial\": \"DEV8001\",\n",
    "            \"zsync\": 0,\n",
    "            \"number_of_channels\": 8,\n",
    "            \"options\": \"HDAWG8/CNT/MF/ME\",\n",
    "        }\n",
    "    ],\n",
    "    shfqc=[\n",
    "        {\n",
    "            \"serial\": \"DEV12001\",\n",
    "            \"zsync\": 1,\n",
    "            \"number_of_channels\": 2*number_of_qubits,\n",
    "            \"readout_multiplex\": number_of_qubits,\n",
    "            \"options\": \"SHFQC/QC6CH/PLUS/RTR\",\n",
    "        }\n",
    "    ],\n",
    "    include_flux_lines=False,\n",
    "    multiplex_drive_lines=True,  # adds drive_ef\n",
    "    server_host=\"localhost\",\n",
    "    setup_name=\"my_setup\",\n",
    ")\n",
    "\n",
    "\n",
    "# Print signals\n",
    "print_qpu_signals(setup)"
   ]
  }
 ],
 "metadata": {
  "kernelspec": {
   "display_name": "sqil-experiments-_c4Ly4I0-py3.12",
   "language": "python",
   "name": "python3"
  },
  "language_info": {
   "codemirror_mode": {
    "name": "ipython",
    "version": 3
   },
   "file_extension": ".py",
   "mimetype": "text/x-python",
   "name": "python",
   "nbconvert_exporter": "python",
   "pygments_lexer": "ipython3",
   "version": "3.12.8"
  }
 },
 "nbformat": 4,
 "nbformat_minor": 5
}
