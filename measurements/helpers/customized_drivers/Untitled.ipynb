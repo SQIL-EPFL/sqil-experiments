{
 "cells": [
  {
   "cell_type": "code",
   "execution_count": 5,
   "id": "12e1fc1c-20a8-4c7b-840d-af42729faa26",
   "metadata": {},
   "outputs": [],
   "source": [
    "from SignalCore_SC5511A import *"
   ]
  },
  {
   "cell_type": "code",
   "execution_count": 2,
   "id": "d3c185ab-7d07-468c-9b18-119c93330675",
   "metadata": {},
   "outputs": [
    {
     "name": "stdout",
     "output_type": "stream",
     "text": [
      "Following SC5511A 20GHz-SigCores are connected:\n",
      "b'10003C69'\n"
     ]
    }
   ],
   "source": [
    "search_5511()\n",
    "sc=SignalCore_SC5511A(\"SC\",'10003C69')"
   ]
  },
  {
   "cell_type": "code",
   "execution_count": 21,
   "id": "72767a6d-3a78-4674-aca1-6da917cf4c9a",
   "metadata": {},
   "outputs": [
    {
     "data": {
      "text/plain": [
       "0"
      ]
     },
     "execution_count": 21,
     "metadata": {},
     "output_type": "execute_result"
    }
   ],
   "source": [
    "sc.do_set_output_status(1)"
   ]
  },
  {
   "cell_type": "code",
   "execution_count": 17,
   "id": "7ade7fb5-e2e7-4124-a899-26dfeff8cdd6",
   "metadata": {},
   "outputs": [
    {
     "data": {
      "text/plain": [
       "0"
      ]
     },
     "execution_count": 17,
     "metadata": {},
     "output_type": "execute_result"
    }
   ],
   "source": [
    "sc.do_get_output_status()"
   ]
  },
  {
   "cell_type": "code",
   "execution_count": 18,
   "id": "d107b8ca-ece4-4e44-8c25-d077a95222ce",
   "metadata": {},
   "outputs": [
    {
     "data": {
      "text/plain": [
       "0"
      ]
     },
     "execution_count": 18,
     "metadata": {},
     "output_type": "execute_result"
    }
   ],
   "source": [
    "sc.do_set_reference_source(0)"
   ]
  },
  {
   "cell_type": "code",
   "execution_count": 20,
   "id": "6554277b-ff31-4be0-8e26-843697bedbe7",
   "metadata": {},
   "outputs": [
    {
     "data": {
      "text/plain": [
       "0"
      ]
     },
     "execution_count": 20,
     "metadata": {},
     "output_type": "execute_result"
    }
   ],
   "source": [
    "sc.do_get_reference_source()"
   ]
  },
  {
   "cell_type": "code",
   "execution_count": 26,
   "id": "92a2f76f-808f-4c78-9d4e-4d5c117d35e8",
   "metadata": {},
   "outputs": [
    {
     "name": "stdout",
     "output_type": "stream",
     "text": [
      "SC:\n",
      "\tparameter         value\n",
      "--------------------------------------------------------------------------------\n",
      "IDN                :\t{'vendor': 'SignalCore', 'model': 'SC5511A', 'serial_num...\n",
      "auto_level_disable :\t0 \n",
      "frequency          :\t1.335e+10 (Hz)\n",
      "output_status      :\t1 \n",
      "power              :\t-40 (dBm)\n",
      "ref_out_freq       :\t10 \n",
      "reference_source   :\t0 \n",
      "temperature        :\t51.688 (C)\n"
     ]
    }
   ],
   "source": [
    "sc.print_readable_snapshot(update=True)"
   ]
  },
  {
   "cell_type": "code",
   "execution_count": 22,
   "id": "c8cb145e-0d84-4f0e-b2ed-4c1ba97cc4d7",
   "metadata": {},
   "outputs": [
    {
     "data": {
      "text/plain": [
       "0"
      ]
     },
     "execution_count": 22,
     "metadata": {},
     "output_type": "execute_result"
    }
   ],
   "source": [
    "sc.do_set_frequency(13.35e9)"
   ]
  },
  {
   "cell_type": "code",
   "execution_count": 41,
   "id": "cf9cfe97-15e6-4c4f-bfc8-c416ea777ddc",
   "metadata": {},
   "outputs": [
    {
     "data": {
      "text/plain": [
       "0"
      ]
     },
     "execution_count": 41,
     "metadata": {},
     "output_type": "execute_result"
    }
   ],
   "source": [
    "sc.do_set_power(-40)"
   ]
  },
  {
   "cell_type": "code",
   "execution_count": 42,
   "id": "7edab0fc-3bc5-4067-930c-1096b1c52cf7",
   "metadata": {},
   "outputs": [
    {
     "data": {
      "text/plain": [
       "0"
      ]
     },
     "execution_count": 42,
     "metadata": {},
     "output_type": "execute_result"
    }
   ],
   "source": [
    "sc.do_set_output_status(0)"
   ]
  },
  {
   "cell_type": "code",
   "execution_count": 43,
   "id": "f1fa4dbe-cfc3-4707-9f30-e9007175c6f5",
   "metadata": {},
   "outputs": [
    {
     "data": {
      "text/plain": [
       "0"
      ]
     },
     "execution_count": 43,
     "metadata": {},
     "output_type": "execute_result"
    }
   ],
   "source": [
    "sc.do_get_output_status()"
   ]
  },
  {
   "cell_type": "code",
   "execution_count": 44,
   "id": "f111a56a-4c0f-42ef-b50b-a871277f0c3c",
   "metadata": {},
   "outputs": [
    {
     "data": {
      "text/plain": [
       "0"
      ]
     },
     "execution_count": 44,
     "metadata": {},
     "output_type": "execute_result"
    }
   ],
   "source": [
    "sc.do_get_reference_source()"
   ]
  },
  {
   "cell_type": "code",
   "execution_count": 4,
   "id": "08d63f2f-6f04-4717-834b-f1cdc84a7c43",
   "metadata": {},
   "outputs": [
    {
     "ename": "AttributeError",
     "evalue": "function '_device_status' not found",
     "output_type": "error",
     "traceback": [
      "\u001b[1;31m---------------------------------------------------------------------------\u001b[0m",
      "\u001b[1;31mAttributeError\u001b[0m                            Traceback (most recent call last)",
      "Cell \u001b[1;32mIn[4], line 1\u001b[0m\n\u001b[1;32m----> 1\u001b[0m sc\u001b[38;5;241m.\u001b[39m_get_clock_reference()\n",
      "File \u001b[1;32mZ:\\Projects\\HighTempFluxonium\\Measurement\\measurement_codes\\helpers\\customized_drivers\\SignalCore_SC5511A.py:310\u001b[0m, in \u001b[0;36mSignalCore_SC5511A._get_clock_reference\u001b[1;34m(self)\u001b[0m\n\u001b[0;32m    309\u001b[0m \u001b[38;5;28;01mdef\u001b[39;00m \u001b[38;5;21m_get_clock_reference\u001b[39m(\u001b[38;5;28mself\u001b[39m) \u001b[38;5;241m-\u001b[39m\u001b[38;5;241m>\u001b[39m \u001b[38;5;28mstr\u001b[39m:\n\u001b[1;32m--> 310\u001b[0m     \u001b[38;5;28mself\u001b[39m\u001b[38;5;241m.\u001b[39m_dll\u001b[38;5;241m.\u001b[39m_device_status\u001b[38;5;241m.\u001b[39moperate_status_t\u001b[38;5;241m.\u001b[39mext_ref_lock_enable(\u001b[38;5;28mself\u001b[39m\u001b[38;5;241m.\u001b[39m_handle, ctypes\u001b[38;5;241m.\u001b[39mbyref(device_status_t))\n\u001b[0;32m    311\u001b[0m     ext_ref_detect \u001b[38;5;241m=\u001b[39m device_status_t\u001b[38;5;241m.\u001b[39moperate_status_t\u001b[38;5;241m.\u001b[39mext_ref_detect\n\u001b[0;32m    312\u001b[0m     \u001b[38;5;28;01mif\u001b[39;00m ext_ref_detect \u001b[38;5;241m==\u001b[39m \u001b[38;5;241m1\u001b[39m:\n",
      "File \u001b[1;32m~\\AppData\\Local\\anaconda3\\envs\\qubit1\\Lib\\ctypes\\__init__.py:392\u001b[0m, in \u001b[0;36mCDLL.__getattr__\u001b[1;34m(self, name)\u001b[0m\n\u001b[0;32m    390\u001b[0m \u001b[38;5;28;01mif\u001b[39;00m name\u001b[38;5;241m.\u001b[39mstartswith(\u001b[38;5;124m'\u001b[39m\u001b[38;5;124m__\u001b[39m\u001b[38;5;124m'\u001b[39m) \u001b[38;5;129;01mand\u001b[39;00m name\u001b[38;5;241m.\u001b[39mendswith(\u001b[38;5;124m'\u001b[39m\u001b[38;5;124m__\u001b[39m\u001b[38;5;124m'\u001b[39m):\n\u001b[0;32m    391\u001b[0m     \u001b[38;5;28;01mraise\u001b[39;00m \u001b[38;5;167;01mAttributeError\u001b[39;00m(name)\n\u001b[1;32m--> 392\u001b[0m func \u001b[38;5;241m=\u001b[39m \u001b[38;5;28mself\u001b[39m\u001b[38;5;241m.\u001b[39m\u001b[38;5;21m__getitem__\u001b[39m(name)\n\u001b[0;32m    393\u001b[0m \u001b[38;5;28msetattr\u001b[39m(\u001b[38;5;28mself\u001b[39m, name, func)\n\u001b[0;32m    394\u001b[0m \u001b[38;5;28;01mreturn\u001b[39;00m func\n",
      "File \u001b[1;32m~\\AppData\\Local\\anaconda3\\envs\\qubit1\\Lib\\ctypes\\__init__.py:397\u001b[0m, in \u001b[0;36mCDLL.__getitem__\u001b[1;34m(self, name_or_ordinal)\u001b[0m\n\u001b[0;32m    396\u001b[0m \u001b[38;5;28;01mdef\u001b[39;00m \u001b[38;5;21m__getitem__\u001b[39m(\u001b[38;5;28mself\u001b[39m, name_or_ordinal):\n\u001b[1;32m--> 397\u001b[0m     func \u001b[38;5;241m=\u001b[39m \u001b[38;5;28mself\u001b[39m\u001b[38;5;241m.\u001b[39m_FuncPtr((name_or_ordinal, \u001b[38;5;28mself\u001b[39m))\n\u001b[0;32m    398\u001b[0m     \u001b[38;5;28;01mif\u001b[39;00m \u001b[38;5;129;01mnot\u001b[39;00m \u001b[38;5;28misinstance\u001b[39m(name_or_ordinal, \u001b[38;5;28mint\u001b[39m):\n\u001b[0;32m    399\u001b[0m         func\u001b[38;5;241m.\u001b[39m\u001b[38;5;18m__name__\u001b[39m \u001b[38;5;241m=\u001b[39m name_or_ordinal\n",
      "\u001b[1;31mAttributeError\u001b[0m: function '_device_status' not found"
     ]
    }
   ],
   "source": []
  },
  {
   "cell_type": "code",
   "execution_count": null,
   "id": "150f687a-2531-4ae0-8f13-289e39137932",
   "metadata": {},
   "outputs": [],
   "source": []
  },
  {
   "cell_type": "code",
   "execution_count": null,
   "id": "bf38b05c-f75e-439e-91d7-47fd70b70651",
   "metadata": {},
   "outputs": [],
   "source": []
  }
 ],
 "metadata": {
  "kernelspec": {
   "display_name": "Python 3 (ipykernel)",
   "language": "python",
   "name": "python3"
  },
  "language_info": {
   "codemirror_mode": {
    "name": "ipython",
    "version": 3
   },
   "file_extension": ".py",
   "mimetype": "text/x-python",
   "name": "python",
   "nbconvert_exporter": "python",
   "pygments_lexer": "ipython3",
   "version": "3.12.4"
  }
 },
 "nbformat": 4,
 "nbformat_minor": 5
}
