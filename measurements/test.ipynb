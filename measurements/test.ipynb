{
 "cells": [
  {
   "cell_type": "code",
   "execution_count": 1,
   "id": "3fa84856",
   "metadata": {},
   "outputs": [
    {
     "name": "stdout",
     "output_type": "stream",
     "text": [
      "484e0fbec4043279f7eef813c84b5f55b7939b3a8bf01e3a59824e6ea1055a81\u001b[0m \u001b[0m484e0fbec4043279f7eef813c84b5f55b7939b3a8bf01e3a59824e6ea1055a81\u001b[0m\n"
     ]
    },
    {
     "name": "stderr",
     "output_type": "stream",
     "text": [
      "2025-04-28 20:19:19,385 - \u001b[32mINFO\u001b[0m - Connected to the instruments server\n",
      "\u001b[0m2025-04-28 20:19:19,386 - \u001b[32mINFO\u001b[0m -  instruments: ['sgs', 'zi']\n",
      "\u001b[0m"
     ]
    },
    {
     "name": "stdout",
     "output_type": "stream",
     "text": [
      "\u001b[0m"
     ]
    }
   ],
   "source": [
    "from typing import cast\n",
    "\n",
    "import sqil_core as sqil\n",
    "from sqil_core.config_log import logger\n",
    "\n",
    "# Connect to the server and retrieve instruments\n",
    "server, instruments = sqil.experiment.link_instrument_server()\n",
    "\n",
    "# Check available instruments\n",
    "logger.info(\"Connected to the instruments server\")\n",
    "logger.info(f\" instruments: {list(instruments.keys())}\")\n",
    "\n",
    "# Do something\n",
    "# sgs = cast(sqil.experiment.LocalOscillator, instruments[\"sgs\"])\n",
    "# logger.debug(\"Requesting SGS frequency change to 11 GHz\")\n",
    "# sgs.frequency(11e9)\n",
    "zi_session = instruments[\"zi\"]\n",
    "\n",
    "\n",
    "# Disconnect from the instrument server and release variables\n",
    "sqil.experiment.unlink_instrument_server(server, **instruments)"
   ]
  },
  {
   "cell_type": "code",
   "execution_count": null,
   "id": "22a0cbab",
   "metadata": {},
   "outputs": [
    {
     "name": "stdout",
     "output_type": "stream",
     "text": [
      "484e0fbec4043279f7eef813c84b5f55b7939b3a8bf01e3a59824e6ea1055a81\u001b[0m \u001b[0m484e0fbec4043279f7eef813c84b5f55b7939b3a8bf01e3a59824e6ea1055a81\u001b[0m\n",
      "\u001b[0m[2025.04.28 20:21:30.434] INFO    Logging initialized from [Default inline config in laboneq.laboneq_logging] logdir is c:\\Users\\sqil\\Desktop\\code\\sqil-experiments\\measurements\\laboneq_output\\log\n",
      "\u001b[0m"
     ]
    },
    {
     "name": "stderr",
     "output_type": "stream",
     "text": [
      "2025-04-28 20:21:30,435 - \u001b[32mINFO\u001b[0m - Turning on local oscillators before experiment\n",
      "\u001b[0m"
     ]
    },
    {
     "name": "stdout",
     "output_type": "stream",
     "text": [
      "Hello\u001b[0m\n"
     ]
    },
    {
     "name": "stderr",
     "output_type": "stream",
     "text": [
      "2025-04-28 20:21:30,436 - \u001b[32mINFO\u001b[0m - Turning off local oscillators after experiment\n",
      "\u001b[0m"
     ]
    },
    {
     "name": "stdout",
     "output_type": "stream",
     "text": [
      "\u001b[0m"
     ]
    }
   ],
   "source": [
    "import sqil_core as sqil\n",
    "\n",
    "class Test(sqil.experiment.ExperimentHandler):\n",
    "    def sequence(self):\n",
    "        print(\"Hello\")\n",
    "\n",
    "t = Test()\n",
    "t.run()"
   ]
  },
  {
   "cell_type": "code",
   "execution_count": 1,
   "id": "0fa996fe",
   "metadata": {},
   "outputs": [
    {
     "name": "stdout",
     "output_type": "stream",
     "text": [
      "484e0fbec4043279f7eef813c84b5f55b7939b3a8bf01e3a59824e6ea1055a81\u001b[0m \u001b[0m484e0fbec4043279f7eef813c84b5f55b7939b3a8bf01e3a59824e6ea1055a81\u001b[0m\n",
      "\u001b[0m[2025.04.28 20:38:37.117] INFO    Logging initialized from [Default inline config in laboneq.laboneq_logging] logdir is c:\\Users\\sqil\\Desktop\\code\\sqil-experiments\\measurements\\laboneq_output\\log\n",
      "\u001b[0m[2025.04.28 20:38:37.117] INFO    VERSION: laboneq 2.50.0\n",
      "\u001b[0m[2025.04.28 20:38:37.117] INFO    Connecting to data server at localhost:8004\n",
      "\u001b[0m[2025.04.28 20:38:37.133] INFO    Connected to Zurich Instruments LabOne Data Server version 25.01.0.834 at localhost:8004\n",
      "\u001b[0m[2025.04.28 20:38:37.185] WARNING SHFQC/QA:dev12183: Include the device options 'SHFQC/QC4CH' in the device setup ('options' field of the 'instruments' list in the device setup descriptor, 'device_options' argument when constructing instrument objects to be added to 'DeviceSetup' instances). This will become a strict requirement in the future.\n",
      "\u001b[0m[2025.04.28 20:38:37.193] INFO    Configuring the device setup\n",
      "\u001b[0m[2025.04.28 20:38:37.237] INFO    The device setup is configured\n",
      "\u001b[0m"
     ]
    },
    {
     "name": "stderr",
     "output_type": "stream",
     "text": [
      "2025-04-28 20:38:37,237 - \u001b[32mINFO\u001b[0m - Turning on local oscillators before experiment\n",
      "\u001b[0m"
     ]
    },
    {
     "ename": "TypeError",
     "evalue": "unsupported operand type(s) for -: 'float' and 'NoneType'",
     "output_type": "error",
     "traceback": [
      "\u001b[1;31m---------------------------------------------------------------------------\u001b[0m",
      "\u001b[1;31mTypeError\u001b[0m                                 Traceback (most recent call last)",
      "Cell \u001b[1;32mIn[1], line 19\u001b[0m\n\u001b[0;32m     16\u001b[0m         \u001b[38;5;28;01mreturn\u001b[39;00m create_experiment(qpu, qubits[\u001b[38;5;241m0\u001b[39m], np\u001b[38;5;241m.\u001b[39mlinspace(\u001b[38;5;241m5e9\u001b[39m, \u001b[38;5;241m6e9\u001b[39m, \u001b[38;5;241m100\u001b[39m))\n\u001b[0;32m     18\u001b[0m t \u001b[38;5;241m=\u001b[39m Test()\n\u001b[1;32m---> 19\u001b[0m \u001b[43mt\u001b[49m\u001b[38;5;241;43m.\u001b[39;49m\u001b[43mrun\u001b[49m\u001b[43m(\u001b[49m\u001b[43m)\u001b[49m\n",
      "File \u001b[1;32mc:\\Users\\sqil\\AppData\\Local\\pypoetry\\Cache\\virtualenvs\\sqil-experiments-gl8RHkKX-py3.12\\Lib\\site-packages\\sqil_core\\experiment\\_experiment.py:98\u001b[0m, in \u001b[0;36mExperimentHandler.run\u001b[1;34m(self)\u001b[0m\n\u001b[0;32m     95\u001b[0m \u001b[38;5;28;01mdef\u001b[39;00m\u001b[38;5;250m \u001b[39m\u001b[38;5;21mrun\u001b[39m(\u001b[38;5;28mself\u001b[39m):\n\u001b[0;32m     96\u001b[0m     before_experiment\u001b[38;5;241m.\u001b[39msend()\n\u001b[1;32m---> 98\u001b[0m     seq \u001b[38;5;241m=\u001b[39m \u001b[38;5;28;43mself\u001b[39;49m\u001b[38;5;241;43m.\u001b[39;49m\u001b[43msequence\u001b[49m\u001b[43m(\u001b[49m\u001b[43m)\u001b[49m\n\u001b[0;32m     99\u001b[0m     is_laboneq_exp \u001b[38;5;241m=\u001b[39m \u001b[38;5;28mtype\u001b[39m(seq) \u001b[38;5;241m==\u001b[39m LaboneQExperiment\n\u001b[0;32m    100\u001b[0m     result \u001b[38;5;241m=\u001b[39m \u001b[38;5;28;01mNone\u001b[39;00m\n",
      "Cell \u001b[1;32mIn[1], line 16\u001b[0m, in \u001b[0;36mTest.sequence\u001b[1;34m(self)\u001b[0m\n\u001b[0;32m     14\u001b[0m quantum_operations \u001b[38;5;241m=\u001b[39m TunableTransmonOperations()\n\u001b[0;32m     15\u001b[0m qpu \u001b[38;5;241m=\u001b[39m QPU(qubits\u001b[38;5;241m=\u001b[39mqubits, quantum_operations\u001b[38;5;241m=\u001b[39mquantum_operations)\n\u001b[1;32m---> 16\u001b[0m \u001b[38;5;28;01mreturn\u001b[39;00m \u001b[43mcreate_experiment\u001b[49m\u001b[43m(\u001b[49m\u001b[43mqpu\u001b[49m\u001b[43m,\u001b[49m\u001b[43m \u001b[49m\u001b[43mqubits\u001b[49m\u001b[43m[\u001b[49m\u001b[38;5;241;43m0\u001b[39;49m\u001b[43m]\u001b[49m\u001b[43m,\u001b[49m\u001b[43m \u001b[49m\u001b[43mnp\u001b[49m\u001b[38;5;241;43m.\u001b[39;49m\u001b[43mlinspace\u001b[49m\u001b[43m(\u001b[49m\u001b[38;5;241;43m5e9\u001b[39;49m\u001b[43m,\u001b[49m\u001b[43m \u001b[49m\u001b[38;5;241;43m6e9\u001b[39;49m\u001b[43m,\u001b[49m\u001b[43m \u001b[49m\u001b[38;5;241;43m100\u001b[39;49m\u001b[43m)\u001b[49m\u001b[43m)\u001b[49m\n",
      "File \u001b[1;32mc:\\Users\\sqil\\AppData\\Local\\pypoetry\\Cache\\virtualenvs\\sqil-experiments-gl8RHkKX-py3.12\\Lib\\site-packages\\laboneq\\workflow\\variable_tracker.py:77\u001b[0m, in \u001b[0;36mtrack.<locals>.inner\u001b[1;34m(*args, **kwargs)\u001b[0m\n\u001b[0;32m     75\u001b[0m         \u001b[38;5;28;01mfor\u001b[39;00m k, v \u001b[38;5;129;01min\u001b[39;00m frame\u001b[38;5;241m.\u001b[39mf_back\u001b[38;5;241m.\u001b[39mf_locals\u001b[38;5;241m.\u001b[39mitems():\n\u001b[0;32m     76\u001b[0m             ctx\u001b[38;5;241m.\u001b[39madd_variable(k, v)\n\u001b[1;32m---> 77\u001b[0m \u001b[38;5;28;01mreturn\u001b[39;00m \u001b[43mfunc\u001b[49m\u001b[43m(\u001b[49m\u001b[38;5;241;43m*\u001b[39;49m\u001b[43margs\u001b[49m\u001b[43m,\u001b[49m\u001b[43m \u001b[49m\u001b[38;5;241;43m*\u001b[39;49m\u001b[38;5;241;43m*\u001b[39;49m\u001b[43mkwargs\u001b[49m\u001b[43m)\u001b[49m\n",
      "File \u001b[1;32mc:\\Users\\sqil\\AppData\\Local\\pypoetry\\Cache\\virtualenvs\\sqil-experiments-gl8RHkKX-py3.12\\Lib\\site-packages\\laboneq\\workflow\\task_wrapper.py:85\u001b[0m, in \u001b[0;36mtask_.__call__\u001b[1;34m(self, *args, **kwargs)\u001b[0m\n\u001b[0;32m     83\u001b[0m     root\u001b[38;5;241m.\u001b[39mextend(block)\n\u001b[0;32m     84\u001b[0m     \u001b[38;5;28;01mreturn\u001b[39;00m cast(B, block\u001b[38;5;241m.\u001b[39mref)\n\u001b[1;32m---> 85\u001b[0m \u001b[38;5;28;01mreturn\u001b[39;00m \u001b[38;5;28;43mself\u001b[39;49m\u001b[38;5;241;43m.\u001b[39;49m\u001b[43m_func\u001b[49m\u001b[43m(\u001b[49m\u001b[38;5;241;43m*\u001b[39;49m\u001b[43margs\u001b[49m\u001b[43m,\u001b[49m\u001b[43m \u001b[49m\u001b[38;5;241;43m*\u001b[39;49m\u001b[38;5;241;43m*\u001b[39;49m\u001b[43mkwargs\u001b[49m\u001b[43m)\u001b[49m\n",
      "File \u001b[1;32mc:\\Users\\sqil\\AppData\\Local\\pypoetry\\Cache\\virtualenvs\\sqil-experiments-gl8RHkKX-py3.12\\Lib\\site-packages\\laboneq\\dsl\\experiment\\build_experiment.py:200\u001b[0m, in \u001b[0;36mqubit_experiment.<locals>.build_qubit_experiment\u001b[1;34m(*args, **kw)\u001b[0m\n\u001b[0;32m    198\u001b[0m \u001b[38;5;129m@functools\u001b[39m\u001b[38;5;241m.\u001b[39mwraps(exp_func)\n\u001b[0;32m    199\u001b[0m \u001b[38;5;28;01mdef\u001b[39;00m\u001b[38;5;250m \u001b[39m\u001b[38;5;21mbuild_qubit_experiment\u001b[39m(\u001b[38;5;241m*\u001b[39margs, \u001b[38;5;241m*\u001b[39m\u001b[38;5;241m*\u001b[39mkw) \u001b[38;5;241m-\u001b[39m\u001b[38;5;241m>\u001b[39m Experiment:\n\u001b[1;32m--> 200\u001b[0m     \u001b[38;5;28;01mreturn\u001b[39;00m \u001b[43mbuilder\u001b[49m\u001b[43m(\u001b[49m\u001b[38;5;241;43m*\u001b[39;49m\u001b[43margs\u001b[49m\u001b[43m,\u001b[49m\u001b[43m \u001b[49m\u001b[38;5;241;43m*\u001b[39;49m\u001b[38;5;241;43m*\u001b[39;49m\u001b[43mkw\u001b[49m\u001b[43m)\u001b[49m\n",
      "File \u001b[1;32mc:\\Users\\sqil\\AppData\\Local\\pypoetry\\Cache\\virtualenvs\\sqil-experiments-gl8RHkKX-py3.12\\Lib\\site-packages\\laboneq\\dsl\\experiment\\build_experiment.py:125\u001b[0m, in \u001b[0;36mExperimentBuilder.__call__\u001b[1;34m(self, *args, **kw)\u001b[0m\n\u001b[0;32m    123\u001b[0m     exp_calibration\u001b[38;5;241m.\u001b[39mcalibration_items\u001b[38;5;241m.\u001b[39mupdate(calibration)\n\u001b[0;32m    124\u001b[0m     \u001b[38;5;28;01mif\u001b[39;00m \u001b[38;5;28mself\u001b[39m\u001b[38;5;241m.\u001b[39mcontext:\n\u001b[1;32m--> 125\u001b[0m         \u001b[38;5;28;43mself\u001b[39;49m\u001b[38;5;241;43m.\u001b[39;49m\u001b[43mexp_func\u001b[49m\u001b[43m(\u001b[49m\u001b[38;5;241;43m*\u001b[39;49m\u001b[43margs\u001b[49m\u001b[43m,\u001b[49m\u001b[43m \u001b[49m\u001b[38;5;241;43m*\u001b[39;49m\u001b[38;5;241;43m*\u001b[39;49m\u001b[43mkw\u001b[49m\u001b[43m)\u001b[49m\n\u001b[0;32m    127\u001b[0m \u001b[38;5;28;01mif\u001b[39;00m \u001b[38;5;129;01mnot\u001b[39;00m \u001b[38;5;28mself\u001b[39m\u001b[38;5;241m.\u001b[39mcontext:\n\u001b[0;32m    128\u001b[0m     \u001b[38;5;28mself\u001b[39m\u001b[38;5;241m.\u001b[39mexp_func(exp, \u001b[38;5;241m*\u001b[39margs, \u001b[38;5;241m*\u001b[39m\u001b[38;5;241m*\u001b[39mkw)\n",
      "File \u001b[1;32mc:\\Users\\sqil\\Desktop\\code\\sqil-experiments\\measurements\\rr_spec.py:110\u001b[0m, in \u001b[0;36mcreate_experiment\u001b[1;34m(qpu, qubit, frequencies, options)\u001b[0m\n\u001b[0;32m     98\u001b[0m \u001b[38;5;28;01mwith\u001b[39;00m dsl\u001b[38;5;241m.\u001b[39macquire_loop_rt(\n\u001b[0;32m     99\u001b[0m     count\u001b[38;5;241m=\u001b[39mopts\u001b[38;5;241m.\u001b[39mcount,\n\u001b[0;32m    100\u001b[0m     averaging_mode\u001b[38;5;241m=\u001b[39mopts\u001b[38;5;241m.\u001b[39maveraging_mode,\n\u001b[1;32m   (...)\u001b[0m\n\u001b[0;32m    104\u001b[0m     reset_oscillator_phase\u001b[38;5;241m=\u001b[39mopts\u001b[38;5;241m.\u001b[39mreset_oscillator_phase,\n\u001b[0;32m    105\u001b[0m ):\n\u001b[0;32m    106\u001b[0m     \u001b[38;5;28;01mwith\u001b[39;00m dsl\u001b[38;5;241m.\u001b[39msweep(\n\u001b[0;32m    107\u001b[0m         name\u001b[38;5;241m=\u001b[39m\u001b[38;5;124mf\u001b[39m\u001b[38;5;124m\"\u001b[39m\u001b[38;5;124mfreq_\u001b[39m\u001b[38;5;132;01m{\u001b[39;00mqubit\u001b[38;5;241m.\u001b[39muid\u001b[38;5;132;01m}\u001b[39;00m\u001b[38;5;124m\"\u001b[39m,\n\u001b[0;32m    108\u001b[0m         parameter\u001b[38;5;241m=\u001b[39mSweepParameter(\u001b[38;5;124mf\u001b[39m\u001b[38;5;124m\"\u001b[39m\u001b[38;5;124mfrequencies_\u001b[39m\u001b[38;5;132;01m{\u001b[39;00mqubit\u001b[38;5;241m.\u001b[39muid\u001b[38;5;132;01m}\u001b[39;00m\u001b[38;5;124m\"\u001b[39m, frequencies),\n\u001b[0;32m    109\u001b[0m     ) \u001b[38;5;28;01mas\u001b[39;00m frequency:\n\u001b[1;32m--> 110\u001b[0m         \u001b[43mqop\u001b[49m\u001b[38;5;241;43m.\u001b[39;49m\u001b[43mset_frequency\u001b[49m\u001b[43m(\u001b[49m\u001b[43mqubit\u001b[49m\u001b[43m,\u001b[49m\u001b[43m \u001b[49m\u001b[43mfrequency\u001b[49m\u001b[38;5;241;43m=\u001b[39;49m\u001b[43mfrequency\u001b[49m\u001b[43m,\u001b[49m\u001b[43m \u001b[49m\u001b[43mreadout\u001b[49m\u001b[38;5;241;43m=\u001b[39;49m\u001b[38;5;28;43;01mTrue\u001b[39;49;00m\u001b[43m)\u001b[49m\n\u001b[0;32m    111\u001b[0m         \u001b[38;5;28;01mif\u001b[39;00m opts\u001b[38;5;241m.\u001b[39muse_cw:\n\u001b[0;32m    112\u001b[0m             qop\u001b[38;5;241m.\u001b[39macquire(qubit, dsl\u001b[38;5;241m.\u001b[39mhandles\u001b[38;5;241m.\u001b[39mresult_handle(qubit\u001b[38;5;241m.\u001b[39muid))\n",
      "File \u001b[1;32mc:\\Users\\sqil\\AppData\\Local\\pypoetry\\Cache\\virtualenvs\\sqil-experiments-gl8RHkKX-py3.12\\Lib\\site-packages\\laboneq\\dsl\\quantum\\quantum_operations.py:401\u001b[0m, in \u001b[0;36mOperation.__call__\u001b[1;34m(self, *args, **kw)\u001b[0m\n\u001b[0;32m    377\u001b[0m \u001b[38;5;28;01mdef\u001b[39;00m\u001b[38;5;250m \u001b[39m\u001b[38;5;21m__call__\u001b[39m(\u001b[38;5;28mself\u001b[39m, \u001b[38;5;241m*\u001b[39margs, \u001b[38;5;241m*\u001b[39m\u001b[38;5;241m*\u001b[39mkw) \u001b[38;5;241m-\u001b[39m\u001b[38;5;241m>\u001b[39m Section \u001b[38;5;241m|\u001b[39m \u001b[38;5;28mlist\u001b[39m[Section]:\n\u001b[0;32m    378\u001b[0m \u001b[38;5;250m    \u001b[39m\u001b[38;5;124;03m\"\"\"Build a section using the operation.\u001b[39;00m\n\u001b[0;32m    379\u001b[0m \n\u001b[0;32m    380\u001b[0m \u001b[38;5;124;03m    The operation is called in the context of a pre-built\u001b[39;00m\n\u001b[1;32m   (...)\u001b[0m\n\u001b[0;32m    399\u001b[0m \u001b[38;5;124;03m        LabOne Q sections if the operation is broadcast.\u001b[39;00m\n\u001b[0;32m    400\u001b[0m \u001b[38;5;124;03m    \"\"\"\u001b[39;00m\n\u001b[1;32m--> 401\u001b[0m     \u001b[38;5;28;01mreturn\u001b[39;00m \u001b[38;5;28;43mself\u001b[39;49m\u001b[38;5;241;43m.\u001b[39;49m\u001b[43m_call\u001b[49m\u001b[43m(\u001b[49m\u001b[43margs\u001b[49m\u001b[43m,\u001b[49m\u001b[43m \u001b[49m\u001b[43mkw\u001b[49m\u001b[43m)\u001b[49m\n",
      "File \u001b[1;32mc:\\Users\\sqil\\AppData\\Local\\pypoetry\\Cache\\virtualenvs\\sqil-experiments-gl8RHkKX-py3.12\\Lib\\site-packages\\laboneq\\dsl\\quantum\\quantum_operations.py:696\u001b[0m, in \u001b[0;36mOperation._call\u001b[1;34m(self, args, kw, omit_section, omit_reserves)\u001b[0m\n\u001b[0;32m    689\u001b[0m \u001b[38;5;28;01mif\u001b[39;00m \u001b[38;5;28mself\u001b[39m\u001b[38;5;241m.\u001b[39m_op_marker\u001b[38;5;241m.\u001b[39mbroadcast \u001b[38;5;129;01mand\u001b[39;00m \u001b[38;5;28many\u001b[39m(\n\u001b[0;32m    690\u001b[0m     \u001b[38;5;28misinstance\u001b[39m(arg, (\u001b[38;5;28mlist\u001b[39m, \u001b[38;5;28mtuple\u001b[39m)) \u001b[38;5;28;01mfor\u001b[39;00m arg \u001b[38;5;129;01min\u001b[39;00m args\n\u001b[0;32m    691\u001b[0m ):\n\u001b[0;32m    692\u001b[0m     \u001b[38;5;28;01mreturn\u001b[39;00m \u001b[38;5;28mself\u001b[39m\u001b[38;5;241m.\u001b[39m_broadcast_call(\n\u001b[0;32m    693\u001b[0m         args, kw, omit_section\u001b[38;5;241m=\u001b[39momit_section, omit_reserves\u001b[38;5;241m=\u001b[39momit_reserves\n\u001b[0;32m    694\u001b[0m     )\n\u001b[1;32m--> 696\u001b[0m \u001b[38;5;28;01mreturn\u001b[39;00m \u001b[38;5;28;43mself\u001b[39;49m\u001b[38;5;241;43m.\u001b[39;49m\u001b[43m_single_call\u001b[49m\u001b[43m(\u001b[49m\n\u001b[0;32m    697\u001b[0m \u001b[43m    \u001b[49m\u001b[43margs\u001b[49m\u001b[43m,\u001b[49m\u001b[43m \u001b[49m\u001b[43mkw\u001b[49m\u001b[43m,\u001b[49m\u001b[43m \u001b[49m\u001b[43momit_section\u001b[49m\u001b[38;5;241;43m=\u001b[39;49m\u001b[43momit_section\u001b[49m\u001b[43m,\u001b[49m\u001b[43m \u001b[49m\u001b[43momit_reserves\u001b[49m\u001b[38;5;241;43m=\u001b[39;49m\u001b[43momit_reserves\u001b[49m\n\u001b[0;32m    698\u001b[0m \u001b[43m\u001b[49m\u001b[43m)\u001b[49m\n",
      "File \u001b[1;32mc:\\Users\\sqil\\AppData\\Local\\pypoetry\\Cache\\virtualenvs\\sqil-experiments-gl8RHkKX-py3.12\\Lib\\site-packages\\laboneq\\dsl\\quantum\\quantum_operations.py:651\u001b[0m, in \u001b[0;36mOperation._single_call\u001b[1;34m(self, args, kw, omit_section, omit_reserves)\u001b[0m\n\u001b[0;32m    649\u001b[0m     \u001b[38;5;28;01mif\u001b[39;00m reserve_signals:\n\u001b[0;32m    650\u001b[0m         \u001b[38;5;28mself\u001b[39m\u001b[38;5;241m.\u001b[39m_reserve_signals(qubits)\n\u001b[1;32m--> 651\u001b[0m     \u001b[38;5;28;43mself\u001b[39;49m\u001b[38;5;241;43m.\u001b[39;49m\u001b[43m_op\u001b[49m\u001b[43m(\u001b[49m\u001b[38;5;28;43mself\u001b[39;49m\u001b[38;5;241;43m.\u001b[39;49m\u001b[43m_quantum_ops\u001b[49m\u001b[43m,\u001b[49m\u001b[43m \u001b[49m\u001b[38;5;241;43m*\u001b[39;49m\u001b[43margs\u001b[49m\u001b[43m,\u001b[49m\u001b[43m \u001b[49m\u001b[38;5;241;43m*\u001b[39;49m\u001b[38;5;241;43m*\u001b[39;49m\u001b[43mkw\u001b[49m\u001b[43m)\u001b[49m\n\u001b[0;32m    653\u001b[0m \u001b[38;5;28;01mreturn\u001b[39;00m op_section\n",
      "File \u001b[1;32mc:\\Users\\sqil\\AppData\\Local\\pypoetry\\Cache\\virtualenvs\\sqil-experiments-gl8RHkKX-py3.12\\Lib\\site-packages\\laboneq_applications\\qpu_types\\tunable_transmon\\operations.py:138\u001b[0m, in \u001b[0;36mTunableTransmonOperations.set_frequency\u001b[1;34m(self, q, frequency, transition, readout, rf, calibration)\u001b[0m\n\u001b[0;32m    134\u001b[0m     lo_frequency \u001b[38;5;241m=\u001b[39m q\u001b[38;5;241m.\u001b[39mparameters\u001b[38;5;241m.\u001b[39mdrive_lo_frequency\n\u001b[0;32m    136\u001b[0m \u001b[38;5;28;01mif\u001b[39;00m rf:\n\u001b[0;32m    137\u001b[0m     \u001b[38;5;66;03m# This subtraction works for both numbers and SweepParameters\u001b[39;00m\n\u001b[1;32m--> 138\u001b[0m     \u001b[43mfrequency\u001b[49m\u001b[43m \u001b[49m\u001b[38;5;241;43m-\u001b[39;49m\u001b[38;5;241;43m=\u001b[39;49m\u001b[43m \u001b[49m\u001b[43mlo_frequency\u001b[49m\n\u001b[0;32m    140\u001b[0m \u001b[38;5;28;01mif\u001b[39;00m calibration \u001b[38;5;129;01mis\u001b[39;00m \u001b[38;5;28;01mNone\u001b[39;00m:\n\u001b[0;32m    141\u001b[0m     calibration \u001b[38;5;241m=\u001b[39m dsl\u001b[38;5;241m.\u001b[39mexperiment_calibration()\n",
      "File \u001b[1;32mc:\\Users\\sqil\\AppData\\Local\\pypoetry\\Cache\\virtualenvs\\sqil-experiments-gl8RHkKX-py3.12\\Lib\\site-packages\\numpy\\lib\\mixins.py:41\u001b[0m, in \u001b[0;36m_inplace_binary_method.<locals>.func\u001b[1;34m(self, other)\u001b[0m\n\u001b[0;32m     40\u001b[0m \u001b[38;5;28;01mdef\u001b[39;00m\u001b[38;5;250m \u001b[39m\u001b[38;5;21mfunc\u001b[39m(\u001b[38;5;28mself\u001b[39m, other):\n\u001b[1;32m---> 41\u001b[0m     \u001b[38;5;28;01mreturn\u001b[39;00m \u001b[43mufunc\u001b[49m\u001b[43m(\u001b[49m\u001b[38;5;28;43mself\u001b[39;49m\u001b[43m,\u001b[49m\u001b[43m \u001b[49m\u001b[43mother\u001b[49m\u001b[43m,\u001b[49m\u001b[43m \u001b[49m\u001b[43mout\u001b[49m\u001b[38;5;241;43m=\u001b[39;49m\u001b[43m(\u001b[49m\u001b[38;5;28;43mself\u001b[39;49m\u001b[43m,\u001b[49m\u001b[43m)\u001b[49m\u001b[43m)\u001b[49m\n",
      "File \u001b[1;32mc:\\Users\\sqil\\AppData\\Local\\pypoetry\\Cache\\virtualenvs\\sqil-experiments-gl8RHkKX-py3.12\\Lib\\site-packages\\laboneq\\dsl\\parameter.py:84\u001b[0m, in \u001b[0;36m_ParameterArithmeticMixin.__array_ufunc__\u001b[1;34m(self, ufunc, method, *inputs, **kwargs)\u001b[0m\n\u001b[0;32m     81\u001b[0m         \u001b[38;5;28;01melse\u001b[39;00m:\n\u001b[0;32m     82\u001b[0m             new_inputs\u001b[38;5;241m.\u001b[39mappend(\u001b[38;5;28minput\u001b[39m)\n\u001b[1;32m---> 84\u001b[0m     values \u001b[38;5;241m=\u001b[39m \u001b[43mufunc\u001b[49m\u001b[43m(\u001b[49m\u001b[38;5;241;43m*\u001b[39;49m\u001b[43mnew_inputs\u001b[49m\u001b[43m)\u001b[49m\n\u001b[0;32m     85\u001b[0m     \u001b[38;5;28;01mreturn\u001b[39;00m SweepParameter(values\u001b[38;5;241m=\u001b[39mvalues, driven_by\u001b[38;5;241m=\u001b[39mdriven_by)\n\u001b[0;32m     86\u001b[0m \u001b[38;5;28;01melse\u001b[39;00m:\n",
      "\u001b[1;31mTypeError\u001b[0m: unsupported operand type(s) for -: 'float' and 'NoneType'"
     ]
    }
   ],
   "source": [
    "import sqil_core as sqil\n",
    "import numpy as np\n",
    "from rr_spec import create_experiment\n",
    "from laboneq.dsl.quantum import QPU\n",
    "from laboneq_applications.qpu_types.tunable_transmon import (\n",
    "    TunableTransmonOperations,\n",
    "    TunableTransmonQubit,\n",
    ")\n",
    "\n",
    "class Test(sqil.experiment.ExperimentHandler):\n",
    "    \n",
    "    def sequence(self):\n",
    "        qubits = TunableTransmonQubit.from_device_setup(self.zi_setup)\n",
    "        quantum_operations = TunableTransmonOperations()\n",
    "        qpu = QPU(qubits=qubits, quantum_operations=quantum_operations)\n",
    "        return create_experiment(qpu, qubits[0], np.linspace(5e9, 6e9, 100))\n",
    "\n",
    "t = Test()\n",
    "t.run()"
   ]
  },
  {
   "cell_type": "code",
   "execution_count": 29,
   "id": "1d3adec3",
   "metadata": {},
   "outputs": [
    {
     "name": "stdout",
     "output_type": "stream",
     "text": [
      "[2025.04.29 14:54:22.787] INFO    Logging initialized from [Default inline config in laboneq.laboneq_logging] logdir is c:\\Users\\sqil\\Desktop\\code\\sqil-experiments\\measurements\\laboneq_output\\log\n",
      "\u001b[0m[2025.04.29 14:54:22.787] INFO    VERSION: laboneq 2.50.0\n",
      "\u001b[0m[2025.04.29 14:54:22.787] INFO    Connecting to data server at localhost:8004\n",
      "\u001b[0m[2025.04.29 14:54:22.798] INFO    Connected to Zurich Instruments LabOne Data Server version 25.01.0.834 at localhost:8004\n",
      "\u001b[0m[2025.04.29 14:54:22.850] WARNING SHFQC/QA:dev12183: Include the device options 'SHFQC/QC4CH' in the device setup ('options' field of the 'instruments' list in the device setup descriptor, 'device_options' argument when constructing instrument objects to be added to 'DeviceSetup' instances). This will become a strict requirement in the future.\n",
      "\u001b[0m[2025.04.29 14:54:22.855] INFO    Configuring the device setup\n",
      "\u001b[0m[2025.04.29 14:54:22.907] INFO    The device setup is configured\n",
      "\u001b[0m[2025.04.29 14:54:22.915] INFO    \u001b[1m ────────────────────────────────────────────────────────────────────────────── \u001b[0m\n",
      "\u001b[0m[2025.04.29 14:54:22.917] INFO    \u001b[1m \u001b[0m\u001b[1m \u001b[0m\u001b[1mWorkflow 'resonator_spectroscopy': execution started at 2025-04-29 \u001b[0m\u001b[1m         \u001b[0m\u001b[1m \u001b[0m\u001b[1m \u001b[0m\n",
      "\u001b[0m[2025.04.29 14:54:22.918] INFO    \u001b[1m \u001b[0m\u001b[1m \u001b[0m\u001b[1m12:54:22.915963Z\u001b[0m\u001b[1m                                                            \u001b[0m\u001b[1m \u001b[0m\u001b[1m \u001b[0m\n",
      "\u001b[0m[2025.04.29 14:54:22.919] INFO    \u001b[1m ────────────────────────────────────────────────────────────────────────────── \u001b[0m\n",
      "\u001b[0m[2025.04.29 14:54:22.920] INFO    \u001b[1mTask 'temporary_modify': started at 2025-04-29 12:54:22.920159Z\u001b[0m\n",
      "\u001b[0m[2025.04.29 14:54:22.921] INFO    \u001b[1mTask 'temporary_modify': ended at 2025-04-29 12:54:22.921160Z\u001b[0m\n",
      "\u001b[0m[2025.04.29 14:54:22.922] INFO    \u001b[1mTask 'create_experiment': started at 2025-04-29 12:54:22.922159Z\u001b[0m\n",
      "\u001b[0m[2025.04.29 14:54:22.923] INFO    \u001b[1mTask 'create_experiment': ended at 2025-04-29 12:54:22.923158Z\u001b[0m\n",
      "\u001b[0m[2025.04.29 14:54:22.924] INFO    \u001b[1mTask 'compile_experiment': started at 2025-04-29 12:54:22.924489Z\u001b[0m\n",
      "\u001b[0m[2025.04.29 14:54:22.925] INFO    Starting LabOne Q Compiler run...\n",
      "\u001b[0m[2025.04.29 14:54:22.933] INFO    Schedule completed. [0.014 s]\n",
      "\u001b[0m[2025.04.29 14:54:22.969] INFO    Code generation completed for all AWGs. [0.026 s]\n",
      "\u001b[0m[2025.04.29 14:54:22.969] INFO    Completed compilation step 1 of 1. [0.042 s]\n",
      "\u001b[0m[2025.04.29 14:54:22.972] INFO     ─────────────────────────────────────────────────────────────────────── \n",
      "\u001b[0m[2025.04.29 14:54:22.973] INFO     \u001b[1m \u001b[0m\u001b[1mDevice           \u001b[0m\u001b[1m \u001b[0m \u001b[1m \u001b[0m\u001b[1mAWG\u001b[0m\u001b[1m \u001b[0m \u001b[1m \u001b[0m\u001b[1mSeqC LOC\u001b[0m\u001b[1m \u001b[0m \u001b[1m \u001b[0m\u001b[1mCT entries\u001b[0m\u001b[1m \u001b[0m \u001b[1m \u001b[0m\u001b[1mWaveforms\u001b[0m\u001b[1m \u001b[0m \u001b[1m \u001b[0m\u001b[1mSamples\u001b[0m\u001b[1m \u001b[0m \n",
      "\u001b[0m[2025.04.29 14:54:22.974] INFO     ─────────────────────────────────────────────────────────────────────── \n",
      "\u001b[0m[2025.04.29 14:54:22.974] INFO      SHFQC_dev12183        0         21            0           1      8000  \n",
      "\u001b[0m[2025.04.29 14:54:22.975] INFO      SHFQC_dev12183_sg     0          4            1           0         0  \n",
      "\u001b[0m[2025.04.29 14:54:22.976] INFO     ─────────────────────────────────────────────────────────────────────── \n",
      "\u001b[0m[2025.04.29 14:54:22.977] INFO     \u001b[1m \u001b[0m\u001b[1mTOTAL            \u001b[0m\u001b[1m \u001b[0m \u001b[1m \u001b[0m\u001b[1m   \u001b[0m\u001b[1m \u001b[0m \u001b[1m \u001b[0m\u001b[1m      25\u001b[0m\u001b[1m \u001b[0m \u001b[1m \u001b[0m\u001b[1m         1\u001b[0m\u001b[1m \u001b[0m \u001b[1m \u001b[0m\u001b[1m         \u001b[0m\u001b[1m \u001b[0m \u001b[1m \u001b[0m\u001b[1m   8000\u001b[0m\u001b[1m \u001b[0m \n",
      "\u001b[0m[2025.04.29 14:54:22.978] INFO     ─────────────────────────────────────────────────────────────────────── \n",
      "\u001b[0m[2025.04.29 14:54:22.980] INFO    Finished LabOne Q Compiler run.\n",
      "\u001b[0m[2025.04.29 14:54:22.981] INFO    \u001b[1mTask 'compile_experiment': ended at 2025-04-29 12:54:22.981743Z\u001b[0m\n",
      "\u001b[0m[2025.04.29 14:54:22.981] INFO    \u001b[1mTask 'run_experiment': started at 2025-04-29 12:54:22.981743Z\u001b[0m\n",
      "\u001b[0m[2025.04.29 14:54:23.348] INFO    Starting near-time execution...\n",
      "\u001b[0m[2025.04.29 14:54:23.871] WARNING SHFQC/QA:dev12183: Channel 0 Output overrange count: 31\n",
      "\u001b[0m[2025.04.29 14:54:23.984] INFO    Finished near-time execution.\n",
      "\u001b[0m[2025.04.29 14:54:24.008] INFO    \u001b[1mTask 'run_experiment': ended at 2025-04-29 12:54:24.008641Z\u001b[0m\n",
      "\u001b[0m[2025.04.29 14:54:24.016] INFO    \u001b[1m ────────────────────────────────────────────────────────────────────────────── \u001b[0m\n",
      "\u001b[0m[2025.04.29 14:54:24.017] INFO    \u001b[1m \u001b[0m\u001b[1m \u001b[0m\u001b[1mWorkflow 'analysis_workflow': execution started at 2025-04-29 \u001b[0m\u001b[1m              \u001b[0m\u001b[1m \u001b[0m\u001b[1m \u001b[0m\n",
      "\u001b[0m[2025.04.29 14:54:24.017] INFO    \u001b[1m \u001b[0m\u001b[1m \u001b[0m\u001b[1m12:54:24.015907Z\u001b[0m\u001b[1m                                                            \u001b[0m\u001b[1m \u001b[0m\u001b[1m \u001b[0m\n",
      "\u001b[0m[2025.04.29 14:54:24.018] INFO    \u001b[1m ────────────────────────────────────────────────────────────────────────────── \u001b[0m\n",
      "\u001b[0m[2025.04.29 14:54:24.019] INFO    \u001b[1mTask 'calculate_signal_magnitude_and_phase': started at 2025-04-29 \u001b[0m\n",
      "\u001b[0m[2025.04.29 14:54:24.020] INFO    \u001b[1m12:54:24.019912Z\u001b[0m\n",
      "\u001b[0m[2025.04.29 14:54:24.022] INFO    \u001b[1mTask 'calculate_signal_magnitude_and_phase': ended at 2025-04-29 \u001b[0m\n",
      "\u001b[0m[2025.04.29 14:54:24.023] INFO    \u001b[1m12:54:24.021911Z\u001b[0m\n",
      "\u001b[0m[2025.04.29 14:54:24.024] INFO    \u001b[1mTask 'fit_data': started at 2025-04-29 12:54:24.023912Z\u001b[0m\n",
      "\u001b[0m[2025.04.29 14:54:24.025] INFO    \u001b[1mTask 'fit_data': ended at 2025-04-29 12:54:24.025911Z\u001b[0m\n",
      "\u001b[0m[2025.04.29 14:54:24.026] INFO    \u001b[1mTask 'extract_qubit_parameters': started at 2025-04-29 12:54:24.025911Z\u001b[0m\n",
      "\u001b[0m[2025.04.29 14:54:24.027] INFO    \u001b[1mTask 'extract_qubit_parameters': ended at 2025-04-29 12:54:24.027911Z\u001b[0m\n",
      "\u001b[0m[2025.04.29 14:54:24.029] INFO    \u001b[1mTask 'plot_raw_complex_data_1d': started at 2025-04-29 12:54:24.027911Z\u001b[0m\n",
      "\u001b[0m[2025.04.29 14:54:24.038] INFO    \u001b[1mArtifact: 'Raw_data_q0' of type 'Figure' logged at 2025-04-29 12:54:24.038725Z\u001b[0m\n",
      "\u001b[0m[2025.04.29 14:54:24.039] INFO    \u001b[1mTask 'plot_raw_complex_data_1d': ended at 2025-04-29 12:54:24.039727Z\u001b[0m\n",
      "\u001b[0m[2025.04.29 14:54:24.040] INFO    \u001b[1mTask 'plot_magnitude_phase': started at 2025-04-29 12:54:24.040726Z\u001b[0m\n",
      "\u001b[0m[2025.04.29 14:54:24.050] INFO    \u001b[1mArtifact: 'Magnitude_Phase_q0' of type 'Figure' logged at 2025-04-29 \u001b[0m\n",
      "\u001b[0m[2025.04.29 14:54:24.051] INFO    \u001b[1m12:54:24.050347Z\u001b[0m\n",
      "\u001b[0m[2025.04.29 14:54:24.052] INFO    \u001b[1mTask 'plot_magnitude_phase': ended at 2025-04-29 12:54:24.052346Z\u001b[0m\n",
      "\u001b[0m[2025.04.29 14:54:24.053] INFO    \u001b[1mTask 'plot_real_imaginary': started at 2025-04-29 12:54:24.053346Z\u001b[0m\n",
      "\u001b[0m[2025.04.29 14:54:24.055] INFO    \u001b[1mArtifact: 'Real_Imaginary_q0' of type 'Figure' logged at 2025-04-29 \u001b[0m\n",
      "\u001b[0m[2025.04.29 14:54:24.055] INFO    \u001b[1m12:54:24.055348Z\u001b[0m\n",
      "\u001b[0m[2025.04.29 14:54:24.055] INFO    \u001b[1mTask 'plot_real_imaginary': ended at 2025-04-29 12:54:24.055348Z\u001b[0m\n",
      "\u001b[0m[2025.04.29 14:54:24.055] INFO    \u001b[1m ────────────────────────────────────────────────────────────────────────────── \u001b[0m\n",
      "\u001b[0m[2025.04.29 14:54:24.055] INFO    \u001b[1m \u001b[0m\u001b[1m \u001b[0m\u001b[1mWorkflow 'analysis_workflow': execution ended at 2025-04-29 12:54:24.055348Z\u001b[0m\u001b[1m \u001b[0m\u001b[1m \u001b[0m\n",
      "\u001b[0m[2025.04.29 14:54:24.055] INFO    \u001b[1m ────────────────────────────────────────────────────────────────────────────── \u001b[0m\n",
      "\u001b[0m[2025.04.29 14:54:24.064] INFO    \u001b[1m ────────────────────────────────────────────────────────────────────────────── \u001b[0m\n",
      "\u001b[0m[2025.04.29 14:54:24.064] INFO    \u001b[1m \u001b[0m\u001b[1m \u001b[0m\u001b[1mWorkflow 'resonator_spectroscopy': execution ended at 2025-04-29 \u001b[0m\u001b[1m           \u001b[0m\u001b[1m \u001b[0m\u001b[1m \u001b[0m\n",
      "\u001b[0m[2025.04.29 14:54:24.065] INFO    \u001b[1m \u001b[0m\u001b[1m \u001b[0m\u001b[1m12:54:24.055348Z\u001b[0m\u001b[1m                                                            \u001b[0m\u001b[1m \u001b[0m\u001b[1m \u001b[0m\n",
      "\u001b[0m[2025.04.29 14:54:24.065] INFO    \u001b[1m ────────────────────────────────────────────────────────────────────────────── \u001b[0m\n",
      "\u001b[0m"
     ]
    }
   ],
   "source": [
    "from laboneq import serializers\n",
    "from laboneq.contrib.example_helpers.generate_descriptor import generate_descriptor\n",
    "from laboneq.dsl.quantum import QPU\n",
    "from laboneq.simple import DeviceSetup\n",
    "from laboneq_applications.qpu_types.tunable_transmon import (\n",
    "    TunableTransmonOperations,\n",
    "    TunableTransmonQubit,\n",
    ")\n",
    "from laboneq.dsl.session import Session\n",
    "\n",
    "from helpers.laboneq import print_qpu_signals\n",
    "\n",
    "from laboneq_applications.experiments import resonator_spectroscopy\n",
    "from laboneq_applications.experiments.options import TuneUpWorkflowOptions\n",
    "import matplotlib.pyplot as plt\n",
    "\n",
    "# Zurich instruments stetup\n",
    "zi_descriptor = generate_descriptor(\n",
    "    shfqc_6=[\"dev12183\"],\n",
    "    number_data_qubits=1,\n",
    "    number_flux_lines=0,\n",
    "    include_cr_lines=False,\n",
    "    multiplex=True,\n",
    "    number_multiplex=1,\n",
    "    get_zsync=False,\n",
    "    ip_address=\"localhost\",\n",
    ")\n",
    "\n",
    "zi_setup = DeviceSetup.from_descriptor(zi_descriptor, \"localhost\")\n",
    "zi_session = Session(zi_setup)\n",
    "zi_session.connect()\n",
    "\n",
    "qubits = TunableTransmonQubit.from_device_setup(zi_setup)\n",
    "quantum_operations = TunableTransmonOperations()\n",
    "qpu = QPU(qubits=qubits, quantum_operations=quantum_operations)\n",
    "\n",
    "qpu.qubits[0].update(**{\"drive_lo_frequency\": 5e9})\n",
    "qpu.qubits[0].update(**{\"readout_lo_frequency\": 7.2e9})\n",
    "qpu.qubits[0].update(**{\"readout_resonator_frequency\": 7.4e9})\n",
    "\n",
    "experiment_workflow = resonator_spectroscopy.experiment_workflow(\n",
    "    session=zi_session,\n",
    "    qpu=qpu,\n",
    "    qubit=qubits[0],\n",
    "    frequencies=np.linspace(7.3e9, 8e9, 101),\n",
    "    options={\"do_analysis\":True}\n",
    ")\n",
    "\n",
    "workflow_result = experiment_workflow.run()\n",
    "plt.show()"
   ]
  },
  {
   "cell_type": "code",
   "execution_count": 32,
   "id": "0d2d4d05",
   "metadata": {},
   "outputs": [
    {
     "data": {
      "text/plain": [
       "{'old_parameter_values': {'q0': {'readout_resonator_frequency': 7400000000.0}},\n",
       " 'new_parameter_values': {'q0': {'readout_resonator_frequency': 7748000000.0+/-0}}}"
      ]
     },
     "execution_count": 32,
     "metadata": {},
     "output_type": "execute_result"
    }
   ],
   "source": [
    "analysis_workflow_results = workflow_result.tasks[\"analysis_workflow\"]\n",
    "analysis_workflow_results.output"
   ]
  }
 ],
 "metadata": {
  "kernelspec": {
   "display_name": "sqil-experiments-gl8RHkKX-py3.12",
   "language": "python",
   "name": "python3"
  },
  "language_info": {
   "codemirror_mode": {
    "name": "ipython",
    "version": 3
   },
   "file_extension": ".py",
   "mimetype": "text/x-python",
   "name": "python",
   "nbconvert_exporter": "python",
   "pygments_lexer": "ipython3",
   "version": "3.12.7"
  }
 },
 "nbformat": 4,
 "nbformat_minor": 5
}
