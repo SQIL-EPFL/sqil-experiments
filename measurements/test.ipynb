{
 "cells": [
  {
   "cell_type": "code",
   "execution_count": null,
   "id": "3fa84856",
   "metadata": {},
   "outputs": [],
   "source": [
    "from typing import cast\n",
    "\n",
    "import sqil_core as sqil\n",
    "from sqil_core.config_log import logger\n",
    "\n",
    "# Connect to the server and retrieve instruments\n",
    "server, instruments = sqil.experiment.link_instrument_server()\n",
    "\n",
    "# Check available instruments\n",
    "logger.info(\"Connected to the instruments server\")\n",
    "logger.info(f\" instruments: {list(instruments.keys())}\")\n",
    "\n",
    "# Do something\n",
    "sgs = cast(sqil.experiment.LocalOscillator, instruments[\"sgs\"])\n",
    "logger.debug(\"Requesting SGS frequency change to 11 GHz\")\n",
    "sgs.set_frequency(11e9)\n",
    "# sgs.device\n",
    "\n",
    "\n",
    "# Disconnect from the instrument server and release variables\n",
    "sqil.experiment.unlink_instrument_server(server, **instruments)"
   ]
  },
  {
   "cell_type": "code",
   "execution_count": 4,
   "id": "d433c9ba",
   "metadata": {},
   "outputs": [
    {
     "data": {
      "text/plain": [
       "NoneType"
      ]
     },
     "execution_count": 4,
     "metadata": {},
     "output_type": "execute_result"
    }
   ],
   "source": [
    "sgs.device"
   ]
  },
  {
   "cell_type": "code",
   "execution_count": 2,
   "id": "22a0cbab",
   "metadata": {},
   "outputs": [
    {
     "name": "stdout",
     "output_type": "stream",
     "text": [
      "d83032f5404fd42a4fe88c4f0a86f896af5e30f773822cc5889fc436cacea6a5\u001b[0m \u001b[0md83032f5404fd42a4fe88c4f0a86f896af5e30f773822cc5889fc436cacea6a5\u001b[0m\n",
      "\u001b[0m[2025.05.11 11:11:26.048] INFO    Logging initialized from [Default inline config in laboneq.laboneq_logging] logdir is c:\\Users\\sqil\\Desktop\\code\\sqil-experiments\\measurements\\laboneq_output\\log\n",
      "\u001b[0m[2025.05.11 11:11:26.061] INFO    VERSION: laboneq 2.51.0\n",
      "\u001b[0m[2025.05.11 11:11:26.064] INFO    Connecting to data server at localhost:8004\n",
      "\u001b[0m[2025.05.11 11:11:26.073] INFO    Connected to Zurich Instruments LabOne Data Server version 25.04.0.628 at localhost:8004\n",
      "\u001b[0m[2025.05.11 11:11:26.080] WARNING SHFQC/QA:dev12183: Include the device options 'SHFQC/QC4CH' in the device setup ('options' field of the 'instruments' list in the device setup descriptor, 'device_options' argument when constructing instrument objects to be added to 'DeviceSetup' instances). This will become a strict requirement in the future.\n",
      "\u001b[0m[2025.05.11 11:11:26.086] INFO    Configuring the device setup\n",
      "\u001b[0m[2025.05.11 11:11:26.096] INFO    The device setup is configured\n",
      "\u001b[0m"
     ]
    },
    {
     "name": "stderr",
     "output_type": "stream",
     "text": [
      "2025-05-11 11:11:26,098 - \u001b[32mINFO\u001b[0m - Turning on local oscillators before experiment\n",
      "\u001b[0m"
     ]
    },
    {
     "name": "stdout",
     "output_type": "stream",
     "text": [
      "Hello\u001b[0m\n"
     ]
    },
    {
     "name": "stderr",
     "output_type": "stream",
     "text": [
      "2025-05-11 11:11:26,100 - \u001b[32mINFO\u001b[0m - Turning off local oscillators after experiment\n",
      "\u001b[0m"
     ]
    },
    {
     "name": "stdout",
     "output_type": "stream",
     "text": [
      "\u001b[0m"
     ]
    }
   ],
   "source": [
    "import sqil_core as sqil\n",
    "\n",
    "class Test(sqil.experiment.ExperimentHandler):\n",
    "    def sequence(self):\n",
    "        print(\"Hello\")\n",
    "\n",
    "t = Test()\n",
    "t.run()"
   ]
  },
  {
   "cell_type": "code",
   "execution_count": null,
   "id": "0fa996fe",
   "metadata": {},
   "outputs": [
    {
     "name": "stderr",
     "output_type": "stream",
     "text": [
      "2025-05-12 17:56:49,680 - \u001b[32mINFO\u001b[0m - Connecting to SGSA100 (RohdeSchwarzSGS100A)\n",
      "\u001b[0m"
     ]
    },
    {
     "name": "stdout",
     "output_type": "stream",
     "text": [
      "Connected to: Rohde&Schwarz SGS100A (serial:1416.0505k02/114907, firmware:4.2.366.0-5.00.232.72) in 0.04s\u001b[0m\n"
     ]
    },
    {
     "name": "stderr",
     "output_type": "stream",
     "text": [
      "2025-05-12 17:56:49,723 - \u001b[32mINFO\u001b[0m - Successfully connected to SGSA100\n",
      "\u001b[0m2025-05-12 17:56:49,724 - \u001b[32mINFO\u001b[0m - Successfully connected to zi\n",
      "\u001b[0m"
     ]
    },
    {
     "name": "stdout",
     "output_type": "stream",
     "text": [
      "\u001b[0m[2025.05.12 17:56:49.729] INFO    Logging initialized from [Default inline config in laboneq.laboneq_logging] logdir is c:\\Users\\sqil\\Desktop\\code\\sqil-experiments\\measurements\\laboneq_output\\log\n",
      "\u001b[0m[2025.05.12 17:56:49.731] INFO    VERSION: laboneq 2.51.0\n",
      "\u001b[0m[2025.05.12 17:56:49.732] INFO    Connecting to data server at localhost:8004\n",
      "\u001b[0m[2025.05.12 17:56:49.735] INFO    Connected to Zurich Instruments LabOne Data Server version 25.04.0.628 at localhost:8004\n",
      "\u001b[0m[2025.05.12 17:56:49.740] WARNING SHFQC/QA:dev12183: Include the device options 'SHFQC/QC4CH' in the device setup ('options' field of the 'instruments' list in the device setup descriptor, 'device_options' argument when constructing instrument objects to be added to 'DeviceSetup' instances). This will become a strict requirement in the future.\n",
      "\u001b[0m[2025.05.12 17:56:49.744] INFO    Configuring the device setup\n",
      "\u001b[0m[2025.05.12 17:56:49.751] INFO    The device setup is configured\n",
      "\u001b[0m"
     ]
    },
    {
     "name": "stderr",
     "output_type": "stream",
     "text": [
      "2025-05-12 17:56:49,753 - \u001b[32mINFO\u001b[0m - Turning on local oscillators before experiment\n",
      "\u001b[0m2025-05-12 17:56:49,755 - \u001b[32mINFO\u001b[0m - Setting frequency to 11000000000.0 for SGSA100\n",
      "\u001b[0m"
     ]
    },
    {
     "name": "stdout",
     "output_type": "stream",
     "text": [
      "[2025.05.12 17:56:49.758] INFO    Starting LabOne Q Compiler run...\n",
      "\u001b[0m[2025.05.12 17:56:49.778] INFO    Schedule completed. [0.018 s]\n",
      "\u001b[0m[2025.05.12 17:56:49.813] INFO    Code generation completed for all AWGs. [0.035 s]\n",
      "\u001b[0m[2025.05.12 17:56:49.815] INFO    Completed compilation step 1 of 1. [0.056 s]\n",
      "\u001b[0m[2025.05.12 17:56:49.818] INFO     ─────────────────────────────────────────────────────────────────────── \n",
      "\u001b[0m[2025.05.12 17:56:49.820] INFO     \u001b[1m \u001b[0m\u001b[1mDevice           \u001b[0m\u001b[1m \u001b[0m \u001b[1m \u001b[0m\u001b[1mAWG\u001b[0m\u001b[1m \u001b[0m \u001b[1m \u001b[0m\u001b[1mSeqC LOC\u001b[0m\u001b[1m \u001b[0m \u001b[1m \u001b[0m\u001b[1mCT entries\u001b[0m\u001b[1m \u001b[0m \u001b[1m \u001b[0m\u001b[1mWaveforms\u001b[0m\u001b[1m \u001b[0m \u001b[1m \u001b[0m\u001b[1mSamples\u001b[0m\u001b[1m \u001b[0m \n",
      "\u001b[0m[2025.05.12 17:56:49.821] INFO     ─────────────────────────────────────────────────────────────────────── \n",
      "\u001b[0m[2025.05.12 17:56:49.822] INFO      SHFQC_dev12183        0         21            0           1      8000  \n",
      "\u001b[0m[2025.05.12 17:56:49.823] INFO      SHFQC_dev12183_sg     0          4            1           0         0  \n",
      "\u001b[0m[2025.05.12 17:56:49.823] INFO     ─────────────────────────────────────────────────────────────────────── \n",
      "\u001b[0m[2025.05.12 17:56:49.824] INFO     \u001b[1m \u001b[0m\u001b[1mTOTAL            \u001b[0m\u001b[1m \u001b[0m \u001b[1m \u001b[0m\u001b[1m   \u001b[0m\u001b[1m \u001b[0m \u001b[1m \u001b[0m\u001b[1m      25\u001b[0m\u001b[1m \u001b[0m \u001b[1m \u001b[0m\u001b[1m         1\u001b[0m\u001b[1m \u001b[0m \u001b[1m \u001b[0m\u001b[1m         \u001b[0m\u001b[1m \u001b[0m \u001b[1m \u001b[0m\u001b[1m   8000\u001b[0m\u001b[1m \u001b[0m \n",
      "\u001b[0m[2025.05.12 17:56:49.825] INFO     ─────────────────────────────────────────────────────────────────────── \n",
      "\u001b[0m[2025.05.12 17:56:49.829] INFO    Finished LabOne Q Compiler run.\n",
      "\u001b[0m[2025.05.12 17:56:50.245] INFO    Starting near-time execution...\n",
      "\u001b[0m[2025.05.12 17:56:50.621] WARNING SHFQC/QA:dev12183: Channel 0 Output overrange count: 28\n",
      "\u001b[0m[2025.05.12 17:56:50.656] INFO    Finished near-time execution.\n",
      "\u001b[0m"
     ]
    },
    {
     "name": "stderr",
     "output_type": "stream",
     "text": [
      "2025-05-12 17:56:50,684 - \u001b[32mINFO\u001b[0m - Turning off local oscillators after experiment\n",
      "\u001b[0m"
     ]
    },
    {
     "data": {
      "image/png": "[encoded data removed]",
      "text/plain": [
       "<Figure size 640x480 with 1 Axes>"
      ]
     },
     "metadata": {},
     "output_type": "display_data"
    }
   ],
   "source": [
    "import sqil_core as sqil\n",
    "import numpy as np\n",
    "import matplotlib.pyplot as plt\n",
    "# from rr_spec import create_experiment\n",
    "from laboneq.dsl.quantum import QPU\n",
    "from laboneq_applications.qpu_types.tunable_transmon import (\n",
    "    TunableTransmonOperations,\n",
    "    TunableTransmonQubit,\n",
    ")\n",
    "from helpers.sqil_transmon.qubit import SqilTransmon\n",
    "from helpers.sqil_transmon.operations import SqilTransmonOperations\n",
    "\n",
    "from laboneq_applications.experiments.options import (\n",
    "    ResonatorSpectroscopyExperimentOptions,\n",
    ")\n",
    "from laboneq_applications.core import validation\n",
    "from laboneq.dsl.enums import AcquisitionType\n",
    "from laboneq.simple import Experiment, SweepParameter, dsl\n",
    "\n",
    "from laboneq.dsl.quantum.quantum_element import QuantumElement\n",
    "from numpy.typing import ArrayLike\n",
    "\n",
    "# qubits = SqilTransmon.from_device_setup(self.zi_setup)\n",
    "# quantum_operations = SqilTransmonOperations()\n",
    "# qpu = QPU(qubits=qubits, quantum_operations=quantum_operations)\n",
    "\n",
    "\n",
    "@dsl.qubit_experiment\n",
    "def create_experiment(\n",
    "    qpu: QPU,\n",
    "    qubit: QuantumElement,\n",
    "    frequencies: ArrayLike,\n",
    "    options: ResonatorSpectroscopyExperimentOptions | None = None,\n",
    ") -> Experiment:\n",
    "    # Define the custom options for the experiment\n",
    "    opts = ResonatorSpectroscopyExperimentOptions() if options is None else options\n",
    "    qubit, frequencies = validation.validate_and_convert_single_qubit_sweeps(\n",
    "        qubit, frequencies\n",
    "    )\n",
    "    # guard against wrong options for the acquisition type\n",
    "    if AcquisitionType(opts.acquisition_type) != AcquisitionType.SPECTROSCOPY:\n",
    "        raise ValueError(\n",
    "            \"The only allowed acquisition_type for this experiment\"\n",
    "            \"is 'AcquisitionType.SPECTROSCOPY' (or 'spectrsocopy')\"\n",
    "            \"because it contains a sweep\"\n",
    "            \"of the frequency of a hardware oscillator.\",\n",
    "        )\n",
    "\n",
    "    qop = qpu.quantum_operations\n",
    "    with dsl.acquire_loop_rt(\n",
    "        count=opts.count,\n",
    "        averaging_mode=opts.averaging_mode,\n",
    "        acquisition_type=opts.acquisition_type,\n",
    "        repetition_mode=opts.repetition_mode,\n",
    "        repetition_time=opts.repetition_time,\n",
    "        reset_oscillator_phase=opts.reset_oscillator_phase,\n",
    "    ):\n",
    "        with dsl.sweep(\n",
    "            name=f\"freq_{qubit.uid}\",\n",
    "            parameter=SweepParameter(f\"frequencies_{qubit.uid}\", frequencies),\n",
    "        ) as frequency:\n",
    "            qop.set_frequency(qubit, frequency=frequency, readout=True)\n",
    "            if opts.use_cw:\n",
    "                qop.acquire(qubit, dsl.handles.result_handle(qubit.uid))\n",
    "            else:\n",
    "                qop.measure(qubit, dsl.handles.result_handle(qubit.uid))\n",
    "            qop.delay(qubit, opts.spectroscopy_reset_delay)\n",
    "\n",
    "\n",
    "class Test(sqil.experiment.ExperimentHandler):\n",
    "\n",
    "    def sequence(self, qu_idx, frequencies):\n",
    "        self.qpu.qubits[qu_idx].update(\n",
    "            **{\n",
    "                \"drive_lo_frequency\": 5e9,\n",
    "                \"readout_lo_frequency\": 7.2e9,\n",
    "                \"readout_resonator_frequency\": 7.4e9,\n",
    "            }\n",
    "        )\n",
    "        return create_experiment(self.qpu, self.qpu.qubits[qu_idx], frequencies)\n",
    "\n",
    "    def analyze(self, result, *params, **kwargs):\n",
    "        data = result[\"q0\"][\"result\"].data\n",
    "        # plt.plot(np.real(data), np.imag(data))\n",
    "        plt.plot(params[1], np.abs(data))\n",
    "\n",
    "t = Test()\n",
    "result = t.run(0, np.linspace(7.3e9, 8e9, 101))\n",
    "# sweep={'ro_power': np.linspace(-40, -15, 2)}"
   ]
  },
  {
   "cell_type": "code",
   "execution_count": 7,
   "id": "3c8d92a3",
   "metadata": {},
   "outputs": [
    {
     "name": "stdout",
     "output_type": "stream",
     "text": [
      "params =\u001b[0m \u001b[0m{'qu_idx': 0, 'frequencies': 1}\u001b[0m\n",
      "\u001b[0mkwargs =\u001b[0m \u001b[0m[]\u001b[0m\n",
      "\u001b[0m"
     ]
    }
   ],
   "source": [
    "import inspect\n",
    "\n",
    "\n",
    "def map_inputs(func):\n",
    "    \"\"\"Extracts parameter names and keyword arguments from a function signature.\"\"\"\n",
    "    sig = inspect.signature(func)\n",
    "    params = {}\n",
    "    kwargs = []\n",
    "\n",
    "    for index, (name, param) in enumerate(sig.parameters.items()):\n",
    "        if param.default == inspect.Parameter.empty:\n",
    "            # Positional or required argument\n",
    "            params[name] = index\n",
    "        else:\n",
    "            # Keyword argument\n",
    "            kwargs.append(name)\n",
    "\n",
    "    return params, kwargs\n",
    "\n",
    "params, kwargs = map_inputs(t.sequence)\n",
    "print(\"params =\", params)\n",
    "print(\"kwargs =\", kwargs)"
   ]
  },
  {
   "cell_type": "code",
   "execution_count": null,
   "id": "fc9d026d",
   "metadata": {},
   "outputs": [
    {
     "name": "stdout",
     "output_type": "stream",
     "text": [
      "data: (0,)\n",
      "  ⌙ frequencies (Hz): (0,)\u001b[0m\n",
      "\u001b[0m"
     ]
    }
   ],
   "source": [
    "from plottr.data.datadict import DataDict\n",
    "\n",
    "\n",
    "def build_plottr_dict(db_schema):\n",
    "    \"\"\"Create a DataDict object from the given schema.\"\"\"\n",
    "    axes = []\n",
    "    db = {}\n",
    "\n",
    "    data_key = 'data'\n",
    "    data_unit = \"\"\n",
    "\n",
    "    for key, value in db_schema.items():\n",
    "        if value.get(\"type\") == \"axis\":\n",
    "            unit = value.get(\"unit\", \"\")\n",
    "            db[key] = dict(unit=unit)\n",
    "            axes.append(key)\n",
    "        elif value.get(\"type\") == \"data\":\n",
    "            data_key = key\n",
    "            data_unit = value.get(\"unit\", \"\")\n",
    "    db[data_key] = dict(axes=axes, unit=data_unit)\n",
    "\n",
    "    datadict =  DataDict(**db)\n",
    "    datadict.add_meta(\"schema\", db_schema)\n",
    "\n",
    "    return datadict\n",
    "\n",
    "\n",
    "# Example Usage:\n",
    "db_schema = {\"data\": {\"type\": \"data\"}, \"frequencies\": {\"type\": \"axis\", \"unit\": \"Hz\"}}\n",
    "\n",
    "plottr_dict = build_plottr_dict(db_schema)\n",
    "print(plottr_dict)"
   ]
  },
  {
   "cell_type": "code",
   "execution_count": null,
   "id": "1d3adec3",
   "metadata": {},
   "outputs": [
    {
     "name": "stdout",
     "output_type": "stream",
     "text": [
      "[2025.05.11 19:39:49.915] INFO    Logging initialized from [Default inline config in laboneq.laboneq_logging] logdir is c:\\Users\\sqil\\Desktop\\code\\sqil-experiments\\measurements\\laboneq_output\\log\n",
      "[2025.05.11 19:39:49.917] INFO    VERSION: laboneq 2.51.0\n",
      "[2025.05.11 19:39:49.918] INFO    Connecting to data server at localhost:8004\n",
      "[2025.05.11 19:39:49.920] INFO    Connected to Zurich Instruments LabOne Data Server version 25.04.0.628 at localhost:8004\n",
      "[2025.05.11 19:39:49.926] WARNING SHFQC/QA:dev12183: Include the device options 'SHFQC/QC4CH' in the device setup ('options' field of the 'instruments' list in the device setup descriptor, 'device_options' argument when constructing instrument objects to be added to 'DeviceSetup' instances). This will become a strict requirement in the future.\n",
      "[2025.05.11 19:39:49.931] INFO    Configuring the device setup\n",
      "[2025.05.11 19:39:49.938] INFO    The device setup is configured\n"
     ]
    },
    {
     "data": {
      "text/plain": [
       "<laboneq_applications.qpu_types.tunable_transmon.operations.TunableTransmonOperations at 0x18eb4c32750>"
      ]
     },
     "execution_count": 4,
     "metadata": {},
     "output_type": "execute_result"
    }
   ],
   "source": [
    "from laboneq import serializers\n",
    "from laboneq.contrib.example_helpers.generate_descriptor import generate_descriptor\n",
    "from laboneq.dsl.quantum import QPU\n",
    "from laboneq.simple import DeviceSetup\n",
    "from laboneq_applications.qpu_types.tunable_transmon import (\n",
    "    TunableTransmonOperations,\n",
    "    TunableTransmonQubit,\n",
    ")\n",
    "from laboneq.dsl.session import Session\n",
    "\n",
    "from helpers.laboneq import print_qpu_signals\n",
    "\n",
    "from laboneq_applications.experiments import resonator_spectroscopy\n",
    "from laboneq_applications.experiments.options import TuneUpWorkflowOptions\n",
    "import matplotlib.pyplot as plt\n",
    "\n",
    "# Zurich instruments stetup\n",
    "zi_descriptor = generate_descriptor(\n",
    "    shfqc_6=[\"dev12183\"],\n",
    "    number_data_qubits=1,\n",
    "    number_flux_lines=0,\n",
    "    include_cr_lines=False,\n",
    "    multiplex=True,\n",
    "    number_multiplex=1,\n",
    "    get_zsync=False,\n",
    "    ip_address=\"localhost\",\n",
    ")\n",
    "\n",
    "zi_setup = DeviceSetup.from_descriptor(zi_descriptor, \"localhost\")\n",
    "zi_session = Session(zi_setup)\n",
    "zi_session.connect()\n",
    "\n",
    "qubits = TunableTransmonQubit.from_device_setup(zi_setup)\n",
    "quantum_operations = TunableTransmonOperations()\n",
    "qpu = QPU(qubits=qubits, quantum_operations=quantum_operations)\n",
    "\n",
    "qpu.qubits[0].update(**{\"drive_lo_frequency\": 5e9})\n",
    "qpu.qubits[0].update(**{\"readout_lo_frequency\": 7.2e9})\n",
    "qpu.qubits[0].update(**{\"readout_resonator_frequency\": 7.4e9})\n",
    "\n",
    "experiment_workflow = resonator_spectroscopy.experiment_workflow(\n",
    "    session=zi_session,\n",
    "    qpu=qpu,\n",
    "    qubit=qubits[0],\n",
    "    frequencies=np.linspace(7.3e9, 8e9, 101),\n",
    "    options={\"do_analysis\":True}\n",
    ")\n",
    "\n",
    "workflow_result = experiment_workflow.run()\n",
    "plt.show()"
   ]
  },
  {
   "cell_type": "code",
   "execution_count": 7,
   "id": "0d2d4d05",
   "metadata": {},
   "outputs": [
    {
     "data": {
      "text/plain": [
       "{'old_parameter_values': {'q0': {'readout_resonator_frequency': 7400000000.0}},\n",
       " 'new_parameter_values': {'q0': {'readout_resonator_frequency': 7307000000.0+/-0}}}"
      ]
     },
     "execution_count": 7,
     "metadata": {},
     "output_type": "execute_result"
    }
   ],
   "source": [
    "analysis_workflow_results = workflow_result.tasks[\"analysis_workflow\"]\n",
    "analysis_workflow_results.output"
   ]
  }
 ],
 "metadata": {
  "kernelspec": {
   "display_name": "sqil-experiments-gl8RHkKX-py3.12",
   "language": "python",
   "name": "python3"
  },
  "language_info": {
   "codemirror_mode": {
    "name": "ipython",
    "version": 3
   },
   "file_extension": ".py",
   "mimetype": "text/x-python",
   "name": "python",
   "nbconvert_exporter": "python",
   "pygments_lexer": "ipython3",
   "version": "3.12.7"
  }
 },
 "nbformat": 4,
 "nbformat_minor": 5
}
