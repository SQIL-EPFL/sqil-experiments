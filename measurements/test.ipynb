{
 "cells": [
  {
   "cell_type": "code",
   "execution_count": 1,
   "id": "3fa84856",
   "metadata": {},
   "outputs": [
    {
     "name": "stdout",
     "output_type": "stream",
     "text": [
      "484e0fbec4043279f7eef813c84b5f55b7939b3a8bf01e3a59824e6ea1055a81\u001b[0m \u001b[0m484e0fbec4043279f7eef813c84b5f55b7939b3a8bf01e3a59824e6ea1055a81\u001b[0m\n"
     ]
    },
    {
     "name": "stderr",
     "output_type": "stream",
     "text": [
      "2025-04-28 20:19:19,385 - \u001b[32mINFO\u001b[0m - Connected to the instruments server\n",
      "\u001b[0m2025-04-28 20:19:19,386 - \u001b[32mINFO\u001b[0m -  instruments: ['sgs', 'zi']\n",
      "\u001b[0m"
     ]
    },
    {
     "name": "stdout",
     "output_type": "stream",
     "text": [
      "\u001b[0m"
     ]
    }
   ],
   "source": [
    "from typing import cast\n",
    "\n",
    "import sqil_core as sqil\n",
    "from sqil_core.config_log import logger\n",
    "\n",
    "# Connect to the server and retrieve instruments\n",
    "server, instruments = sqil.experiment.link_instrument_server()\n",
    "\n",
    "# Check available instruments\n",
    "logger.info(\"Connected to the instruments server\")\n",
    "logger.info(f\" instruments: {list(instruments.keys())}\")\n",
    "\n",
    "# Do something\n",
    "# sgs = cast(sqil.experiment.LocalOscillator, instruments[\"sgs\"])\n",
    "# logger.debug(\"Requesting SGS frequency change to 11 GHz\")\n",
    "# sgs.frequency(11e9)\n",
    "zi_session = instruments[\"zi\"]\n",
    "\n",
    "\n",
    "# Disconnect from the instrument server and release variables\n",
    "sqil.experiment.unlink_instrument_server(server, **instruments)"
   ]
  },
  {
   "cell_type": "code",
   "execution_count": null,
   "id": "22a0cbab",
   "metadata": {},
   "outputs": [
    {
     "name": "stdout",
     "output_type": "stream",
     "text": [
      "484e0fbec4043279f7eef813c84b5f55b7939b3a8bf01e3a59824e6ea1055a81\u001b[0m \u001b[0m484e0fbec4043279f7eef813c84b5f55b7939b3a8bf01e3a59824e6ea1055a81\u001b[0m\n",
      "\u001b[0m[2025.04.28 20:21:30.434] INFO    Logging initialized from [Default inline config in laboneq.laboneq_logging] logdir is c:\\Users\\sqil\\Desktop\\code\\sqil-experiments\\measurements\\laboneq_output\\log\n",
      "\u001b[0m"
     ]
    },
    {
     "name": "stderr",
     "output_type": "stream",
     "text": [
      "2025-04-28 20:21:30,435 - \u001b[32mINFO\u001b[0m - Turning on local oscillators before experiment\n",
      "\u001b[0m"
     ]
    },
    {
     "name": "stdout",
     "output_type": "stream",
     "text": [
      "Hello\u001b[0m\n"
     ]
    },
    {
     "name": "stderr",
     "output_type": "stream",
     "text": [
      "2025-04-28 20:21:30,436 - \u001b[32mINFO\u001b[0m - Turning off local oscillators after experiment\n",
      "\u001b[0m"
     ]
    },
    {
     "name": "stdout",
     "output_type": "stream",
     "text": [
      "\u001b[0m"
     ]
    }
   ],
   "source": [
    "import sqil_core as sqil\n",
    "\n",
    "class Test(sqil.experiment.ExperimentHandler):\n",
    "    def sequence(self):\n",
    "        print(\"Hello\")\n",
    "\n",
    "t = Test()\n",
    "t.run()"
   ]
  },
  {
   "cell_type": "code",
   "execution_count": null,
   "id": "0fa996fe",
   "metadata": {},
   "outputs": [
    {
     "name": "stdout",
     "output_type": "stream",
     "text": [
      "484e0fbec4043279f7eef813c84b5f55b7939b3a8bf01e3a59824e6ea1055a81\u001b[0m \u001b[0m484e0fbec4043279f7eef813c84b5f55b7939b3a8bf01e3a59824e6ea1055a81\u001b[0m\n",
      "\u001b[0m[2025.05.01 11:59:52.435] INFO    Logging initialized from [Default inline config in laboneq.laboneq_logging] logdir is c:\\Users\\sqil\\Desktop\\code\\sqil-experiments\\measurements\\laboneq_output\\log\n",
      "\u001b[0m[2025.05.01 11:59:52.444] INFO    VERSION: laboneq 2.50.0\n",
      "\u001b[0m[2025.05.01 11:59:52.446] INFO    Connecting to data server at localhost:8004\n",
      "\u001b[0m[2025.05.01 11:59:52.453] INFO    Connected to Zurich Instruments LabOne Data Server version 25.04.0.628 at localhost:8004\n",
      "\u001b[0m[2025.05.01 11:59:52.454] CRITICAL Version of LabOne Data Server (25.04.0.628) and Python API (25.01.0.834) do not match.\n",
      "\u001b[0m"
     ]
    },
    {
     "name": "stderr",
     "output_type": "stream",
     "text": [
      "[2025.05.01 11:59:52.454] CRITICAL Version of LabOne Data Server (25.04.0.628) and Python API (25.01.0.834) do not match.\n",
      "\u001b[0m"
     ]
    },
    {
     "ename": "LabOneQControllerException",
     "evalue": "Version of LabOne Data Server (25.04.0.628) and Python API (25.01.0.834) do not match.",
     "output_type": "error",
     "traceback": [
      "\u001b[1;31m---------------------------------------------------------------------------\u001b[0m",
      "\u001b[1;31mLabOneQControllerException\u001b[0m                Traceback (most recent call last)",
      "Cell \u001b[1;32mIn[1], line 27\u001b[0m\n\u001b[0;32m     17\u001b[0m         qpu\u001b[38;5;241m.\u001b[39mqubits[\u001b[38;5;241m0\u001b[39m]\u001b[38;5;241m.\u001b[39mupdate(\n\u001b[0;32m     18\u001b[0m             \u001b[38;5;241m*\u001b[39m\u001b[38;5;241m*\u001b[39m{\n\u001b[0;32m     19\u001b[0m                 \u001b[38;5;124m\"\u001b[39m\u001b[38;5;124mdrive_lo_frequency\u001b[39m\u001b[38;5;124m\"\u001b[39m: \u001b[38;5;241m5e9\u001b[39m,\n\u001b[1;32m   (...)\u001b[0m\n\u001b[0;32m     22\u001b[0m             }\n\u001b[0;32m     23\u001b[0m         )\n\u001b[0;32m     25\u001b[0m         \u001b[38;5;28;01mreturn\u001b[39;00m create_experiment(qpu, qubits[\u001b[38;5;241m0\u001b[39m], np\u001b[38;5;241m.\u001b[39mlinspace(\u001b[38;5;241m7.3e9\u001b[39m, \u001b[38;5;241m8e9\u001b[39m, \u001b[38;5;241m101\u001b[39m))\n\u001b[1;32m---> 27\u001b[0m t \u001b[38;5;241m=\u001b[39m \u001b[43mTest\u001b[49m\u001b[43m(\u001b[49m\u001b[43m)\u001b[49m\n\u001b[0;32m     28\u001b[0m result \u001b[38;5;241m=\u001b[39m t\u001b[38;5;241m.\u001b[39mrun()\n",
      "File \u001b[1;32mc:\\Users\\sqil\\AppData\\Local\\pypoetry\\Cache\\virtualenvs\\sqil-experiments-gl8RHkKX-py3.12\\Lib\\site-packages\\sqil_core\\experiment\\_experiment.py:57\u001b[0m, in \u001b[0;36mExperimentHandler.__init__\u001b[1;34m(self, params, param_dict_path, setup_path)\u001b[0m\n\u001b[0;32m     55\u001b[0m     \u001b[38;5;28mself\u001b[39m\u001b[38;5;241m.\u001b[39mzi_setup \u001b[38;5;241m=\u001b[39m DeviceSetup\u001b[38;5;241m.\u001b[39mfrom_descriptor(zi\u001b[38;5;241m.\u001b[39mdescriptor, zi\u001b[38;5;241m.\u001b[39maddress)\n\u001b[0;32m     56\u001b[0m     \u001b[38;5;28mself\u001b[39m\u001b[38;5;241m.\u001b[39mzi_session \u001b[38;5;241m=\u001b[39m Session(\u001b[38;5;28mself\u001b[39m\u001b[38;5;241m.\u001b[39mzi_setup)\n\u001b[1;32m---> 57\u001b[0m     \u001b[38;5;28;43mself\u001b[39;49m\u001b[38;5;241;43m.\u001b[39;49m\u001b[43mzi_session\u001b[49m\u001b[38;5;241;43m.\u001b[39;49m\u001b[43mconnect\u001b[49m\u001b[43m(\u001b[49m\u001b[43m)\u001b[49m\n\u001b[0;32m     59\u001b[0m \u001b[38;5;28mself\u001b[39m\u001b[38;5;241m.\u001b[39minstruments \u001b[38;5;241m=\u001b[39m Instruments(instrument_instances)\n",
      "File \u001b[1;32mc:\\Users\\sqil\\AppData\\Local\\pypoetry\\Cache\\virtualenvs\\sqil-experiments-gl8RHkKX-py3.12\\Lib\\site-packages\\laboneq\\dsl\\session.py:274\u001b[0m, in \u001b[0;36mSession.connect\u001b[1;34m(self, do_emulation, ignore_version_mismatch, reset_devices, use_async_api, disable_runtime_checks, timeout)\u001b[0m\n\u001b[0;32m    267\u001b[0m target_setup \u001b[38;5;241m=\u001b[39m convert_dsl_to_target_setup(\u001b[38;5;28mself\u001b[39m\u001b[38;5;241m.\u001b[39m_device_setup)\n\u001b[0;32m    269\u001b[0m controller \u001b[38;5;241m=\u001b[39m Controller(\n\u001b[0;32m    270\u001b[0m     target_setup\u001b[38;5;241m=\u001b[39mtarget_setup,\n\u001b[0;32m    271\u001b[0m     ignore_version_mismatch\u001b[38;5;241m=\u001b[39mignore_version_mismatch,\n\u001b[0;32m    272\u001b[0m     neartime_callbacks\u001b[38;5;241m=\u001b[39m\u001b[38;5;28mself\u001b[39m\u001b[38;5;241m.\u001b[39m_neartime_callbacks,\n\u001b[0;32m    273\u001b[0m )\n\u001b[1;32m--> 274\u001b[0m \u001b[43mcontroller\u001b[49m\u001b[38;5;241;43m.\u001b[39;49m\u001b[43mconnect\u001b[49m\u001b[43m(\u001b[49m\n\u001b[0;32m    275\u001b[0m \u001b[43m    \u001b[49m\u001b[43mdo_emulation\u001b[49m\u001b[38;5;241;43m=\u001b[39;49m\u001b[38;5;28;43mself\u001b[39;49m\u001b[38;5;241;43m.\u001b[39;49m\u001b[43m_connection_state\u001b[49m\u001b[38;5;241;43m.\u001b[39;49m\u001b[43memulated\u001b[49m\u001b[43m,\u001b[49m\n\u001b[0;32m    276\u001b[0m \u001b[43m    \u001b[49m\u001b[43mreset_devices\u001b[49m\u001b[38;5;241;43m=\u001b[39;49m\u001b[43mreset_devices\u001b[49m\u001b[43m,\u001b[49m\n\u001b[0;32m    277\u001b[0m \u001b[43m    \u001b[49m\u001b[43mdisable_runtime_checks\u001b[49m\u001b[38;5;241;43m=\u001b[39;49m\u001b[43mdisable_runtime_checks\u001b[49m\u001b[43m,\u001b[49m\n\u001b[0;32m    278\u001b[0m \u001b[43m    \u001b[49m\u001b[43mtimeout_s\u001b[49m\u001b[38;5;241;43m=\u001b[39;49m\u001b[43mtimeout\u001b[49m\u001b[43m,\u001b[49m\n\u001b[0;32m    279\u001b[0m \u001b[43m\u001b[49m\u001b[43m)\u001b[49m\n\u001b[0;32m    280\u001b[0m \u001b[38;5;28mself\u001b[39m\u001b[38;5;241m.\u001b[39m_controller \u001b[38;5;241m=\u001b[39m controller\n\u001b[0;32m    281\u001b[0m \u001b[38;5;28;01mif\u001b[39;00m \u001b[38;5;28mself\u001b[39m\u001b[38;5;241m.\u001b[39m_connection_state\u001b[38;5;241m.\u001b[39memulated:\n",
      "File \u001b[1;32mc:\\Users\\sqil\\AppData\\Local\\pypoetry\\Cache\\virtualenvs\\sqil-experiments-gl8RHkKX-py3.12\\Lib\\site-packages\\laboneq\\controller\\controller.py:258\u001b[0m, in \u001b[0;36mController.connect\u001b[1;34m(self, do_emulation, reset_devices, disable_runtime_checks, timeout_s)\u001b[0m\n\u001b[0;32m    256\u001b[0m \u001b[38;5;28mself\u001b[39m\u001b[38;5;241m.\u001b[39m_do_emulation \u001b[38;5;241m=\u001b[39m do_emulation\n\u001b[0;32m    257\u001b[0m \u001b[38;5;28mself\u001b[39m\u001b[38;5;241m.\u001b[39m_devices\u001b[38;5;241m.\u001b[39mset_timeout(timeout_s)\n\u001b[1;32m--> 258\u001b[0m \u001b[38;5;28;43mself\u001b[39;49m\u001b[38;5;241;43m.\u001b[39;49m\u001b[43m_event_loop\u001b[49m\u001b[38;5;241;43m.\u001b[39;49m\u001b[43mrun\u001b[49m\u001b[43m(\u001b[49m\n\u001b[0;32m    259\u001b[0m \u001b[43m    \u001b[49m\u001b[38;5;28;43mself\u001b[39;49m\u001b[38;5;241;43m.\u001b[39;49m\u001b[43m_connect_async\u001b[49m\u001b[43m,\u001b[49m\n\u001b[0;32m    260\u001b[0m \u001b[43m    \u001b[49m\u001b[43mreset_devices\u001b[49m\u001b[38;5;241;43m=\u001b[39;49m\u001b[43mreset_devices\u001b[49m\u001b[43m,\u001b[49m\n\u001b[0;32m    261\u001b[0m \u001b[43m    \u001b[49m\u001b[43mdisable_runtime_checks\u001b[49m\u001b[38;5;241;43m=\u001b[39;49m\u001b[43mdisable_runtime_checks\u001b[49m\u001b[43m,\u001b[49m\n\u001b[0;32m    262\u001b[0m \u001b[43m\u001b[49m\u001b[43m)\u001b[49m\n",
      "File \u001b[1;32mc:\\Users\\sqil\\AppData\\Local\\pypoetry\\Cache\\virtualenvs\\sqil-experiments-gl8RHkKX-py3.12\\Lib\\site-packages\\laboneq\\core\\utilities\\async_helpers.py:39\u001b[0m, in \u001b[0;36mEventLoopHolder.run\u001b[1;34m(self, func, *args, **kwargs)\u001b[0m\n\u001b[0;32m     37\u001b[0m \u001b[38;5;28mself\u001b[39m\u001b[38;5;241m.\u001b[39m_ensure_event_loop()\n\u001b[0;32m     38\u001b[0m \u001b[38;5;28;01mwith\u001b[39;00m \u001b[38;5;28mself\u001b[39m\u001b[38;5;241m.\u001b[39m_override_sigint_handler():\n\u001b[1;32m---> 39\u001b[0m     \u001b[38;5;28;01mreturn\u001b[39;00m \u001b[38;5;28;43mself\u001b[39;49m\u001b[38;5;241;43m.\u001b[39;49m\u001b[43m_wait_with_yielding\u001b[49m\u001b[43m(\u001b[49m\n\u001b[0;32m     40\u001b[0m \u001b[43m        \u001b[49m\u001b[43masyncio\u001b[49m\u001b[38;5;241;43m.\u001b[39;49m\u001b[43mrun_coroutine_threadsafe\u001b[49m\u001b[43m(\u001b[49m\u001b[43mfunc\u001b[49m\u001b[43m(\u001b[49m\u001b[38;5;241;43m*\u001b[39;49m\u001b[43margs\u001b[49m\u001b[43m,\u001b[49m\u001b[43m \u001b[49m\u001b[38;5;241;43m*\u001b[39;49m\u001b[38;5;241;43m*\u001b[39;49m\u001b[43mkwargs\u001b[49m\u001b[43m)\u001b[49m\u001b[43m,\u001b[49m\u001b[43m \u001b[49m\u001b[38;5;28;43mself\u001b[39;49m\u001b[38;5;241;43m.\u001b[39;49m\u001b[43m_loop\u001b[49m\u001b[43m)\u001b[49m\n\u001b[0;32m     41\u001b[0m \u001b[43m    \u001b[49m\u001b[43m)\u001b[49m\n",
      "File \u001b[1;32mc:\\Users\\sqil\\AppData\\Local\\pypoetry\\Cache\\virtualenvs\\sqil-experiments-gl8RHkKX-py3.12\\Lib\\site-packages\\laboneq\\core\\utilities\\async_helpers.py:80\u001b[0m, in \u001b[0;36mEventLoopHolder._wait_with_yielding\u001b[1;34m(self, future)\u001b[0m\n\u001b[0;32m     76\u001b[0m \u001b[38;5;28;01mwhile\u001b[39;00m \u001b[38;5;28;01mTrue\u001b[39;00m:\n\u001b[0;32m     77\u001b[0m     \u001b[38;5;28;01mtry\u001b[39;00m:\n\u001b[0;32m     78\u001b[0m         \u001b[38;5;66;03m# Exit future wait every 0.1s to handle SIGINT, balancing\u001b[39;00m\n\u001b[0;32m     79\u001b[0m         \u001b[38;5;66;03m# responsiveness and CPU load.\u001b[39;00m\n\u001b[1;32m---> 80\u001b[0m         \u001b[38;5;28;01mreturn\u001b[39;00m \u001b[43mfuture\u001b[49m\u001b[38;5;241;43m.\u001b[39;49m\u001b[43mresult\u001b[49m\u001b[43m(\u001b[49m\u001b[43mtimeout\u001b[49m\u001b[38;5;241;43m=\u001b[39;49m\u001b[38;5;241;43m0.1\u001b[39;49m\u001b[43m)\u001b[49m  \u001b[38;5;66;03m# @IgnoreException\u001b[39;00m\n\u001b[0;32m     81\u001b[0m     \u001b[38;5;28;01mexcept\u001b[39;00m concurrent\u001b[38;5;241m.\u001b[39mfutures\u001b[38;5;241m.\u001b[39mTimeoutError:  \u001b[38;5;66;03m# noqa: PERF203\u001b[39;00m\n\u001b[0;32m     82\u001b[0m         \u001b[38;5;28;01mpass\u001b[39;00m\n",
      "File \u001b[1;32m~\\AppData\\Local\\anaconda3\\Lib\\concurrent\\futures\\_base.py:456\u001b[0m, in \u001b[0;36mFuture.result\u001b[1;34m(self, timeout)\u001b[0m\n\u001b[0;32m    454\u001b[0m     \u001b[38;5;28;01mraise\u001b[39;00m CancelledError()\n\u001b[0;32m    455\u001b[0m \u001b[38;5;28;01melif\u001b[39;00m \u001b[38;5;28mself\u001b[39m\u001b[38;5;241m.\u001b[39m_state \u001b[38;5;241m==\u001b[39m FINISHED:\n\u001b[1;32m--> 456\u001b[0m     \u001b[38;5;28;01mreturn\u001b[39;00m \u001b[38;5;28;43mself\u001b[39;49m\u001b[38;5;241;43m.\u001b[39;49m\u001b[43m__get_result\u001b[49m\u001b[43m(\u001b[49m\u001b[43m)\u001b[49m\n\u001b[0;32m    457\u001b[0m \u001b[38;5;28;01melse\u001b[39;00m:\n\u001b[0;32m    458\u001b[0m     \u001b[38;5;28;01mraise\u001b[39;00m \u001b[38;5;167;01mTimeoutError\u001b[39;00m()\n",
      "File \u001b[1;32m~\\AppData\\Local\\anaconda3\\Lib\\concurrent\\futures\\_base.py:401\u001b[0m, in \u001b[0;36mFuture.__get_result\u001b[1;34m(self)\u001b[0m\n\u001b[0;32m    399\u001b[0m \u001b[38;5;28;01mif\u001b[39;00m \u001b[38;5;28mself\u001b[39m\u001b[38;5;241m.\u001b[39m_exception:\n\u001b[0;32m    400\u001b[0m     \u001b[38;5;28;01mtry\u001b[39;00m:\n\u001b[1;32m--> 401\u001b[0m         \u001b[38;5;28;01mraise\u001b[39;00m \u001b[38;5;28mself\u001b[39m\u001b[38;5;241m.\u001b[39m_exception\n\u001b[0;32m    402\u001b[0m     \u001b[38;5;28;01mfinally\u001b[39;00m:\n\u001b[0;32m    403\u001b[0m         \u001b[38;5;66;03m# Break a reference cycle with the exception in self._exception\u001b[39;00m\n\u001b[0;32m    404\u001b[0m         \u001b[38;5;28mself\u001b[39m \u001b[38;5;241m=\u001b[39m \u001b[38;5;28;01mNone\u001b[39;00m\n",
      "File \u001b[1;32mc:\\Users\\sqil\\AppData\\Local\\pypoetry\\Cache\\virtualenvs\\sqil-experiments-gl8RHkKX-py3.12\\Lib\\site-packages\\laboneq\\controller\\controller.py:272\u001b[0m, in \u001b[0;36mController._connect_async\u001b[1;34m(self, reset_devices, disable_runtime_checks)\u001b[0m\n\u001b[0;32m    267\u001b[0m now \u001b[38;5;241m=\u001b[39m time\u001b[38;5;241m.\u001b[39mmonotonic()\n\u001b[0;32m    268\u001b[0m \u001b[38;5;28;01mif\u001b[39;00m (\n\u001b[0;32m    269\u001b[0m     \u001b[38;5;28mself\u001b[39m\u001b[38;5;241m.\u001b[39m_last_connect_check_ts \u001b[38;5;129;01mis\u001b[39;00m \u001b[38;5;28;01mNone\u001b[39;00m\n\u001b[0;32m    270\u001b[0m     \u001b[38;5;129;01mor\u001b[39;00m now \u001b[38;5;241m-\u001b[39m \u001b[38;5;28mself\u001b[39m\u001b[38;5;241m.\u001b[39m_last_connect_check_ts \u001b[38;5;241m>\u001b[39m CONNECT_CHECK_HOLDOFF\n\u001b[0;32m    271\u001b[0m ):\n\u001b[1;32m--> 272\u001b[0m     \u001b[38;5;28;01mawait\u001b[39;00m \u001b[38;5;28mself\u001b[39m\u001b[38;5;241m.\u001b[39m_devices\u001b[38;5;241m.\u001b[39mconnect(\n\u001b[0;32m    273\u001b[0m         do_emulation\u001b[38;5;241m=\u001b[39m\u001b[38;5;28mself\u001b[39m\u001b[38;5;241m.\u001b[39m_do_emulation,\n\u001b[0;32m    274\u001b[0m         reset_devices\u001b[38;5;241m=\u001b[39mreset_devices,\n\u001b[0;32m    275\u001b[0m         disable_runtime_checks\u001b[38;5;241m=\u001b[39mdisable_runtime_checks,\n\u001b[0;32m    276\u001b[0m     )\n\u001b[0;32m    277\u001b[0m \u001b[38;5;28mself\u001b[39m\u001b[38;5;241m.\u001b[39m_last_connect_check_ts \u001b[38;5;241m=\u001b[39m now\n",
      "File \u001b[1;32mc:\\Users\\sqil\\AppData\\Local\\pypoetry\\Cache\\virtualenvs\\sqil-experiments-gl8RHkKX-py3.12\\Lib\\site-packages\\laboneq\\controller\\devices\\device_collection.py:125\u001b[0m, in \u001b[0;36mDeviceCollection.connect\u001b[1;34m(self, do_emulation, reset_devices, disable_runtime_checks)\u001b[0m\n\u001b[0;32m    119\u001b[0m \u001b[38;5;28;01masync\u001b[39;00m \u001b[38;5;28;01mdef\u001b[39;00m\u001b[38;5;250m \u001b[39m\u001b[38;5;21mconnect\u001b[39m(\n\u001b[0;32m    120\u001b[0m     \u001b[38;5;28mself\u001b[39m,\n\u001b[0;32m    121\u001b[0m     do_emulation: \u001b[38;5;28mbool\u001b[39m,\n\u001b[0;32m    122\u001b[0m     reset_devices: \u001b[38;5;28mbool\u001b[39m \u001b[38;5;241m=\u001b[39m \u001b[38;5;28;01mFalse\u001b[39;00m,\n\u001b[0;32m    123\u001b[0m     disable_runtime_checks: \u001b[38;5;28mbool\u001b[39m \u001b[38;5;241m=\u001b[39m \u001b[38;5;28;01mFalse\u001b[39;00m,\n\u001b[0;32m    124\u001b[0m ):\n\u001b[1;32m--> 125\u001b[0m     \u001b[38;5;28;01mawait\u001b[39;00m \u001b[38;5;28mself\u001b[39m\u001b[38;5;241m.\u001b[39m_prepare_data_servers(do_emulation\u001b[38;5;241m=\u001b[39mdo_emulation)\n\u001b[0;32m    126\u001b[0m     \u001b[38;5;28mself\u001b[39m\u001b[38;5;241m.\u001b[39m_prepare_devices()\n\u001b[0;32m    127\u001b[0m     \u001b[38;5;28;01mfor\u001b[39;00m _, device \u001b[38;5;129;01min\u001b[39;00m \u001b[38;5;28mself\u001b[39m\u001b[38;5;241m.\u001b[39mall:\n",
      "File \u001b[1;32mc:\\Users\\sqil\\AppData\\Local\\pypoetry\\Cache\\virtualenvs\\sqil-experiments-gl8RHkKX-py3.12\\Lib\\site-packages\\laboneq\\controller\\devices\\device_collection.py:372\u001b[0m, in \u001b[0;36mDeviceCollection._prepare_data_servers\u001b[1;34m(self, do_emulation)\u001b[0m\n\u001b[0;32m    361\u001b[0m         _logger\u001b[38;5;241m.\u001b[39minfo(\n\u001b[0;32m    362\u001b[0m             \u001b[38;5;124m\"\u001b[39m\u001b[38;5;124mConnecting to data server at \u001b[39m\u001b[38;5;132;01m%s\u001b[39;00m\u001b[38;5;124m:\u001b[39m\u001b[38;5;132;01m%s\u001b[39;00m\u001b[38;5;124m\"\u001b[39m,\n\u001b[0;32m    363\u001b[0m             server_qualifier\u001b[38;5;241m.\u001b[39mhost,\n\u001b[0;32m    364\u001b[0m             server_qualifier\u001b[38;5;241m.\u001b[39mport,\n\u001b[0;32m    365\u001b[0m         )\n\u001b[0;32m    366\u001b[0m         data_server_connection \u001b[38;5;241m=\u001b[39m \u001b[38;5;28;01mawait\u001b[39;00m DataServerConnection\u001b[38;5;241m.\u001b[39mconnect(\n\u001b[0;32m    367\u001b[0m             server_qualifier\u001b[38;5;241m=\u001b[39mserver_qualifier,\n\u001b[0;32m    368\u001b[0m             emulator_state\u001b[38;5;241m=\u001b[39m\u001b[38;5;28mself\u001b[39m\u001b[38;5;241m.\u001b[39memulator_state \u001b[38;5;28;01mif\u001b[39;00m do_emulation \u001b[38;5;28;01melse\u001b[39;00m \u001b[38;5;28;01mNone\u001b[39;00m,\n\u001b[0;32m    369\u001b[0m             timeout_s\u001b[38;5;241m=\u001b[39m\u001b[38;5;28mself\u001b[39m\u001b[38;5;241m.\u001b[39m_timeout_s,\n\u001b[0;32m    370\u001b[0m             setup_caps\u001b[38;5;241m=\u001b[39m\u001b[38;5;28mself\u001b[39m\u001b[38;5;241m.\u001b[39m_ds\u001b[38;5;241m.\u001b[39msetup_caps,\n\u001b[0;32m    371\u001b[0m         )\n\u001b[1;32m--> 372\u001b[0m         \u001b[43mdata_server_connection\u001b[49m\u001b[38;5;241;43m.\u001b[39;49m\u001b[43mcheck_dataserver_device_compatibility\u001b[49m\u001b[43m(\u001b[49m\n\u001b[0;32m    373\u001b[0m \u001b[43m            \u001b[49m\u001b[38;5;28;43mself\u001b[39;49m\u001b[38;5;241;43m.\u001b[39;49m\u001b[43m_ignore_version_mismatch\u001b[49m\u001b[43m,\u001b[49m\n\u001b[0;32m    374\u001b[0m \u001b[43m            \u001b[49m\u001b[38;5;28;43mself\u001b[39;49m\u001b[38;5;241;43m.\u001b[39;49m\u001b[43m_ds\u001b[49m\u001b[38;5;241;43m.\u001b[39;49m\u001b[43mserver_device_serials\u001b[49m\u001b[43m(\u001b[49m\u001b[43mserver_uid\u001b[49m\u001b[43m)\u001b[49m\u001b[43m,\u001b[49m\n\u001b[0;32m    375\u001b[0m \u001b[43m        \u001b[49m\u001b[43m)\u001b[49m\n\u001b[0;32m    376\u001b[0m     updated_data_servers\u001b[38;5;241m.\u001b[39madd(server_uid, data_server_connection)\n\u001b[0;32m    377\u001b[0m \u001b[38;5;28mself\u001b[39m\u001b[38;5;241m.\u001b[39m_data_servers \u001b[38;5;241m=\u001b[39m updated_data_servers\n",
      "File \u001b[1;32mc:\\Users\\sqil\\AppData\\Local\\pypoetry\\Cache\\virtualenvs\\sqil-experiments-gl8RHkKX-py3.12\\Lib\\site-packages\\laboneq\\controller\\devices\\async_support.py:256\u001b[0m, in \u001b[0;36mDataServerConnection.check_dataserver_device_compatibility\u001b[1;34m(self, ignore_version_mismatch, serials)\u001b[0m\n\u001b[0;32m    254\u001b[0m         _logger\u001b[38;5;241m.\u001b[39mwarning(\u001b[38;5;124m\"\u001b[39m\u001b[38;5;124mIgnoring that \u001b[39m\u001b[38;5;132;01m%s\u001b[39;00m\u001b[38;5;124m\"\u001b[39m, err_msg)\n\u001b[0;32m    255\u001b[0m     \u001b[38;5;28;01melse\u001b[39;00m:\n\u001b[1;32m--> 256\u001b[0m         \u001b[38;5;28;01mraise\u001b[39;00m LabOneQControllerException(err_msg)\n\u001b[0;32m    257\u001b[0m \u001b[38;5;28;01melif\u001b[39;00m dataserver_version \u001b[38;5;241m<\u001b[39m MINIMUM_SUPPORTED_LABONE_VERSION:\n\u001b[0;32m    258\u001b[0m     err_msg \u001b[38;5;241m=\u001b[39m (\n\u001b[0;32m    259\u001b[0m         \u001b[38;5;124mf\u001b[39m\u001b[38;5;124m\"\u001b[39m\u001b[38;5;124mVersion of LabOne Data Server \u001b[39m\u001b[38;5;124m'\u001b[39m\u001b[38;5;132;01m{\u001b[39;00mdataserver_version\u001b[38;5;132;01m}\u001b[39;00m\u001b[38;5;124m'\u001b[39m\u001b[38;5;124m is not supported. \u001b[39m\u001b[38;5;124m\"\u001b[39m\n\u001b[0;32m    260\u001b[0m         \u001b[38;5;124mf\u001b[39m\u001b[38;5;124m\"\u001b[39m\u001b[38;5;124mWe recommend \u001b[39m\u001b[38;5;132;01m{\u001b[39;00mRECOMMENDED_LABONE_VERSION\u001b[38;5;132;01m}\u001b[39;00m\u001b[38;5;124m.\u001b[39m\u001b[38;5;124m\"\u001b[39m\n\u001b[0;32m    261\u001b[0m     )\n",
      "\u001b[1;31mLabOneQControllerException\u001b[0m: Version of LabOne Data Server (25.04.0.628) and Python API (25.01.0.834) do not match."
     ]
    }
   ],
   "source": [
    "import sqil_core as sqil\n",
    "import numpy as np\n",
    "from rr_spec import create_experiment\n",
    "from laboneq.dsl.quantum import QPU\n",
    "from laboneq_applications.qpu_types.tunable_transmon import (\n",
    "    TunableTransmonOperations,\n",
    "    TunableTransmonQubit,\n",
    ")\n",
    "\n",
    "class Test(sqil.experiment.ExperimentHandler):\n",
    "\n",
    "    def sequence(self):\n",
    "        qubits = TunableTransmonQubit.from_device_setup(self.zi_setup)\n",
    "        quantum_operations = TunableTransmonOperations()\n",
    "        qpu = QPU(qubits=qubits, quantum_operations=quantum_operations)\n",
    "\n",
    "        qpu.qubits[0].update(\n",
    "            **{\n",
    "                \"drive_lo_frequency\": 5e9,\n",
    "                \"readout_lo_frequency\": 7.2e9,\n",
    "                \"readout_resonator_frequency\": 7.4e9,\n",
    "            }\n",
    "        )\n",
    "\n",
    "        return create_experiment(qpu, qubits[0], np.linspace(7.3e9, 8e9, 101))\n",
    "\n",
    "t = Test()\n",
    "result = t.run()"
   ]
  },
  {
   "cell_type": "code",
   "execution_count": 37,
   "id": "84e59c49",
   "metadata": {},
   "outputs": [
    {
     "data": {
      "text/html": [
       "<pre style=\"white-space:pre;overflow-x:auto;line-height:normal;font-family:Menlo,'DejaVu Sans Mono',consolas,'Courier New',monospace\"><span style=\"font-weight: bold\">{</span>\n",
       "<span style=\"color: #7fbf7f; text-decoration-color: #7fbf7f\">│   </span><span style=\"color: #008000; text-decoration-color: #008000\">'errors'</span>: <span style=\"font-weight: bold\">[]</span>,\n",
       "<span style=\"color: #7fbf7f; text-decoration-color: #7fbf7f\">│   </span><span style=\"color: #008000; text-decoration-color: #008000\">'q0'</span>: <span style=\"font-weight: bold\">{</span>\n",
       "<span style=\"color: #7fbf7f; text-decoration-color: #7fbf7f\">│   │   </span><span style=\"color: #008000; text-decoration-color: #008000\">'result'</span>: <span style=\"color: #800080; text-decoration-color: #800080; font-weight: bold\">AcquiredResult</span><span style=\"font-weight: bold\">(</span>\n",
       "<span style=\"color: #7fbf7f; text-decoration-color: #7fbf7f\">│   │   │   </span><span style=\"color: #808000; text-decoration-color: #808000\">data</span>=<span style=\"color: #800080; text-decoration-color: #800080; font-weight: bold\">array</span><span style=\"font-weight: bold\">([</span> <span style=\"color: #008080; text-decoration-color: #008080; font-weight: bold\">2.78608549e-04+1.33689928e-04j</span>, <span style=\"color: #008080; text-decoration-color: #008080; font-weight: bold\">-6.45304719e-05-2.85227970e-04j</span>,\n",
       "<span style=\"color: #7fbf7f; text-decoration-color: #7fbf7f\">│      </span><span style=\"color: #008080; text-decoration-color: #008080; font-weight: bold\">-8.25259633e-05+2.23293784e-04j</span>,  <span style=\"color: #008080; text-decoration-color: #008080; font-weight: bold\">2.78938811e-04-1.44685199e-04j</span>,\n",
       "<span style=\"color: #7fbf7f; text-decoration-color: #7fbf7f\">│      </span><span style=\"color: #008080; text-decoration-color: #008080; font-weight: bold\">-2.41203148e-04-1.03075372e-04j</span>,  <span style=\"color: #008080; text-decoration-color: #008080; font-weight: bold\">1.62908366e-04+1.72388085e-04j</span>,\n",
       "<span style=\"color: #7fbf7f; text-decoration-color: #7fbf7f\">│   │   </span><span style=\"color: #008080; text-decoration-color: #008080; font-weight: bold\">4.90629988e-05-2.86213190e-04j</span>, <span style=\"color: #008080; text-decoration-color: #008080; font-weight: bold\">-1.95085945e-04+1.13221933e-04j</span>,\n",
       "<span style=\"color: #7fbf7f; text-decoration-color: #7fbf7f\">│   │   </span><span style=\"color: #008080; text-decoration-color: #008080; font-weight: bold\">2.40423654e-04-1.71499285e-05j</span>, <span style=\"color: #008080; text-decoration-color: #008080; font-weight: bold\">-1.23378583e-04-2.10670216e-04j</span>,\n",
       "<span style=\"color: #7fbf7f; text-decoration-color: #7fbf7f\">│      </span><span style=\"color: #008080; text-decoration-color: #008080; font-weight: bold\">-2.69307015e-05+1.55984714e-04j</span>,  <span style=\"color: #008080; text-decoration-color: #008080; font-weight: bold\">1.55020814e-04-1.84545764e-04j</span>,\n",
       "<span style=\"color: #7fbf7f; text-decoration-color: #7fbf7f\">│      </span><span style=\"color: #008080; text-decoration-color: #008080; font-weight: bold\">-1.83289401e-04-1.00043414e-04j</span>,  <span style=\"color: #008080; text-decoration-color: #008080; font-weight: bold\">6.39549659e-05+5.26190347e-05j</span>,\n",
       "<span style=\"color: #7fbf7f; text-decoration-color: #7fbf7f\">│   │   </span><span style=\"color: #008080; text-decoration-color: #008080; font-weight: bold\">1.17718363e-05-2.32798817e-04j</span>, <span style=\"color: #008080; text-decoration-color: #008080; font-weight: bold\">-2.47667464e-04-4.50440353e-05j</span>,\n",
       "<span style=\"color: #7fbf7f; text-decoration-color: #7fbf7f\">│   │   </span><span style=\"color: #008080; text-decoration-color: #008080; font-weight: bold\">6.65869490e-05+1.10357500e-05j</span>, <span style=\"color: #008080; text-decoration-color: #008080; font-weight: bold\">-1.71597518e-04-2.20562149e-04j</span>,\n",
       "<span style=\"color: #7fbf7f; text-decoration-color: #7fbf7f\">│      </span><span style=\"color: #008080; text-decoration-color: #008080; font-weight: bold\">-2.41030483e-04+1.62811815e-04j</span>,  <span style=\"color: #008080; text-decoration-color: #008080; font-weight: bold\">7.51507230e-05-9.61466216e-06j</span>,\n",
       "<span style=\"color: #7fbf7f; text-decoration-color: #7fbf7f\">│      </span><span style=\"color: #008080; text-decoration-color: #008080; font-weight: bold\">-3.35038439e-04-1.07009009e-04j</span>, <span style=\"color: #008080; text-decoration-color: #008080; font-weight: bold\">-1.06072713e-04+3.80714450e-04j</span>,\n",
       "<span style=\"color: #7fbf7f; text-decoration-color: #7fbf7f\">│   │   </span><span style=\"color: #008080; text-decoration-color: #008080; font-weight: bold\">4.36842457e-05-9.14267463e-05j</span>, <span style=\"color: #008080; text-decoration-color: #008080; font-weight: bold\">-4.34152128e-04+2.48747263e-04j</span>,\n",
       "<span style=\"color: #7fbf7f; text-decoration-color: #7fbf7f\">│   │   </span><span style=\"color: #008080; text-decoration-color: #008080; font-weight: bold\">2.90520506e-04+4.28424092e-04j</span>, <span style=\"color: #008080; text-decoration-color: #008080; font-weight: bold\">-2.81152579e-05-1.86050378e-04j</span>,\n",
       "<span style=\"color: #7fbf7f; text-decoration-color: #7fbf7f\">│      </span><span style=\"color: #008080; text-decoration-color: #008080; font-weight: bold\">-1.48472409e-04+6.16287509e-04j</span>,  <span style=\"color: #008080; text-decoration-color: #008080; font-weight: bold\">6.73050347e-04+1.22290178e-05j</span>,\n",
       "<span style=\"color: #7fbf7f; text-decoration-color: #7fbf7f\">│      </span><span style=\"color: #008080; text-decoration-color: #008080; font-weight: bold\">-3.48982022e-04-1.29628847e-04j</span>,  <span style=\"color: #008080; text-decoration-color: #008080; font-weight: bold\">5.03801821e-04+6.32983499e-04j</span>,\n",
       "<span style=\"color: #7fbf7f; text-decoration-color: #7fbf7f\">│   │   </span><span style=\"color: #008080; text-decoration-color: #008080; font-weight: bold\">4.07587409e-04-6.85337839e-04j</span>, <span style=\"color: #008080; text-decoration-color: #008080; font-weight: bold\">-3.96897018e-04+3.66209660e-04j</span>,\n",
       "<span style=\"color: #7fbf7f; text-decoration-color: #7fbf7f\">│   │   </span><span style=\"color: #008080; text-decoration-color: #008080; font-weight: bold\">1.00115429e-03-2.82054573e-05j</span>, <span style=\"color: #008080; text-decoration-color: #008080; font-weight: bold\">-4.54052300e-04-8.39986303e-04j</span>,\n",
       "<span style=\"color: #7fbf7f; text-decoration-color: #7fbf7f\">│   │   </span><span style=\"color: #008080; text-decoration-color: #008080; font-weight: bold\">9.02010453e-05+7.55839324e-04j</span>,  <span style=\"color: #008080; text-decoration-color: #008080; font-weight: bold\">6.46281370e-04-1.02320790e-03j</span>,\n",
       "<span style=\"color: #7fbf7f; text-decoration-color: #7fbf7f\">│      </span><span style=\"color: #008080; text-decoration-color: #008080; font-weight: bold\">-1.22539141e-03+4.70263107e-05j</span>,  <span style=\"color: #008080; text-decoration-color: #008080; font-weight: bold\">9.51632789e-04+5.21497562e-04j</span>,\n",
       "<span style=\"color: #7fbf7f; text-decoration-color: #7fbf7f\">│      </span><span style=\"color: #008080; text-decoration-color: #008080; font-weight: bold\">-5.74786201e-04-1.38805620e-03j</span>, <span style=\"color: #008080; text-decoration-color: #008080; font-weight: bold\">-7.91394797e-04+1.45608258e-03j</span>,\n",
       "<span style=\"color: #7fbf7f; text-decoration-color: #7fbf7f\">│   │   </span><span style=\"color: #008080; text-decoration-color: #008080; font-weight: bold\">1.61432299e-03-7.05010679e-04j</span>, <span style=\"color: #008080; text-decoration-color: #008080; font-weight: bold\">-2.26112770e-03-6.37291507e-04j</span>,\n",
       "<span style=\"color: #7fbf7f; text-decoration-color: #7fbf7f\">│   │   </span><span style=\"color: #008080; text-decoration-color: #008080; font-weight: bold\">1.51361634e-03+2.66353819e-03j</span>,  <span style=\"color: #008080; text-decoration-color: #008080; font-weight: bold\">7.55271821e-04-4.24934319e-03j</span>,\n",
       "<span style=\"color: #7fbf7f; text-decoration-color: #7fbf7f\">│      </span><span style=\"color: #008080; text-decoration-color: #008080; font-weight: bold\">-6.14997581e-03+5.75589190e-03j</span>,  <span style=\"color: #008080; text-decoration-color: #008080; font-weight: bold\">2.63927605e-02-3.19439776e-02j</span>,\n",
       "<span style=\"color: #7fbf7f; text-decoration-color: #7fbf7f\">│   │   </span><span style=\"color: #008080; text-decoration-color: #008080; font-weight: bold\">4.49903525e-03+9.15879195e-03j</span>,  <span style=\"color: #008080; text-decoration-color: #008080; font-weight: bold\">8.64736385e-04-4.95513924e-03j</span>,\n",
       "<span style=\"color: #7fbf7f; text-decoration-color: #7fbf7f\">│      </span><span style=\"color: #008080; text-decoration-color: #008080; font-weight: bold\">-2.53778084e-03+2.09821916e-03j</span>,  <span style=\"color: #008080; text-decoration-color: #008080; font-weight: bold\">2.41759923e-03-7.47572044e-05j</span>,\n",
       "<span style=\"color: #7fbf7f; text-decoration-color: #7fbf7f\">│      </span><span style=\"color: #008080; text-decoration-color: #008080; font-weight: bold\">-1.60695312e-03-1.30596303e-03j</span>,  <span style=\"color: #008080; text-decoration-color: #008080; font-weight: bold\">1.64031346e-04+1.62108788e-03j</span>,\n",
       "<span style=\"color: #7fbf7f; text-decoration-color: #7fbf7f\">│   │   </span><span style=\"color: #008080; text-decoration-color: #008080; font-weight: bold\">5.80512073e-04-1.14494163e-03j</span>, <span style=\"color: #008080; text-decoration-color: #008080; font-weight: bold\">-1.21040896e-03+4.69809073e-04j</span>,\n",
       "<span style=\"color: #7fbf7f; text-decoration-color: #7fbf7f\">│   │   </span><span style=\"color: #008080; text-decoration-color: #008080; font-weight: bold\">8.78644875e-04+4.82631525e-04j</span>, <span style=\"color: #008080; text-decoration-color: #008080; font-weight: bold\">-4.47206082e-04-6.09164560e-04j</span>,\n",
       "<span style=\"color: #7fbf7f; text-decoration-color: #7fbf7f\">│      </span><span style=\"color: #008080; text-decoration-color: #008080; font-weight: bold\">-9.28818864e-05+9.31153385e-04j</span>,  <span style=\"color: #008080; text-decoration-color: #008080; font-weight: bold\">6.59033418e-04-2.67113255e-04j</span>,\n",
       "<span style=\"color: #7fbf7f; text-decoration-color: #7fbf7f\">│      </span><span style=\"color: #008080; text-decoration-color: #008080; font-weight: bold\">-4.12858520e-04+9.39065866e-05j</span>,  <span style=\"color: #008080; text-decoration-color: #008080; font-weight: bold\">6.29342192e-04+3.63084436e-04j</span>,\n",
       "<span style=\"color: #7fbf7f; text-decoration-color: #7fbf7f\">│   │   </span><span style=\"color: #008080; text-decoration-color: #008080; font-weight: bold\">1.88286410e-04-5.22603451e-04j</span>, <span style=\"color: #008080; text-decoration-color: #008080; font-weight: bold\">-6.14377886e-05+1.30410673e-04j</span>,\n",
       "<span style=\"color: #7fbf7f; text-decoration-color: #7fbf7f\">│   │   </span><span style=\"color: #008080; text-decoration-color: #008080; font-weight: bold\">4.79653461e-04-2.75805095e-04j</span>, <span style=\"color: #008080; text-decoration-color: #008080; font-weight: bold\">-2.33757609e-04-4.33933231e-04j</span>,\n",
       "<span style=\"color: #7fbf7f; text-decoration-color: #7fbf7f\">│   │   </span><span style=\"color: #008080; text-decoration-color: #008080; font-weight: bold\">3.00717637e-05+1.59918182e-05j</span>, <span style=\"color: #008080; text-decoration-color: #008080; font-weight: bold\">-2.84679940e-05-4.59779806e-04j</span>,\n",
       "<span style=\"color: #7fbf7f; text-decoration-color: #7fbf7f\">│      </span><span style=\"color: #008080; text-decoration-color: #008080; font-weight: bold\">-4.55698141e-04-7.93562824e-05j</span>, <span style=\"color: #008080; text-decoration-color: #008080; font-weight: bold\">-7.96242970e-05+4.48344751e-05j</span>,\n",
       "<span style=\"color: #7fbf7f; text-decoration-color: #7fbf7f\">│      </span><span style=\"color: #008080; text-decoration-color: #008080; font-weight: bold\">-3.10856572e-04-1.42405082e-04j</span>, <span style=\"color: #008080; text-decoration-color: #008080; font-weight: bold\">-3.02063977e-04+3.16105049e-04j</span>,\n",
       "<span style=\"color: #7fbf7f; text-decoration-color: #7fbf7f\">│   │   </span><span style=\"color: #008080; text-decoration-color: #008080; font-weight: bold\">1.23957286e-05+9.31623664e-05j</span>, <span style=\"color: #008080; text-decoration-color: #008080; font-weight: bold\">-2.85511623e-04+1.18266506e-04j</span>,\n",
       "<span style=\"color: #7fbf7f; text-decoration-color: #7fbf7f\">│   │   </span><span style=\"color: #008080; text-decoration-color: #008080; font-weight: bold\">5.33753149e-07+3.92839144e-04j</span>,  <span style=\"color: #008080; text-decoration-color: #008080; font-weight: bold\">7.58476779e-05+7.60548621e-05j</span>,\n",
       "<span style=\"color: #7fbf7f; text-decoration-color: #7fbf7f\">│      </span><span style=\"color: #008080; text-decoration-color: #008080; font-weight: bold\">-6.49434162e-05+3.21341251e-04j</span>,  <span style=\"color: #008080; text-decoration-color: #008080; font-weight: bold\">3.67538366e-04+2.87983745e-04j</span>,\n",
       "<span style=\"color: #7fbf7f; text-decoration-color: #7fbf7f\">│   │   </span><span style=\"color: #008080; text-decoration-color: #008080; font-weight: bold\">1.57198429e-04-3.09293640e-06j</span>,  <span style=\"color: #008080; text-decoration-color: #008080; font-weight: bold\">2.76109197e-04+1.98252628e-04j</span>,\n",
       "<span style=\"color: #7fbf7f; text-decoration-color: #7fbf7f\">│   │   </span><span style=\"color: #008080; text-decoration-color: #008080; font-weight: bold\">3.85344982e-04-1.69092694e-04j</span>,  <span style=\"color: #008080; text-decoration-color: #008080; font-weight: bold\">6.21695007e-05-1.16304620e-04j</span>,\n",
       "<span style=\"color: #7fbf7f; text-decoration-color: #7fbf7f\">│   │   </span><span style=\"color: #008080; text-decoration-color: #008080; font-weight: bold\">3.13903138e-04-8.16631827e-05j</span>,  <span style=\"color: #008080; text-decoration-color: #008080; font-weight: bold\">7.21952851e-05-4.12476714e-04j</span>,\n",
       "<span style=\"color: #7fbf7f; text-decoration-color: #7fbf7f\">│      </span><span style=\"color: #008080; text-decoration-color: #008080; font-weight: bold\">-1.95687489e-05-1.34318040e-04j</span>,  <span style=\"color: #008080; text-decoration-color: #008080; font-weight: bold\">7.15446541e-05-3.31701388e-04j</span>,\n",
       "<span style=\"color: #7fbf7f; text-decoration-color: #7fbf7f\">│      </span><span style=\"color: #008080; text-decoration-color: #008080; font-weight: bold\">-2.64549087e-04-2.65729151e-04j</span>, <span style=\"color: #008080; text-decoration-color: #008080; font-weight: bold\">-1.10931782e-04-8.37020936e-05j</span>,\n",
       "<span style=\"color: #7fbf7f; text-decoration-color: #7fbf7f\">│      </span><span style=\"color: #008080; text-decoration-color: #008080; font-weight: bold\">-2.57762820e-04-2.52341212e-04j</span>, <span style=\"color: #008080; text-decoration-color: #008080; font-weight: bold\">-3.16433037e-04+1.04375099e-04j</span>,\n",
       "<span style=\"color: #7fbf7f; text-decoration-color: #7fbf7f\">│      </span><span style=\"color: #008080; text-decoration-color: #008080; font-weight: bold\">-1.37084971e-04+4.79180482e-06j</span>, <span style=\"color: #008080; text-decoration-color: #008080; font-weight: bold\">-3.26421995e-04+1.34094678e-04j</span>,\n",
       "<span style=\"color: #7fbf7f; text-decoration-color: #7fbf7f\">│      </span><span style=\"color: #008080; text-decoration-color: #008080; font-weight: bold\">-7.48255364e-05+2.74934878e-04j</span>, <span style=\"color: #008080; text-decoration-color: #008080; font-weight: bold\">-5.68957954e-05+1.25885165e-04j</span>,\n",
       "<span style=\"color: #7fbf7f; text-decoration-color: #7fbf7f\">│      </span><span style=\"color: #008080; text-decoration-color: #008080; font-weight: bold\">-1.24838229e-05+3.04225062e-04j</span>,  <span style=\"color: #008080; text-decoration-color: #008080; font-weight: bold\">1.94546868e-04+1.42139697e-04j</span>,\n",
       "<span style=\"color: #7fbf7f; text-decoration-color: #7fbf7f\">│   │   </span><span style=\"color: #008080; text-decoration-color: #008080; font-weight: bold\">8.74444777e-05+8.80880389e-05j</span>,  <span style=\"color: #008080; text-decoration-color: #008080; font-weight: bold\">2.01671574e-04+8.87805381e-05j</span>,\n",
       "<span style=\"color: #7fbf7f; text-decoration-color: #7fbf7f\">│   │   </span><span style=\"color: #008080; text-decoration-color: #008080; font-weight: bold\">1.59631202e-04-8.06149622e-05j</span>,  <span style=\"color: #008080; text-decoration-color: #008080; font-weight: bold\">8.84200828e-05-2.56063622e-05j</span>,\n",
       "<span style=\"color: #7fbf7f; text-decoration-color: #7fbf7f\">│   │   </span><span style=\"color: #008080; text-decoration-color: #008080; font-weight: bold\">1.09916298e-04-1.02250031e-04j</span>,  <span style=\"color: #008080; text-decoration-color: #008080; font-weight: bold\">5.99228005e-07-9.17847444e-05j</span>,\n",
       "<span style=\"color: #7fbf7f; text-decoration-color: #7fbf7f\">│   │   </span><span style=\"color: #008080; text-decoration-color: #008080; font-weight: bold\">1.91479158e-05-6.13474775e-05j</span><span style=\"font-weight: bold\">])</span>,\n",
       "<span style=\"color: #7fbf7f; text-decoration-color: #7fbf7f\">│   │   │   </span><span style=\"color: #808000; text-decoration-color: #808000\">axis_name</span>=<span style=\"font-weight: bold\">[</span>\n",
       "<span style=\"color: #7fbf7f; text-decoration-color: #7fbf7f\">│   │   │   │   </span><span style=\"color: #008000; text-decoration-color: #008000\">'frequencies_q0'</span>\n",
       "<span style=\"color: #7fbf7f; text-decoration-color: #7fbf7f\">│   │   │   </span><span style=\"font-weight: bold\">]</span>,\n",
       "<span style=\"color: #7fbf7f; text-decoration-color: #7fbf7f\">│   │   │   </span><span style=\"color: #808000; text-decoration-color: #808000\">axis</span>=<span style=\"font-weight: bold\">[</span>\n",
       "<span style=\"color: #7fbf7f; text-decoration-color: #7fbf7f\">│   │   │   │   </span><span style=\"color: #800080; text-decoration-color: #800080; font-weight: bold\">array</span><span style=\"font-weight: bold\">([</span><span style=\"color: #008080; text-decoration-color: #008080; font-weight: bold\">7.300e+09</span>, <span style=\"color: #008080; text-decoration-color: #008080; font-weight: bold\">7.307e+09</span>, <span style=\"color: #008080; text-decoration-color: #008080; font-weight: bold\">7.314e+09</span>, <span style=\"color: #008080; text-decoration-color: #008080; font-weight: bold\">7.321e+09</span>, <span style=\"color: #008080; text-decoration-color: #008080; font-weight: bold\">7.328e+09</span>, <span style=\"color: #008080; text-decoration-color: #008080; font-weight: bold\">7.335e+09</span>,\n",
       "<span style=\"color: #7fbf7f; text-decoration-color: #7fbf7f\">│      </span><span style=\"color: #008080; text-decoration-color: #008080; font-weight: bold\">7.342e+09</span>, <span style=\"color: #008080; text-decoration-color: #008080; font-weight: bold\">7.349e+09</span>, <span style=\"color: #008080; text-decoration-color: #008080; font-weight: bold\">7.356e+09</span>, <span style=\"color: #008080; text-decoration-color: #008080; font-weight: bold\">7.363e+09</span>, <span style=\"color: #008080; text-decoration-color: #008080; font-weight: bold\">7.370e+09</span>, <span style=\"color: #008080; text-decoration-color: #008080; font-weight: bold\">7.377e+09</span>,\n",
       "<span style=\"color: #7fbf7f; text-decoration-color: #7fbf7f\">│      </span><span style=\"color: #008080; text-decoration-color: #008080; font-weight: bold\">7.384e+09</span>, <span style=\"color: #008080; text-decoration-color: #008080; font-weight: bold\">7.391e+09</span>, <span style=\"color: #008080; text-decoration-color: #008080; font-weight: bold\">7.398e+09</span>, <span style=\"color: #008080; text-decoration-color: #008080; font-weight: bold\">7.405e+09</span>, <span style=\"color: #008080; text-decoration-color: #008080; font-weight: bold\">7.412e+09</span>, <span style=\"color: #008080; text-decoration-color: #008080; font-weight: bold\">7.419e+09</span>,\n",
       "<span style=\"color: #7fbf7f; text-decoration-color: #7fbf7f\">│      </span><span style=\"color: #008080; text-decoration-color: #008080; font-weight: bold\">7.426e+09</span>, <span style=\"color: #008080; text-decoration-color: #008080; font-weight: bold\">7.433e+09</span>, <span style=\"color: #008080; text-decoration-color: #008080; font-weight: bold\">7.440e+09</span>, <span style=\"color: #008080; text-decoration-color: #008080; font-weight: bold\">7.447e+09</span>, <span style=\"color: #008080; text-decoration-color: #008080; font-weight: bold\">7.454e+09</span>, <span style=\"color: #008080; text-decoration-color: #008080; font-weight: bold\">7.461e+09</span>,\n",
       "<span style=\"color: #7fbf7f; text-decoration-color: #7fbf7f\">│      </span><span style=\"color: #008080; text-decoration-color: #008080; font-weight: bold\">7.468e+09</span>, <span style=\"color: #008080; text-decoration-color: #008080; font-weight: bold\">7.475e+09</span>, <span style=\"color: #008080; text-decoration-color: #008080; font-weight: bold\">7.482e+09</span>, <span style=\"color: #008080; text-decoration-color: #008080; font-weight: bold\">7.489e+09</span>, <span style=\"color: #008080; text-decoration-color: #008080; font-weight: bold\">7.496e+09</span>, <span style=\"color: #008080; text-decoration-color: #008080; font-weight: bold\">7.503e+09</span>,\n",
       "<span style=\"color: #7fbf7f; text-decoration-color: #7fbf7f\">│      </span><span style=\"color: #008080; text-decoration-color: #008080; font-weight: bold\">7.510e+09</span>, <span style=\"color: #008080; text-decoration-color: #008080; font-weight: bold\">7.517e+09</span>, <span style=\"color: #008080; text-decoration-color: #008080; font-weight: bold\">7.524e+09</span>, <span style=\"color: #008080; text-decoration-color: #008080; font-weight: bold\">7.531e+09</span>, <span style=\"color: #008080; text-decoration-color: #008080; font-weight: bold\">7.538e+09</span>, <span style=\"color: #008080; text-decoration-color: #008080; font-weight: bold\">7.545e+09</span>,\n",
       "<span style=\"color: #7fbf7f; text-decoration-color: #7fbf7f\">│      </span><span style=\"color: #008080; text-decoration-color: #008080; font-weight: bold\">7.552e+09</span>, <span style=\"color: #008080; text-decoration-color: #008080; font-weight: bold\">7.559e+09</span>, <span style=\"color: #008080; text-decoration-color: #008080; font-weight: bold\">7.566e+09</span>, <span style=\"color: #008080; text-decoration-color: #008080; font-weight: bold\">7.573e+09</span>, <span style=\"color: #008080; text-decoration-color: #008080; font-weight: bold\">7.580e+09</span>, <span style=\"color: #008080; text-decoration-color: #008080; font-weight: bold\">7.587e+09</span>,\n",
       "<span style=\"color: #7fbf7f; text-decoration-color: #7fbf7f\">│      </span><span style=\"color: #008080; text-decoration-color: #008080; font-weight: bold\">7.594e+09</span>, <span style=\"color: #008080; text-decoration-color: #008080; font-weight: bold\">7.601e+09</span>, <span style=\"color: #008080; text-decoration-color: #008080; font-weight: bold\">7.608e+09</span>, <span style=\"color: #008080; text-decoration-color: #008080; font-weight: bold\">7.615e+09</span>, <span style=\"color: #008080; text-decoration-color: #008080; font-weight: bold\">7.622e+09</span>, <span style=\"color: #008080; text-decoration-color: #008080; font-weight: bold\">7.629e+09</span>,\n",
       "<span style=\"color: #7fbf7f; text-decoration-color: #7fbf7f\">│      </span><span style=\"color: #008080; text-decoration-color: #008080; font-weight: bold\">7.636e+09</span>, <span style=\"color: #008080; text-decoration-color: #008080; font-weight: bold\">7.643e+09</span>, <span style=\"color: #008080; text-decoration-color: #008080; font-weight: bold\">7.650e+09</span>, <span style=\"color: #008080; text-decoration-color: #008080; font-weight: bold\">7.657e+09</span>, <span style=\"color: #008080; text-decoration-color: #008080; font-weight: bold\">7.664e+09</span>, <span style=\"color: #008080; text-decoration-color: #008080; font-weight: bold\">7.671e+09</span>,\n",
       "<span style=\"color: #7fbf7f; text-decoration-color: #7fbf7f\">│      </span><span style=\"color: #008080; text-decoration-color: #008080; font-weight: bold\">7.678e+09</span>, <span style=\"color: #008080; text-decoration-color: #008080; font-weight: bold\">7.685e+09</span>, <span style=\"color: #008080; text-decoration-color: #008080; font-weight: bold\">7.692e+09</span>, <span style=\"color: #008080; text-decoration-color: #008080; font-weight: bold\">7.699e+09</span>, <span style=\"color: #008080; text-decoration-color: #008080; font-weight: bold\">7.706e+09</span>, <span style=\"color: #008080; text-decoration-color: #008080; font-weight: bold\">7.713e+09</span>,\n",
       "<span style=\"color: #7fbf7f; text-decoration-color: #7fbf7f\">│      </span><span style=\"color: #008080; text-decoration-color: #008080; font-weight: bold\">7.720e+09</span>, <span style=\"color: #008080; text-decoration-color: #008080; font-weight: bold\">7.727e+09</span>, <span style=\"color: #008080; text-decoration-color: #008080; font-weight: bold\">7.734e+09</span>, <span style=\"color: #008080; text-decoration-color: #008080; font-weight: bold\">7.741e+09</span>, <span style=\"color: #008080; text-decoration-color: #008080; font-weight: bold\">7.748e+09</span>, <span style=\"color: #008080; text-decoration-color: #008080; font-weight: bold\">7.755e+09</span>,\n",
       "<span style=\"color: #7fbf7f; text-decoration-color: #7fbf7f\">│      </span><span style=\"color: #008080; text-decoration-color: #008080; font-weight: bold\">7.762e+09</span>, <span style=\"color: #008080; text-decoration-color: #008080; font-weight: bold\">7.769e+09</span>, <span style=\"color: #008080; text-decoration-color: #008080; font-weight: bold\">7.776e+09</span>, <span style=\"color: #008080; text-decoration-color: #008080; font-weight: bold\">7.783e+09</span>, <span style=\"color: #008080; text-decoration-color: #008080; font-weight: bold\">7.790e+09</span>, <span style=\"color: #008080; text-decoration-color: #008080; font-weight: bold\">7.797e+09</span>,\n",
       "<span style=\"color: #7fbf7f; text-decoration-color: #7fbf7f\">│      </span><span style=\"color: #008080; text-decoration-color: #008080; font-weight: bold\">7.804e+09</span>, <span style=\"color: #008080; text-decoration-color: #008080; font-weight: bold\">7.811e+09</span>, <span style=\"color: #008080; text-decoration-color: #008080; font-weight: bold\">7.818e+09</span>, <span style=\"color: #008080; text-decoration-color: #008080; font-weight: bold\">7.825e+09</span>, <span style=\"color: #008080; text-decoration-color: #008080; font-weight: bold\">7.832e+09</span>, <span style=\"color: #008080; text-decoration-color: #008080; font-weight: bold\">7.839e+09</span>,\n",
       "<span style=\"color: #7fbf7f; text-decoration-color: #7fbf7f\">│      </span><span style=\"color: #008080; text-decoration-color: #008080; font-weight: bold\">7.846e+09</span>, <span style=\"color: #008080; text-decoration-color: #008080; font-weight: bold\">7.853e+09</span>, <span style=\"color: #008080; text-decoration-color: #008080; font-weight: bold\">7.860e+09</span>, <span style=\"color: #008080; text-decoration-color: #008080; font-weight: bold\">7.867e+09</span>, <span style=\"color: #008080; text-decoration-color: #008080; font-weight: bold\">7.874e+09</span>, <span style=\"color: #008080; text-decoration-color: #008080; font-weight: bold\">7.881e+09</span>,\n",
       "<span style=\"color: #7fbf7f; text-decoration-color: #7fbf7f\">│      </span><span style=\"color: #008080; text-decoration-color: #008080; font-weight: bold\">7.888e+09</span>, <span style=\"color: #008080; text-decoration-color: #008080; font-weight: bold\">7.895e+09</span>, <span style=\"color: #008080; text-decoration-color: #008080; font-weight: bold\">7.902e+09</span>, <span style=\"color: #008080; text-decoration-color: #008080; font-weight: bold\">7.909e+09</span>, <span style=\"color: #008080; text-decoration-color: #008080; font-weight: bold\">7.916e+09</span>, <span style=\"color: #008080; text-decoration-color: #008080; font-weight: bold\">7.923e+09</span>,\n",
       "<span style=\"color: #7fbf7f; text-decoration-color: #7fbf7f\">│      </span><span style=\"color: #008080; text-decoration-color: #008080; font-weight: bold\">7.930e+09</span>, <span style=\"color: #008080; text-decoration-color: #008080; font-weight: bold\">7.937e+09</span>, <span style=\"color: #008080; text-decoration-color: #008080; font-weight: bold\">7.944e+09</span>, <span style=\"color: #008080; text-decoration-color: #008080; font-weight: bold\">7.951e+09</span>, <span style=\"color: #008080; text-decoration-color: #008080; font-weight: bold\">7.958e+09</span>, <span style=\"color: #008080; text-decoration-color: #008080; font-weight: bold\">7.965e+09</span>,\n",
       "<span style=\"color: #7fbf7f; text-decoration-color: #7fbf7f\">│      </span><span style=\"color: #008080; text-decoration-color: #008080; font-weight: bold\">7.972e+09</span>, <span style=\"color: #008080; text-decoration-color: #008080; font-weight: bold\">7.979e+09</span>, <span style=\"color: #008080; text-decoration-color: #008080; font-weight: bold\">7.986e+09</span>, <span style=\"color: #008080; text-decoration-color: #008080; font-weight: bold\">7.993e+09</span>, <span style=\"color: #008080; text-decoration-color: #008080; font-weight: bold\">8.000e+09</span><span style=\"font-weight: bold\">])</span>\n",
       "<span style=\"color: #7fbf7f; text-decoration-color: #7fbf7f\">│   │   │   </span><span style=\"font-weight: bold\">]</span>\n",
       "<span style=\"color: #7fbf7f; text-decoration-color: #7fbf7f\">│   │   </span><span style=\"font-weight: bold\">)</span>\n",
       "<span style=\"color: #7fbf7f; text-decoration-color: #7fbf7f\">│   </span><span style=\"font-weight: bold\">}</span>,\n",
       "<span style=\"color: #7fbf7f; text-decoration-color: #7fbf7f\">│   </span><span style=\"color: #008000; text-decoration-color: #008000\">'neartime_callbacks'</span>: <span style=\"font-weight: bold\">{}</span>\n",
       "<span style=\"font-weight: bold\">}</span>\n",
       "</pre>\n"
      ],
      "text/plain": [
       "\u001b[1m{\u001b[0m\n",
       "\u001b[2;32m│   \u001b[0m\u001b[32m'errors'\u001b[0m: \u001b[1m[\u001b[0m\u001b[1m]\u001b[0m,\n",
       "\u001b[2;32m│   \u001b[0m\u001b[32m'q0'\u001b[0m: \u001b[1m{\u001b[0m\n",
       "\u001b[2;32m│   │   \u001b[0m\u001b[32m'result'\u001b[0m: \u001b[1;35mAcquiredResult\u001b[0m\u001b[1m(\u001b[0m\n",
       "\u001b[2;32m│   │   │   \u001b[0m\u001b[33mdata\u001b[0m=\u001b[1;35marray\u001b[0m\u001b[1m(\u001b[0m\u001b[1m[\u001b[0m \u001b[1;36m2.78608549e-04+1.33689928e-04j\u001b[0m, \u001b[1;36m-6.45304719e-05-2.85227970e-04j\u001b[0m,\n",
       "\u001b[2;32m│      \u001b[0m\u001b[1;36m-8.25259633e-05+2.23293784e-04j\u001b[0m,  \u001b[1;36m2.78938811e-04-1.44685199e-04j\u001b[0m,\n",
       "\u001b[2;32m│      \u001b[0m\u001b[1;36m-2.41203148e-04-1.03075372e-04j\u001b[0m,  \u001b[1;36m1.62908366e-04+1.72388085e-04j\u001b[0m,\n",
       "\u001b[2;32m│   │   \u001b[0m\u001b[1;36m4.90629988e-05-2.86213190e-04j\u001b[0m, \u001b[1;36m-1.95085945e-04+1.13221933e-04j\u001b[0m,\n",
       "\u001b[2;32m│   │   \u001b[0m\u001b[1;36m2.40423654e-04-1.71499285e-05j\u001b[0m, \u001b[1;36m-1.23378583e-04-2.10670216e-04j\u001b[0m,\n",
       "\u001b[2;32m│      \u001b[0m\u001b[1;36m-2.69307015e-05+1.55984714e-04j\u001b[0m,  \u001b[1;36m1.55020814e-04-1.84545764e-04j\u001b[0m,\n",
       "\u001b[2;32m│      \u001b[0m\u001b[1;36m-1.83289401e-04-1.00043414e-04j\u001b[0m,  \u001b[1;36m6.39549659e-05+5.26190347e-05j\u001b[0m,\n",
       "\u001b[2;32m│   │   \u001b[0m\u001b[1;36m1.17718363e-05-2.32798817e-04j\u001b[0m, \u001b[1;36m-2.47667464e-04-4.50440353e-05j\u001b[0m,\n",
       "\u001b[2;32m│   │   \u001b[0m\u001b[1;36m6.65869490e-05+1.10357500e-05j\u001b[0m, \u001b[1;36m-1.71597518e-04-2.20562149e-04j\u001b[0m,\n",
       "\u001b[2;32m│      \u001b[0m\u001b[1;36m-2.41030483e-04+1.62811815e-04j\u001b[0m,  \u001b[1;36m7.51507230e-05-9.61466216e-06j\u001b[0m,\n",
       "\u001b[2;32m│      \u001b[0m\u001b[1;36m-3.35038439e-04-1.07009009e-04j\u001b[0m, \u001b[1;36m-1.06072713e-04+3.80714450e-04j\u001b[0m,\n",
       "\u001b[2;32m│   │   \u001b[0m\u001b[1;36m4.36842457e-05-9.14267463e-05j\u001b[0m, \u001b[1;36m-4.34152128e-04+2.48747263e-04j\u001b[0m,\n",
       "\u001b[2;32m│   │   \u001b[0m\u001b[1;36m2.90520506e-04+4.28424092e-04j\u001b[0m, \u001b[1;36m-2.81152579e-05-1.86050378e-04j\u001b[0m,\n",
       "\u001b[2;32m│      \u001b[0m\u001b[1;36m-1.48472409e-04+6.16287509e-04j\u001b[0m,  \u001b[1;36m6.73050347e-04+1.22290178e-05j\u001b[0m,\n",
       "\u001b[2;32m│      \u001b[0m\u001b[1;36m-3.48982022e-04-1.29628847e-04j\u001b[0m,  \u001b[1;36m5.03801821e-04+6.32983499e-04j\u001b[0m,\n",
       "\u001b[2;32m│   │   \u001b[0m\u001b[1;36m4.07587409e-04-6.85337839e-04j\u001b[0m, \u001b[1;36m-3.96897018e-04+3.66209660e-04j\u001b[0m,\n",
       "\u001b[2;32m│   │   \u001b[0m\u001b[1;36m1.00115429e-03-2.82054573e-05j\u001b[0m, \u001b[1;36m-4.54052300e-04-8.39986303e-04j\u001b[0m,\n",
       "\u001b[2;32m│   │   \u001b[0m\u001b[1;36m9.02010453e-05+7.55839324e-04j\u001b[0m,  \u001b[1;36m6.46281370e-04-1.02320790e-03j\u001b[0m,\n",
       "\u001b[2;32m│      \u001b[0m\u001b[1;36m-1.22539141e-03+4.70263107e-05j\u001b[0m,  \u001b[1;36m9.51632789e-04+5.21497562e-04j\u001b[0m,\n",
       "\u001b[2;32m│      \u001b[0m\u001b[1;36m-5.74786201e-04-1.38805620e-03j\u001b[0m, \u001b[1;36m-7.91394797e-04+1.45608258e-03j\u001b[0m,\n",
       "\u001b[2;32m│   │   \u001b[0m\u001b[1;36m1.61432299e-03-7.05010679e-04j\u001b[0m, \u001b[1;36m-2.26112770e-03-6.37291507e-04j\u001b[0m,\n",
       "\u001b[2;32m│   │   \u001b[0m\u001b[1;36m1.51361634e-03+2.66353819e-03j\u001b[0m,  \u001b[1;36m7.55271821e-04-4.24934319e-03j\u001b[0m,\n",
       "\u001b[2;32m│      \u001b[0m\u001b[1;36m-6.14997581e-03+5.75589190e-03j\u001b[0m,  \u001b[1;36m2.63927605e-02-3.19439776e-02j\u001b[0m,\n",
       "\u001b[2;32m│   │   \u001b[0m\u001b[1;36m4.49903525e-03+9.15879195e-03j\u001b[0m,  \u001b[1;36m8.64736385e-04-4.95513924e-03j\u001b[0m,\n",
       "\u001b[2;32m│      \u001b[0m\u001b[1;36m-2.53778084e-03+2.09821916e-03j\u001b[0m,  \u001b[1;36m2.41759923e-03-7.47572044e-05j\u001b[0m,\n",
       "\u001b[2;32m│      \u001b[0m\u001b[1;36m-1.60695312e-03-1.30596303e-03j\u001b[0m,  \u001b[1;36m1.64031346e-04+1.62108788e-03j\u001b[0m,\n",
       "\u001b[2;32m│   │   \u001b[0m\u001b[1;36m5.80512073e-04-1.14494163e-03j\u001b[0m, \u001b[1;36m-1.21040896e-03+4.69809073e-04j\u001b[0m,\n",
       "\u001b[2;32m│   │   \u001b[0m\u001b[1;36m8.78644875e-04+4.82631525e-04j\u001b[0m, \u001b[1;36m-4.47206082e-04-6.09164560e-04j\u001b[0m,\n",
       "\u001b[2;32m│      \u001b[0m\u001b[1;36m-9.28818864e-05+9.31153385e-04j\u001b[0m,  \u001b[1;36m6.59033418e-04-2.67113255e-04j\u001b[0m,\n",
       "\u001b[2;32m│      \u001b[0m\u001b[1;36m-4.12858520e-04+9.39065866e-05j\u001b[0m,  \u001b[1;36m6.29342192e-04+3.63084436e-04j\u001b[0m,\n",
       "\u001b[2;32m│   │   \u001b[0m\u001b[1;36m1.88286410e-04-5.22603451e-04j\u001b[0m, \u001b[1;36m-6.14377886e-05+1.30410673e-04j\u001b[0m,\n",
       "\u001b[2;32m│   │   \u001b[0m\u001b[1;36m4.79653461e-04-2.75805095e-04j\u001b[0m, \u001b[1;36m-2.33757609e-04-4.33933231e-04j\u001b[0m,\n",
       "\u001b[2;32m│   │   \u001b[0m\u001b[1;36m3.00717637e-05+1.59918182e-05j\u001b[0m, \u001b[1;36m-2.84679940e-05-4.59779806e-04j\u001b[0m,\n",
       "\u001b[2;32m│      \u001b[0m\u001b[1;36m-4.55698141e-04-7.93562824e-05j\u001b[0m, \u001b[1;36m-7.96242970e-05+4.48344751e-05j\u001b[0m,\n",
       "\u001b[2;32m│      \u001b[0m\u001b[1;36m-3.10856572e-04-1.42405082e-04j\u001b[0m, \u001b[1;36m-3.02063977e-04+3.16105049e-04j\u001b[0m,\n",
       "\u001b[2;32m│   │   \u001b[0m\u001b[1;36m1.23957286e-05+9.31623664e-05j\u001b[0m, \u001b[1;36m-2.85511623e-04+1.18266506e-04j\u001b[0m,\n",
       "\u001b[2;32m│   │   \u001b[0m\u001b[1;36m5.33753149e-07+3.92839144e-04j\u001b[0m,  \u001b[1;36m7.58476779e-05+7.60548621e-05j\u001b[0m,\n",
       "\u001b[2;32m│      \u001b[0m\u001b[1;36m-6.49434162e-05+3.21341251e-04j\u001b[0m,  \u001b[1;36m3.67538366e-04+2.87983745e-04j\u001b[0m,\n",
       "\u001b[2;32m│   │   \u001b[0m\u001b[1;36m1.57198429e-04-3.09293640e-06j\u001b[0m,  \u001b[1;36m2.76109197e-04+1.98252628e-04j\u001b[0m,\n",
       "\u001b[2;32m│   │   \u001b[0m\u001b[1;36m3.85344982e-04-1.69092694e-04j\u001b[0m,  \u001b[1;36m6.21695007e-05-1.16304620e-04j\u001b[0m,\n",
       "\u001b[2;32m│   │   \u001b[0m\u001b[1;36m3.13903138e-04-8.16631827e-05j\u001b[0m,  \u001b[1;36m7.21952851e-05-4.12476714e-04j\u001b[0m,\n",
       "\u001b[2;32m│      \u001b[0m\u001b[1;36m-1.95687489e-05-1.34318040e-04j\u001b[0m,  \u001b[1;36m7.15446541e-05-3.31701388e-04j\u001b[0m,\n",
       "\u001b[2;32m│      \u001b[0m\u001b[1;36m-2.64549087e-04-2.65729151e-04j\u001b[0m, \u001b[1;36m-1.10931782e-04-8.37020936e-05j\u001b[0m,\n",
       "\u001b[2;32m│      \u001b[0m\u001b[1;36m-2.57762820e-04-2.52341212e-04j\u001b[0m, \u001b[1;36m-3.16433037e-04+1.04375099e-04j\u001b[0m,\n",
       "\u001b[2;32m│      \u001b[0m\u001b[1;36m-1.37084971e-04+4.79180482e-06j\u001b[0m, \u001b[1;36m-3.26421995e-04+1.34094678e-04j\u001b[0m,\n",
       "\u001b[2;32m│      \u001b[0m\u001b[1;36m-7.48255364e-05+2.74934878e-04j\u001b[0m, \u001b[1;36m-5.68957954e-05+1.25885165e-04j\u001b[0m,\n",
       "\u001b[2;32m│      \u001b[0m\u001b[1;36m-1.24838229e-05+3.04225062e-04j\u001b[0m,  \u001b[1;36m1.94546868e-04+1.42139697e-04j\u001b[0m,\n",
       "\u001b[2;32m│   │   \u001b[0m\u001b[1;36m8.74444777e-05+8.80880389e-05j\u001b[0m,  \u001b[1;36m2.01671574e-04+8.87805381e-05j\u001b[0m,\n",
       "\u001b[2;32m│   │   \u001b[0m\u001b[1;36m1.59631202e-04-8.06149622e-05j\u001b[0m,  \u001b[1;36m8.84200828e-05-2.56063622e-05j\u001b[0m,\n",
       "\u001b[2;32m│   │   \u001b[0m\u001b[1;36m1.09916298e-04-1.02250031e-04j\u001b[0m,  \u001b[1;36m5.99228005e-07-9.17847444e-05j\u001b[0m,\n",
       "\u001b[2;32m│   │   \u001b[0m\u001b[1;36m1.91479158e-05-6.13474775e-05j\u001b[0m\u001b[1m]\u001b[0m\u001b[1m)\u001b[0m,\n",
       "\u001b[2;32m│   │   │   \u001b[0m\u001b[33maxis_name\u001b[0m=\u001b[1m[\u001b[0m\n",
       "\u001b[2;32m│   │   │   │   \u001b[0m\u001b[32m'frequencies_q0'\u001b[0m\n",
       "\u001b[2;32m│   │   │   \u001b[0m\u001b[1m]\u001b[0m,\n",
       "\u001b[2;32m│   │   │   \u001b[0m\u001b[33maxis\u001b[0m=\u001b[1m[\u001b[0m\n",
       "\u001b[2;32m│   │   │   │   \u001b[0m\u001b[1;35marray\u001b[0m\u001b[1m(\u001b[0m\u001b[1m[\u001b[0m\u001b[1;36m7.300e+09\u001b[0m, \u001b[1;36m7.307e+09\u001b[0m, \u001b[1;36m7.314e+09\u001b[0m, \u001b[1;36m7.321e+09\u001b[0m, \u001b[1;36m7.328e+09\u001b[0m, \u001b[1;36m7.335e+09\u001b[0m,\n",
       "\u001b[2;32m│      \u001b[0m\u001b[1;36m7.342e+09\u001b[0m, \u001b[1;36m7.349e+09\u001b[0m, \u001b[1;36m7.356e+09\u001b[0m, \u001b[1;36m7.363e+09\u001b[0m, \u001b[1;36m7.370e+09\u001b[0m, \u001b[1;36m7.377e+09\u001b[0m,\n",
       "\u001b[2;32m│      \u001b[0m\u001b[1;36m7.384e+09\u001b[0m, \u001b[1;36m7.391e+09\u001b[0m, \u001b[1;36m7.398e+09\u001b[0m, \u001b[1;36m7.405e+09\u001b[0m, \u001b[1;36m7.412e+09\u001b[0m, \u001b[1;36m7.419e+09\u001b[0m,\n",
       "\u001b[2;32m│      \u001b[0m\u001b[1;36m7.426e+09\u001b[0m, \u001b[1;36m7.433e+09\u001b[0m, \u001b[1;36m7.440e+09\u001b[0m, \u001b[1;36m7.447e+09\u001b[0m, \u001b[1;36m7.454e+09\u001b[0m, \u001b[1;36m7.461e+09\u001b[0m,\n",
       "\u001b[2;32m│      \u001b[0m\u001b[1;36m7.468e+09\u001b[0m, \u001b[1;36m7.475e+09\u001b[0m, \u001b[1;36m7.482e+09\u001b[0m, \u001b[1;36m7.489e+09\u001b[0m, \u001b[1;36m7.496e+09\u001b[0m, \u001b[1;36m7.503e+09\u001b[0m,\n",
       "\u001b[2;32m│      \u001b[0m\u001b[1;36m7.510e+09\u001b[0m, \u001b[1;36m7.517e+09\u001b[0m, \u001b[1;36m7.524e+09\u001b[0m, \u001b[1;36m7.531e+09\u001b[0m, \u001b[1;36m7.538e+09\u001b[0m, \u001b[1;36m7.545e+09\u001b[0m,\n",
       "\u001b[2;32m│      \u001b[0m\u001b[1;36m7.552e+09\u001b[0m, \u001b[1;36m7.559e+09\u001b[0m, \u001b[1;36m7.566e+09\u001b[0m, \u001b[1;36m7.573e+09\u001b[0m, \u001b[1;36m7.580e+09\u001b[0m, \u001b[1;36m7.587e+09\u001b[0m,\n",
       "\u001b[2;32m│      \u001b[0m\u001b[1;36m7.594e+09\u001b[0m, \u001b[1;36m7.601e+09\u001b[0m, \u001b[1;36m7.608e+09\u001b[0m, \u001b[1;36m7.615e+09\u001b[0m, \u001b[1;36m7.622e+09\u001b[0m, \u001b[1;36m7.629e+09\u001b[0m,\n",
       "\u001b[2;32m│      \u001b[0m\u001b[1;36m7.636e+09\u001b[0m, \u001b[1;36m7.643e+09\u001b[0m, \u001b[1;36m7.650e+09\u001b[0m, \u001b[1;36m7.657e+09\u001b[0m, \u001b[1;36m7.664e+09\u001b[0m, \u001b[1;36m7.671e+09\u001b[0m,\n",
       "\u001b[2;32m│      \u001b[0m\u001b[1;36m7.678e+09\u001b[0m, \u001b[1;36m7.685e+09\u001b[0m, \u001b[1;36m7.692e+09\u001b[0m, \u001b[1;36m7.699e+09\u001b[0m, \u001b[1;36m7.706e+09\u001b[0m, \u001b[1;36m7.713e+09\u001b[0m,\n",
       "\u001b[2;32m│      \u001b[0m\u001b[1;36m7.720e+09\u001b[0m, \u001b[1;36m7.727e+09\u001b[0m, \u001b[1;36m7.734e+09\u001b[0m, \u001b[1;36m7.741e+09\u001b[0m, \u001b[1;36m7.748e+09\u001b[0m, \u001b[1;36m7.755e+09\u001b[0m,\n",
       "\u001b[2;32m│      \u001b[0m\u001b[1;36m7.762e+09\u001b[0m, \u001b[1;36m7.769e+09\u001b[0m, \u001b[1;36m7.776e+09\u001b[0m, \u001b[1;36m7.783e+09\u001b[0m, \u001b[1;36m7.790e+09\u001b[0m, \u001b[1;36m7.797e+09\u001b[0m,\n",
       "\u001b[2;32m│      \u001b[0m\u001b[1;36m7.804e+09\u001b[0m, \u001b[1;36m7.811e+09\u001b[0m, \u001b[1;36m7.818e+09\u001b[0m, \u001b[1;36m7.825e+09\u001b[0m, \u001b[1;36m7.832e+09\u001b[0m, \u001b[1;36m7.839e+09\u001b[0m,\n",
       "\u001b[2;32m│      \u001b[0m\u001b[1;36m7.846e+09\u001b[0m, \u001b[1;36m7.853e+09\u001b[0m, \u001b[1;36m7.860e+09\u001b[0m, \u001b[1;36m7.867e+09\u001b[0m, \u001b[1;36m7.874e+09\u001b[0m, \u001b[1;36m7.881e+09\u001b[0m,\n",
       "\u001b[2;32m│      \u001b[0m\u001b[1;36m7.888e+09\u001b[0m, \u001b[1;36m7.895e+09\u001b[0m, \u001b[1;36m7.902e+09\u001b[0m, \u001b[1;36m7.909e+09\u001b[0m, \u001b[1;36m7.916e+09\u001b[0m, \u001b[1;36m7.923e+09\u001b[0m,\n",
       "\u001b[2;32m│      \u001b[0m\u001b[1;36m7.930e+09\u001b[0m, \u001b[1;36m7.937e+09\u001b[0m, \u001b[1;36m7.944e+09\u001b[0m, \u001b[1;36m7.951e+09\u001b[0m, \u001b[1;36m7.958e+09\u001b[0m, \u001b[1;36m7.965e+09\u001b[0m,\n",
       "\u001b[2;32m│      \u001b[0m\u001b[1;36m7.972e+09\u001b[0m, \u001b[1;36m7.979e+09\u001b[0m, \u001b[1;36m7.986e+09\u001b[0m, \u001b[1;36m7.993e+09\u001b[0m, \u001b[1;36m8.000e+09\u001b[0m\u001b[1m]\u001b[0m\u001b[1m)\u001b[0m\n",
       "\u001b[2;32m│   │   │   \u001b[0m\u001b[1m]\u001b[0m\n",
       "\u001b[2;32m│   │   \u001b[0m\u001b[1m)\u001b[0m\n",
       "\u001b[2;32m│   \u001b[0m\u001b[1m}\u001b[0m,\n",
       "\u001b[2;32m│   \u001b[0m\u001b[32m'neartime_callbacks'\u001b[0m: \u001b[1m{\u001b[0m\u001b[1m}\u001b[0m\n",
       "\u001b[1m}\u001b[0m\n"
      ]
     },
     "metadata": {},
     "output_type": "display_data"
    },
    {
     "data": {
      "text/plain": []
     },
     "execution_count": 37,
     "metadata": {},
     "output_type": "execute_result"
    }
   ],
   "source": [
    "result"
   ]
  },
  {
   "cell_type": "code",
   "execution_count": 29,
   "id": "1d3adec3",
   "metadata": {},
   "outputs": [
    {
     "name": "stdout",
     "output_type": "stream",
     "text": [
      "[2025.04.29 14:54:22.787] INFO    Logging initialized from [Default inline config in laboneq.laboneq_logging] logdir is c:\\Users\\sqil\\Desktop\\code\\sqil-experiments\\measurements\\laboneq_output\\log\n",
      "\u001b[0m[2025.04.29 14:54:22.787] INFO    VERSION: laboneq 2.50.0\n",
      "\u001b[0m[2025.04.29 14:54:22.787] INFO    Connecting to data server at localhost:8004\n",
      "\u001b[0m[2025.04.29 14:54:22.798] INFO    Connected to Zurich Instruments LabOne Data Server version 25.01.0.834 at localhost:8004\n",
      "\u001b[0m[2025.04.29 14:54:22.850] WARNING SHFQC/QA:dev12183: Include the device options 'SHFQC/QC4CH' in the device setup ('options' field of the 'instruments' list in the device setup descriptor, 'device_options' argument when constructing instrument objects to be added to 'DeviceSetup' instances). This will become a strict requirement in the future.\n",
      "\u001b[0m[2025.04.29 14:54:22.855] INFO    Configuring the device setup\n",
      "\u001b[0m[2025.04.29 14:54:22.907] INFO    The device setup is configured\n",
      "\u001b[0m[2025.04.29 14:54:22.915] INFO    \u001b[1m ────────────────────────────────────────────────────────────────────────────── \u001b[0m\n",
      "\u001b[0m[2025.04.29 14:54:22.917] INFO    \u001b[1m \u001b[0m\u001b[1m \u001b[0m\u001b[1mWorkflow 'resonator_spectroscopy': execution started at 2025-04-29 \u001b[0m\u001b[1m         \u001b[0m\u001b[1m \u001b[0m\u001b[1m \u001b[0m\n",
      "\u001b[0m[2025.04.29 14:54:22.918] INFO    \u001b[1m \u001b[0m\u001b[1m \u001b[0m\u001b[1m12:54:22.915963Z\u001b[0m\u001b[1m                                                            \u001b[0m\u001b[1m \u001b[0m\u001b[1m \u001b[0m\n",
      "\u001b[0m[2025.04.29 14:54:22.919] INFO    \u001b[1m ────────────────────────────────────────────────────────────────────────────── \u001b[0m\n",
      "\u001b[0m[2025.04.29 14:54:22.920] INFO    \u001b[1mTask 'temporary_modify': started at 2025-04-29 12:54:22.920159Z\u001b[0m\n",
      "\u001b[0m[2025.04.29 14:54:22.921] INFO    \u001b[1mTask 'temporary_modify': ended at 2025-04-29 12:54:22.921160Z\u001b[0m\n",
      "\u001b[0m[2025.04.29 14:54:22.922] INFO    \u001b[1mTask 'create_experiment': started at 2025-04-29 12:54:22.922159Z\u001b[0m\n",
      "\u001b[0m[2025.04.29 14:54:22.923] INFO    \u001b[1mTask 'create_experiment': ended at 2025-04-29 12:54:22.923158Z\u001b[0m\n",
      "\u001b[0m[2025.04.29 14:54:22.924] INFO    \u001b[1mTask 'compile_experiment': started at 2025-04-29 12:54:22.924489Z\u001b[0m\n",
      "\u001b[0m[2025.04.29 14:54:22.925] INFO    Starting LabOne Q Compiler run...\n",
      "\u001b[0m[2025.04.29 14:54:22.933] INFO    Schedule completed. [0.014 s]\n",
      "\u001b[0m[2025.04.29 14:54:22.969] INFO    Code generation completed for all AWGs. [0.026 s]\n",
      "\u001b[0m[2025.04.29 14:54:22.969] INFO    Completed compilation step 1 of 1. [0.042 s]\n",
      "\u001b[0m[2025.04.29 14:54:22.972] INFO     ─────────────────────────────────────────────────────────────────────── \n",
      "\u001b[0m[2025.04.29 14:54:22.973] INFO     \u001b[1m \u001b[0m\u001b[1mDevice           \u001b[0m\u001b[1m \u001b[0m \u001b[1m \u001b[0m\u001b[1mAWG\u001b[0m\u001b[1m \u001b[0m \u001b[1m \u001b[0m\u001b[1mSeqC LOC\u001b[0m\u001b[1m \u001b[0m \u001b[1m \u001b[0m\u001b[1mCT entries\u001b[0m\u001b[1m \u001b[0m \u001b[1m \u001b[0m\u001b[1mWaveforms\u001b[0m\u001b[1m \u001b[0m \u001b[1m \u001b[0m\u001b[1mSamples\u001b[0m\u001b[1m \u001b[0m \n",
      "\u001b[0m[2025.04.29 14:54:22.974] INFO     ─────────────────────────────────────────────────────────────────────── \n",
      "\u001b[0m[2025.04.29 14:54:22.974] INFO      SHFQC_dev12183        0         21            0           1      8000  \n",
      "\u001b[0m[2025.04.29 14:54:22.975] INFO      SHFQC_dev12183_sg     0          4            1           0         0  \n",
      "\u001b[0m[2025.04.29 14:54:22.976] INFO     ─────────────────────────────────────────────────────────────────────── \n",
      "\u001b[0m[2025.04.29 14:54:22.977] INFO     \u001b[1m \u001b[0m\u001b[1mTOTAL            \u001b[0m\u001b[1m \u001b[0m \u001b[1m \u001b[0m\u001b[1m   \u001b[0m\u001b[1m \u001b[0m \u001b[1m \u001b[0m\u001b[1m      25\u001b[0m\u001b[1m \u001b[0m \u001b[1m \u001b[0m\u001b[1m         1\u001b[0m\u001b[1m \u001b[0m \u001b[1m \u001b[0m\u001b[1m         \u001b[0m\u001b[1m \u001b[0m \u001b[1m \u001b[0m\u001b[1m   8000\u001b[0m\u001b[1m \u001b[0m \n",
      "\u001b[0m[2025.04.29 14:54:22.978] INFO     ─────────────────────────────────────────────────────────────────────── \n",
      "\u001b[0m[2025.04.29 14:54:22.980] INFO    Finished LabOne Q Compiler run.\n",
      "\u001b[0m[2025.04.29 14:54:22.981] INFO    \u001b[1mTask 'compile_experiment': ended at 2025-04-29 12:54:22.981743Z\u001b[0m\n",
      "\u001b[0m[2025.04.29 14:54:22.981] INFO    \u001b[1mTask 'run_experiment': started at 2025-04-29 12:54:22.981743Z\u001b[0m\n",
      "\u001b[0m[2025.04.29 14:54:23.348] INFO    Starting near-time execution...\n",
      "\u001b[0m[2025.04.29 14:54:23.871] WARNING SHFQC/QA:dev12183: Channel 0 Output overrange count: 31\n",
      "\u001b[0m[2025.04.29 14:54:23.984] INFO    Finished near-time execution.\n",
      "\u001b[0m[2025.04.29 14:54:24.008] INFO    \u001b[1mTask 'run_experiment': ended at 2025-04-29 12:54:24.008641Z\u001b[0m\n",
      "\u001b[0m[2025.04.29 14:54:24.016] INFO    \u001b[1m ────────────────────────────────────────────────────────────────────────────── \u001b[0m\n",
      "\u001b[0m[2025.04.29 14:54:24.017] INFO    \u001b[1m \u001b[0m\u001b[1m \u001b[0m\u001b[1mWorkflow 'analysis_workflow': execution started at 2025-04-29 \u001b[0m\u001b[1m              \u001b[0m\u001b[1m \u001b[0m\u001b[1m \u001b[0m\n",
      "\u001b[0m[2025.04.29 14:54:24.017] INFO    \u001b[1m \u001b[0m\u001b[1m \u001b[0m\u001b[1m12:54:24.015907Z\u001b[0m\u001b[1m                                                            \u001b[0m\u001b[1m \u001b[0m\u001b[1m \u001b[0m\n",
      "\u001b[0m[2025.04.29 14:54:24.018] INFO    \u001b[1m ────────────────────────────────────────────────────────────────────────────── \u001b[0m\n",
      "\u001b[0m[2025.04.29 14:54:24.019] INFO    \u001b[1mTask 'calculate_signal_magnitude_and_phase': started at 2025-04-29 \u001b[0m\n",
      "\u001b[0m[2025.04.29 14:54:24.020] INFO    \u001b[1m12:54:24.019912Z\u001b[0m\n",
      "\u001b[0m[2025.04.29 14:54:24.022] INFO    \u001b[1mTask 'calculate_signal_magnitude_and_phase': ended at 2025-04-29 \u001b[0m\n",
      "\u001b[0m[2025.04.29 14:54:24.023] INFO    \u001b[1m12:54:24.021911Z\u001b[0m\n",
      "\u001b[0m[2025.04.29 14:54:24.024] INFO    \u001b[1mTask 'fit_data': started at 2025-04-29 12:54:24.023912Z\u001b[0m\n",
      "\u001b[0m[2025.04.29 14:54:24.025] INFO    \u001b[1mTask 'fit_data': ended at 2025-04-29 12:54:24.025911Z\u001b[0m\n",
      "\u001b[0m[2025.04.29 14:54:24.026] INFO    \u001b[1mTask 'extract_qubit_parameters': started at 2025-04-29 12:54:24.025911Z\u001b[0m\n",
      "\u001b[0m[2025.04.29 14:54:24.027] INFO    \u001b[1mTask 'extract_qubit_parameters': ended at 2025-04-29 12:54:24.027911Z\u001b[0m\n",
      "\u001b[0m[2025.04.29 14:54:24.029] INFO    \u001b[1mTask 'plot_raw_complex_data_1d': started at 2025-04-29 12:54:24.027911Z\u001b[0m\n",
      "\u001b[0m[2025.04.29 14:54:24.038] INFO    \u001b[1mArtifact: 'Raw_data_q0' of type 'Figure' logged at 2025-04-29 12:54:24.038725Z\u001b[0m\n",
      "\u001b[0m[2025.04.29 14:54:24.039] INFO    \u001b[1mTask 'plot_raw_complex_data_1d': ended at 2025-04-29 12:54:24.039727Z\u001b[0m\n",
      "\u001b[0m[2025.04.29 14:54:24.040] INFO    \u001b[1mTask 'plot_magnitude_phase': started at 2025-04-29 12:54:24.040726Z\u001b[0m\n",
      "\u001b[0m[2025.04.29 14:54:24.050] INFO    \u001b[1mArtifact: 'Magnitude_Phase_q0' of type 'Figure' logged at 2025-04-29 \u001b[0m\n",
      "\u001b[0m[2025.04.29 14:54:24.051] INFO    \u001b[1m12:54:24.050347Z\u001b[0m\n",
      "\u001b[0m[2025.04.29 14:54:24.052] INFO    \u001b[1mTask 'plot_magnitude_phase': ended at 2025-04-29 12:54:24.052346Z\u001b[0m\n",
      "\u001b[0m[2025.04.29 14:54:24.053] INFO    \u001b[1mTask 'plot_real_imaginary': started at 2025-04-29 12:54:24.053346Z\u001b[0m\n",
      "\u001b[0m[2025.04.29 14:54:24.055] INFO    \u001b[1mArtifact: 'Real_Imaginary_q0' of type 'Figure' logged at 2025-04-29 \u001b[0m\n",
      "\u001b[0m[2025.04.29 14:54:24.055] INFO    \u001b[1m12:54:24.055348Z\u001b[0m\n",
      "\u001b[0m[2025.04.29 14:54:24.055] INFO    \u001b[1mTask 'plot_real_imaginary': ended at 2025-04-29 12:54:24.055348Z\u001b[0m\n",
      "\u001b[0m[2025.04.29 14:54:24.055] INFO    \u001b[1m ────────────────────────────────────────────────────────────────────────────── \u001b[0m\n",
      "\u001b[0m[2025.04.29 14:54:24.055] INFO    \u001b[1m \u001b[0m\u001b[1m \u001b[0m\u001b[1mWorkflow 'analysis_workflow': execution ended at 2025-04-29 12:54:24.055348Z\u001b[0m\u001b[1m \u001b[0m\u001b[1m \u001b[0m\n",
      "\u001b[0m[2025.04.29 14:54:24.055] INFO    \u001b[1m ────────────────────────────────────────────────────────────────────────────── \u001b[0m\n",
      "\u001b[0m[2025.04.29 14:54:24.064] INFO    \u001b[1m ────────────────────────────────────────────────────────────────────────────── \u001b[0m\n",
      "\u001b[0m[2025.04.29 14:54:24.064] INFO    \u001b[1m \u001b[0m\u001b[1m \u001b[0m\u001b[1mWorkflow 'resonator_spectroscopy': execution ended at 2025-04-29 \u001b[0m\u001b[1m           \u001b[0m\u001b[1m \u001b[0m\u001b[1m \u001b[0m\n",
      "\u001b[0m[2025.04.29 14:54:24.065] INFO    \u001b[1m \u001b[0m\u001b[1m \u001b[0m\u001b[1m12:54:24.055348Z\u001b[0m\u001b[1m                                                            \u001b[0m\u001b[1m \u001b[0m\u001b[1m \u001b[0m\n",
      "\u001b[0m[2025.04.29 14:54:24.065] INFO    \u001b[1m ────────────────────────────────────────────────────────────────────────────── \u001b[0m\n",
      "\u001b[0m"
     ]
    }
   ],
   "source": [
    "from laboneq import serializers\n",
    "from laboneq.contrib.example_helpers.generate_descriptor import generate_descriptor\n",
    "from laboneq.dsl.quantum import QPU\n",
    "from laboneq.simple import DeviceSetup\n",
    "from laboneq_applications.qpu_types.tunable_transmon import (\n",
    "    TunableTransmonOperations,\n",
    "    TunableTransmonQubit,\n",
    ")\n",
    "from laboneq.dsl.session import Session\n",
    "\n",
    "from helpers.laboneq import print_qpu_signals\n",
    "\n",
    "from laboneq_applications.experiments import resonator_spectroscopy\n",
    "from laboneq_applications.experiments.options import TuneUpWorkflowOptions\n",
    "import matplotlib.pyplot as plt\n",
    "\n",
    "# Zurich instruments stetup\n",
    "zi_descriptor = generate_descriptor(\n",
    "    shfqc_6=[\"dev12183\"],\n",
    "    number_data_qubits=1,\n",
    "    number_flux_lines=0,\n",
    "    include_cr_lines=False,\n",
    "    multiplex=True,\n",
    "    number_multiplex=1,\n",
    "    get_zsync=False,\n",
    "    ip_address=\"localhost\",\n",
    ")\n",
    "\n",
    "zi_setup = DeviceSetup.from_descriptor(zi_descriptor, \"localhost\")\n",
    "zi_session = Session(zi_setup)\n",
    "zi_session.connect()\n",
    "\n",
    "qubits = TunableTransmonQubit.from_device_setup(zi_setup)\n",
    "quantum_operations = TunableTransmonOperations()\n",
    "qpu = QPU(qubits=qubits, quantum_operations=quantum_operations)\n",
    "\n",
    "qpu.qubits[0].update(**{\"drive_lo_frequency\": 5e9})\n",
    "qpu.qubits[0].update(**{\"readout_lo_frequency\": 7.2e9})\n",
    "qpu.qubits[0].update(**{\"readout_resonator_frequency\": 7.4e9})\n",
    "\n",
    "experiment_workflow = resonator_spectroscopy.experiment_workflow(\n",
    "    session=zi_session,\n",
    "    qpu=qpu,\n",
    "    qubit=qubits[0],\n",
    "    frequencies=np.linspace(7.3e9, 8e9, 101),\n",
    "    options={\"do_analysis\":True}\n",
    ")\n",
    "\n",
    "workflow_result = experiment_workflow.run()\n",
    "plt.show()"
   ]
  },
  {
   "cell_type": "code",
   "execution_count": 32,
   "id": "0d2d4d05",
   "metadata": {},
   "outputs": [
    {
     "data": {
      "text/plain": [
       "{'old_parameter_values': {'q0': {'readout_resonator_frequency': 7400000000.0}},\n",
       " 'new_parameter_values': {'q0': {'readout_resonator_frequency': 7748000000.0+/-0}}}"
      ]
     },
     "execution_count": 32,
     "metadata": {},
     "output_type": "execute_result"
    }
   ],
   "source": [
    "analysis_workflow_results = workflow_result.tasks[\"analysis_workflow\"]\n",
    "analysis_workflow_results.output"
   ]
  }
 ],
 "metadata": {
  "kernelspec": {
   "display_name": "sqil-experiments-gl8RHkKX-py3.12",
   "language": "python",
   "name": "python3"
  },
  "language_info": {
   "codemirror_mode": {
    "name": "ipython",
    "version": 3
   },
   "file_extension": ".py",
   "mimetype": "text/x-python",
   "name": "python",
   "nbconvert_exporter": "python",
   "pygments_lexer": "ipython3",
   "version": "3.12.7"
  }
 },
 "nbformat": 4,
 "nbformat_minor": 5
}
