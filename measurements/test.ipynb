{
 "cells": [
  {
   "cell_type": "code",
   "execution_count": 1,
   "id": "3fa84856",
   "metadata": {},
   "outputs": [
    {
     "ename": "KeyboardInterrupt",
     "evalue": "",
     "output_type": "error",
     "traceback": [
      "\u001b[31m---------------------------------------------------------------------------\u001b[39m",
      "\u001b[31mKeyboardInterrupt\u001b[39m                         Traceback (most recent call last)",
      "\u001b[36mCell\u001b[39m\u001b[36m \u001b[39m\u001b[32mIn[1]\u001b[39m\u001b[32m, line 3\u001b[39m\n\u001b[32m      1\u001b[39m \u001b[38;5;28;01mfrom\u001b[39;00m\u001b[38;5;250m \u001b[39m\u001b[34;01mtyping\u001b[39;00m\u001b[38;5;250m \u001b[39m\u001b[38;5;28;01mimport\u001b[39;00m cast\n\u001b[32m----> \u001b[39m\u001b[32m3\u001b[39m \u001b[38;5;28;01mimport\u001b[39;00m\u001b[38;5;250m \u001b[39m\u001b[34;01msqil_core\u001b[39;00m\u001b[38;5;250m \u001b[39m\u001b[38;5;28;01mas\u001b[39;00m\u001b[38;5;250m \u001b[39m\u001b[34;01msqil\u001b[39;00m\n\u001b[32m      4\u001b[39m \u001b[38;5;28;01mfrom\u001b[39;00m\u001b[38;5;250m \u001b[39m\u001b[34;01msqil_core\u001b[39;00m\u001b[34;01m.\u001b[39;00m\u001b[34;01mconfig_log\u001b[39;00m\u001b[38;5;250m \u001b[39m\u001b[38;5;28;01mimport\u001b[39;00m logger\n\u001b[32m      6\u001b[39m \u001b[38;5;66;03m# Connect to the server and retrieve instruments\u001b[39;00m\n",
      "\u001b[36mFile \u001b[39m\u001b[32mc:\\Users\\sqil\\AppData\\Local\\pypoetry\\Cache\\virtualenvs\\sqil-experiments-gl8RHkKX-py3.12\\Lib\\site-packages\\sqil_core\\__init__.py:1\u001b[39m\n\u001b[32m----> \u001b[39m\u001b[32m1\u001b[39m \u001b[38;5;28;01mimport\u001b[39;00m\u001b[38;5;250m \u001b[39m\u001b[34;01msqil_core\u001b[39;00m\u001b[34;01m.\u001b[39;00m\u001b[34;01mexperiment\u001b[39;00m\u001b[38;5;250m \u001b[39m\u001b[38;5;28;01mas\u001b[39;00m\u001b[38;5;250m \u001b[39m\u001b[34;01mexperiment\u001b[39;00m\n\u001b[32m      2\u001b[39m \u001b[38;5;28;01mimport\u001b[39;00m\u001b[38;5;250m \u001b[39m\u001b[34;01msqil_core\u001b[39;00m\u001b[34;01m.\u001b[39;00m\u001b[34;01mfit\u001b[39;00m\u001b[38;5;250m \u001b[39m\u001b[38;5;28;01mas\u001b[39;00m\u001b[38;5;250m \u001b[39m\u001b[34;01mfit\u001b[39;00m\n\u001b[32m      3\u001b[39m \u001b[38;5;28;01mimport\u001b[39;00m\u001b[38;5;250m \u001b[39m\u001b[34;01msqil_core\u001b[39;00m\u001b[34;01m.\u001b[39;00m\u001b[34;01mresonator\u001b[39;00m\u001b[38;5;250m \u001b[39m\u001b[38;5;28;01mas\u001b[39;00m\u001b[38;5;250m \u001b[39m\u001b[34;01mresonator\u001b[39;00m\n",
      "\u001b[36mFile \u001b[39m\u001b[32mc:\\Users\\sqil\\AppData\\Local\\pypoetry\\Cache\\virtualenvs\\sqil-experiments-gl8RHkKX-py3.12\\Lib\\site-packages\\sqil_core\\experiment\\__init__.py:2\u001b[39m\n\u001b[32m      1\u001b[39m \u001b[38;5;28;01mfrom\u001b[39;00m\u001b[38;5;250m \u001b[39m\u001b[34;01m.\u001b[39;00m\u001b[34;01m_events\u001b[39;00m\u001b[38;5;250m \u001b[39m\u001b[38;5;28;01mimport\u001b[39;00m after_experiment, before_experiment\n\u001b[32m----> \u001b[39m\u001b[32m2\u001b[39m \u001b[38;5;28;01mfrom\u001b[39;00m\u001b[38;5;250m \u001b[39m\u001b[34;01m.\u001b[39;00m\u001b[34;01m_experiment\u001b[39;00m\u001b[38;5;250m \u001b[39m\u001b[38;5;28;01mimport\u001b[39;00m ExperimentHandler\n\u001b[32m      3\u001b[39m \u001b[38;5;28;01mfrom\u001b[39;00m\u001b[38;5;250m \u001b[39m\u001b[34;01m.\u001b[39;00m\u001b[34;01minstruments\u001b[39;00m\u001b[34;01m.\u001b[39;00m\u001b[34;01m_instrument\u001b[39;00m\u001b[38;5;250m \u001b[39m\u001b[38;5;28;01mimport\u001b[39;00m Instrument\n\u001b[32m      4\u001b[39m \u001b[38;5;28;01mfrom\u001b[39;00m\u001b[38;5;250m \u001b[39m\u001b[34;01m.\u001b[39;00m\u001b[34;01minstruments\u001b[39;00m\u001b[34;01m.\u001b[39;00m\u001b[34;01mlocal_oscillator\u001b[39;00m\u001b[38;5;250m \u001b[39m\u001b[38;5;28;01mimport\u001b[39;00m LocalOscillator\n",
      "\u001b[36mFile \u001b[39m\u001b[32mc:\\Users\\sqil\\AppData\\Local\\pypoetry\\Cache\\virtualenvs\\sqil-experiments-gl8RHkKX-py3.12\\Lib\\site-packages\\sqil_core\\experiment\\_experiment.py:14\u001b[39m\n\u001b[32m     12\u001b[39m \u001b[38;5;28;01mfrom\u001b[39;00m\u001b[38;5;250m \u001b[39m\u001b[34;01mlaboneq\u001b[39;00m\u001b[34;01m.\u001b[39;00m\u001b[34;01msimple\u001b[39;00m\u001b[38;5;250m \u001b[39m\u001b[38;5;28;01mimport\u001b[39;00m Experiment \u001b[38;5;28;01mas\u001b[39;00m LaboneQExperiment\n\u001b[32m     13\u001b[39m \u001b[38;5;28;01mfrom\u001b[39;00m\u001b[38;5;250m \u001b[39m\u001b[34;01mlaboneq\u001b[39;00m\u001b[34;01m.\u001b[39;00m\u001b[34;01mworkflow\u001b[39;00m\u001b[34;01m.\u001b[39;00m\u001b[34;01mtasks\u001b[39;00m\u001b[38;5;250m \u001b[39m\u001b[38;5;28;01mimport\u001b[39;00m compile_experiment, run_experiment\n\u001b[32m---> \u001b[39m\u001b[32m14\u001b[39m \u001b[38;5;28;01mfrom\u001b[39;00m\u001b[38;5;250m \u001b[39m\u001b[34;01mlaboneq_applications\u001b[39;00m\u001b[34;01m.\u001b[39;00m\u001b[34;01manalysis\u001b[39;00m\u001b[34;01m.\u001b[39;00m\u001b[34;01mresonator_spectroscopy\u001b[39;00m\u001b[38;5;250m \u001b[39m\u001b[38;5;28;01mimport\u001b[39;00m analysis_workflow\n\u001b[32m     15\u001b[39m \u001b[38;5;28;01mfrom\u001b[39;00m\u001b[38;5;250m \u001b[39m\u001b[34;01mlaboneq_applications\u001b[39;00m\u001b[34;01m.\u001b[39;00m\u001b[34;01mexperiments\u001b[39;00m\u001b[34;01m.\u001b[39;00m\u001b[34;01moptions\u001b[39;00m\u001b[38;5;250m \u001b[39m\u001b[38;5;28;01mimport\u001b[39;00m TuneUpWorkflowOptions\n\u001b[32m     16\u001b[39m \u001b[38;5;28;01mfrom\u001b[39;00m\u001b[38;5;250m \u001b[39m\u001b[34;01mlaboneq_applications\u001b[39;00m\u001b[34;01m.\u001b[39;00m\u001b[34;01mtasks\u001b[39;00m\u001b[34;01m.\u001b[39;00m\u001b[34;01mparameter_updating\u001b[39;00m\u001b[38;5;250m \u001b[39m\u001b[38;5;28;01mimport\u001b[39;00m (\n\u001b[32m     17\u001b[39m     temporary_modify,\n\u001b[32m     18\u001b[39m     update_qubits,\n\u001b[32m     19\u001b[39m )\n",
      "\u001b[36mFile \u001b[39m\u001b[32mc:\\Users\\sqil\\AppData\\Local\\pypoetry\\Cache\\virtualenvs\\sqil-experiments-gl8RHkKX-py3.12\\Lib\\site-packages\\laboneq_applications\\analysis\\resonator_spectroscopy.py:22\u001b[39m\n\u001b[32m     20\u001b[39m \u001b[38;5;28;01mimport\u001b[39;00m\u001b[38;5;250m \u001b[39m\u001b[34;01mmatplotlib\u001b[39;00m\u001b[34;01m.\u001b[39;00m\u001b[34;01mpyplot\u001b[39;00m\u001b[38;5;250m \u001b[39m\u001b[38;5;28;01mas\u001b[39;00m\u001b[38;5;250m \u001b[39m\u001b[34;01mplt\u001b[39;00m\n\u001b[32m     21\u001b[39m \u001b[38;5;28;01mimport\u001b[39;00m\u001b[38;5;250m \u001b[39m\u001b[34;01mnumpy\u001b[39;00m\u001b[38;5;250m \u001b[39m\u001b[38;5;28;01mas\u001b[39;00m\u001b[38;5;250m \u001b[39m\u001b[34;01mnp\u001b[39;00m\n\u001b[32m---> \u001b[39m\u001b[32m22\u001b[39m \u001b[38;5;28;01mimport\u001b[39;00m\u001b[38;5;250m \u001b[39m\u001b[34;01muncertainties\u001b[39;00m\u001b[38;5;250m \u001b[39m\u001b[38;5;28;01mas\u001b[39;00m\u001b[38;5;250m \u001b[39m\u001b[34;01munc\u001b[39;00m\n\u001b[32m     23\u001b[39m \u001b[38;5;28;01mfrom\u001b[39;00m\u001b[38;5;250m \u001b[39m\u001b[34;01mlaboneq\u001b[39;00m\u001b[38;5;250m \u001b[39m\u001b[38;5;28;01mimport\u001b[39;00m workflow\n\u001b[32m     24\u001b[39m \u001b[38;5;28;01mfrom\u001b[39;00m\u001b[38;5;250m \u001b[39m\u001b[34;01mlaboneq\u001b[39;00m\u001b[34;01m.\u001b[39;00m\u001b[34;01msimple\u001b[39;00m\u001b[38;5;250m \u001b[39m\u001b[38;5;28;01mimport\u001b[39;00m dsl\n",
      "\u001b[36mFile \u001b[39m\u001b[32m<frozen importlib._bootstrap>:1360\u001b[39m, in \u001b[36m_find_and_load\u001b[39m\u001b[34m(name, import_)\u001b[39m\n",
      "\u001b[36mFile \u001b[39m\u001b[32m<frozen importlib._bootstrap>:1322\u001b[39m, in \u001b[36m_find_and_load_unlocked\u001b[39m\u001b[34m(name, import_)\u001b[39m\n",
      "\u001b[36mFile \u001b[39m\u001b[32m<frozen importlib._bootstrap>:1262\u001b[39m, in \u001b[36m_find_spec\u001b[39m\u001b[34m(name, path, target)\u001b[39m\n",
      "\u001b[36mFile \u001b[39m\u001b[32m<frozen importlib._bootstrap_external>:1528\u001b[39m, in \u001b[36mfind_spec\u001b[39m\u001b[34m(cls, fullname, path, target)\u001b[39m\n",
      "\u001b[36mFile \u001b[39m\u001b[32m<frozen importlib._bootstrap_external>:1502\u001b[39m, in \u001b[36m_get_spec\u001b[39m\u001b[34m(cls, fullname, path, target)\u001b[39m\n",
      "\u001b[36mFile \u001b[39m\u001b[32m<frozen importlib._bootstrap_external>:1601\u001b[39m, in \u001b[36mfind_spec\u001b[39m\u001b[34m(self, fullname, target)\u001b[39m\n",
      "\u001b[36mFile \u001b[39m\u001b[32m<frozen importlib._bootstrap_external>:147\u001b[39m, in \u001b[36m_path_stat\u001b[39m\u001b[34m(path)\u001b[39m\n",
      "\u001b[31mKeyboardInterrupt\u001b[39m: "
     ]
    }
   ],
   "source": [
    "from typing import cast\n",
    "\n",
    "import sqil_core as sqil\n",
    "from sqil_core.config_log import logger\n",
    "\n",
    "# Connect to the server and retrieve instruments\n",
    "server, instruments = sqil.experiment.link_instrument_server()\n",
    "\n",
    "# Check available instruments\n",
    "logger.info(\"Connected to the instruments server\")\n",
    "logger.info(f\" instruments: {list(instruments.keys())}\")\n",
    "\n",
    "# Do something\n",
    "sgs = cast(sqil.experiment.LocalOscillator, instruments[\"sgs\"])\n",
    "logger.debug(\"Requesting SGS frequency change to 11 GHz\")\n",
    "sgs.set_frequency(11e9)\n",
    "# sgs.device\n",
    "\n",
    "\n",
    "# Disconnect from the instrument server and release variables\n",
    "sqil.experiment.unlink_instrument_server(server, **instruments)"
   ]
  },
  {
   "cell_type": "code",
   "execution_count": null,
   "id": "d433c9ba",
   "metadata": {},
   "outputs": [
    {
     "data": {
      "text/plain": [
       "NoneType"
      ]
     },
     "execution_count": 4,
     "metadata": {},
     "output_type": "execute_result"
    }
   ],
   "source": [
    "sgs.device"
   ]
  },
  {
   "cell_type": "code",
   "execution_count": null,
   "id": "22a0cbab",
   "metadata": {},
   "outputs": [
    {
     "name": "stdout",
     "output_type": "stream",
     "text": [
      "d83032f5404fd42a4fe88c4f0a86f896af5e30f773822cc5889fc436cacea6a5\u001b[0m \u001b[0md83032f5404fd42a4fe88c4f0a86f896af5e30f773822cc5889fc436cacea6a5\u001b[0m\n",
      "\u001b[0m[2025.05.11 11:11:26.048] INFO    Logging initialized from [Default inline config in laboneq.laboneq_logging] logdir is c:\\Users\\sqil\\Desktop\\code\\sqil-experiments\\measurements\\laboneq_output\\log\n",
      "\u001b[0m[2025.05.11 11:11:26.061] INFO    VERSION: laboneq 2.51.0\n",
      "\u001b[0m[2025.05.11 11:11:26.064] INFO    Connecting to data server at localhost:8004\n",
      "\u001b[0m[2025.05.11 11:11:26.073] INFO    Connected to Zurich Instruments LabOne Data Server version 25.04.0.628 at localhost:8004\n",
      "\u001b[0m[2025.05.11 11:11:26.080] WARNING SHFQC/QA:dev12183: Include the device options 'SHFQC/QC4CH' in the device setup ('options' field of the 'instruments' list in the device setup descriptor, 'device_options' argument when constructing instrument objects to be added to 'DeviceSetup' instances). This will become a strict requirement in the future.\n",
      "\u001b[0m[2025.05.11 11:11:26.086] INFO    Configuring the device setup\n",
      "\u001b[0m[2025.05.11 11:11:26.096] INFO    The device setup is configured\n",
      "\u001b[0m"
     ]
    },
    {
     "name": "stderr",
     "output_type": "stream",
     "text": [
      "2025-05-11 11:11:26,098 - \u001b[32mINFO\u001b[0m - Turning on local oscillators before experiment\n",
      "\u001b[0m"
     ]
    },
    {
     "name": "stdout",
     "output_type": "stream",
     "text": [
      "Hello\u001b[0m\n"
     ]
    },
    {
     "name": "stderr",
     "output_type": "stream",
     "text": [
      "2025-05-11 11:11:26,100 - \u001b[32mINFO\u001b[0m - Turning off local oscillators after experiment\n",
      "\u001b[0m"
     ]
    },
    {
     "name": "stdout",
     "output_type": "stream",
     "text": [
      "\u001b[0m"
     ]
    }
   ],
   "source": [
    "import sqil_core as sqil\n",
    "\n",
    "class Test(sqil.experiment.ExperimentHandler):\n",
    "    def sequence(self):\n",
    "        print(\"Hello\")\n",
    "\n",
    "t = Test()\n",
    "t.run()"
   ]
  },
  {
   "cell_type": "code",
   "execution_count": null,
   "id": "0fa996fe",
   "metadata": {},
   "outputs": [
    {
     "name": "stderr",
     "output_type": "stream",
     "text": [
      "2025-06-04 15:17:51,607 - \u001b[32mINFO\u001b[0m - Successfully connected to zi\n",
      "\u001b[0m"
     ]
    },
    {
     "name": "stdout",
     "output_type": "stream",
     "text": [
      "[2025.06.04 15:17:51.613] INFO    Logging initialized from [Default inline config in laboneq.laboneq_logging] logdir is c:\\Users\\sqil\\Desktop\\code\\sqil-experiments\\measurements\\laboneq_output\\log\n",
      "\u001b[0m[2025.06.04 15:17:51.615] INFO    VERSION: laboneq 2.51.0\n",
      "\u001b[0m[2025.06.04 15:17:51.616] INFO    Connecting to data server at localhost:8004\n",
      "\u001b[0m[2025.06.04 15:17:51.620] INFO    Connected to Zurich Instruments LabOne Data Server version 25.04.0.628 at localhost:8004\n",
      "\u001b[0m[2025.06.04 15:17:51.626] WARNING SHFQC/QA:dev12183: Include the device options 'SHFQC/QC4CH' in the device setup ('options' field of the 'instruments' list in the device setup descriptor, 'device_options' argument when constructing instrument objects to be added to 'DeviceSetup' instances). This will become a strict requirement in the future.\n",
      "\u001b[0m[2025.06.04 15:17:51.632] INFO    Configuring the device setup\n",
      "\u001b[0m[2025.06.04 15:17:51.639] INFO    The device setup is configured\n",
      "\u001b[0m"
     ]
    },
    {
     "name": "stderr",
     "output_type": "stream",
     "text": [
      "2025-06-04 15:17:51,642 - \u001b[32mINFO\u001b[0m - Turning on local oscillators before experiment\n",
      "\u001b[0m"
     ]
    },
    {
     "ename": "TypeError",
     "evalue": "'NoneType' object is not a mapping",
     "output_type": "error",
     "traceback": [
      "\u001b[31m---------------------------------------------------------------------------\u001b[39m",
      "\u001b[31mTypeError\u001b[39m                                 Traceback (most recent call last)",
      "\u001b[36mCell\u001b[39m\u001b[36m \u001b[39m\u001b[32mIn[5]\u001b[39m\u001b[32m, line 89\u001b[39m\n\u001b[32m     86\u001b[39m         plt.plot(params[\u001b[32m1\u001b[39m], np.abs(data))\n\u001b[32m     88\u001b[39m t = Test()\n\u001b[32m---> \u001b[39m\u001b[32m89\u001b[39m result = \u001b[43mt\u001b[49m\u001b[43m.\u001b[49m\u001b[43mrun\u001b[49m\u001b[43m(\u001b[49m\u001b[43mnp\u001b[49m\u001b[43m.\u001b[49m\u001b[43mlinspace\u001b[49m\u001b[43m(\u001b[49m\u001b[32;43m7.3e9\u001b[39;49m\u001b[43m,\u001b[49m\u001b[43m \u001b[49m\u001b[32;43m8e9\u001b[39;49m\u001b[43m,\u001b[49m\u001b[43m \u001b[49m\u001b[32;43m101\u001b[39;49m\u001b[43m)\u001b[49m\u001b[43m)\u001b[49m\n\u001b[32m     90\u001b[39m \u001b[38;5;66;03m# sweep={'ro_power': np.linspace(-40, -15, 2)}\u001b[39;00m\n",
      "\u001b[36mFile \u001b[39m\u001b[32mc:\\Users\\sqil\\AppData\\Local\\pypoetry\\Cache\\virtualenvs\\sqil-experiments-gl8RHkKX-py3.12\\Lib\\site-packages\\sqil_core\\experiment\\_experiment.py:162\u001b[39m, in \u001b[36mExperimentHandler.run\u001b[39m\u001b[34m(self, *params, **kwargs)\u001b[39m\n\u001b[32m    160\u001b[39m db_type = \u001b[38;5;28mself\u001b[39m.setup.get(\u001b[33m\"\u001b[39m\u001b[33mstorage\u001b[39m\u001b[33m\"\u001b[39m, {}).get(\u001b[33m\"\u001b[39m\u001b[33mdb_type\u001b[39m\u001b[33m\"\u001b[39m, \u001b[33m\"\u001b[39m\u001b[33m\"\u001b[39m)\n\u001b[32m    161\u001b[39m \u001b[38;5;28;01mif\u001b[39;00m db_type == \u001b[33m\"\u001b[39m\u001b[33mplottr\u001b[39m\u001b[33m\"\u001b[39m:\n\u001b[32m--> \u001b[39m\u001b[32m162\u001b[39m     \u001b[38;5;28;01mreturn\u001b[39;00m \u001b[38;5;28;43mself\u001b[39;49m\u001b[43m.\u001b[49m\u001b[43mrun_with_plottr\u001b[49m\u001b[43m(\u001b[49m\u001b[43m*\u001b[49m\u001b[43mparams\u001b[49m\u001b[43m,\u001b[49m\u001b[43m \u001b[49m\u001b[43m*\u001b[49m\u001b[43m*\u001b[49m\u001b[43mkwargs\u001b[49m\u001b[43m)\u001b[49m\n\u001b[32m    164\u001b[39m before_experiment.send()\n\u001b[32m    166\u001b[39m seq = \u001b[38;5;28mself\u001b[39m.sequence(*params, **kwargs)\n",
      "\u001b[36mFile \u001b[39m\u001b[32mc:\\Users\\sqil\\AppData\\Local\\pypoetry\\Cache\\virtualenvs\\sqil-experiments-gl8RHkKX-py3.12\\Lib\\site-packages\\sqil_core\\experiment\\_experiment.py:210\u001b[39m, in \u001b[36mExperimentHandler.run_with_plottr\u001b[39m\u001b[34m(self, *params, **kwargs)\u001b[39m\n\u001b[32m    207\u001b[39m         sweep_schema[\u001b[33mf\u001b[39m\u001b[33m\"\u001b[39m\u001b[33msweep\u001b[39m\u001b[38;5;132;01m{\u001b[39;00mi\u001b[38;5;132;01m}\u001b[39;00m\u001b[33m\"\u001b[39m] = {\u001b[33m\"\u001b[39m\u001b[33mtype\u001b[39m\u001b[33m\"\u001b[39m: \u001b[33m\"\u001b[39m\u001b[33maxis\u001b[39m\u001b[33m\"\u001b[39m, \u001b[33m\"\u001b[39m\u001b[33mname\u001b[39m\u001b[33m\"\u001b[39m: key}\n\u001b[32m    209\u001b[39m \u001b[38;5;66;03m# Create the plotter datadict (database) using the inferred schema\u001b[39;00m\n\u001b[32m--> \u001b[39m\u001b[32m210\u001b[39m db_schema = {**\u001b[38;5;28mself\u001b[39m.db_schema, **sweep_schema}\n\u001b[32m    211\u001b[39m datadict = build_plottr_dict(db_schema)\n\u001b[32m    212\u001b[39m \u001b[38;5;66;03m# Get local and server storage folders\u001b[39;00m\n",
      "\u001b[31mTypeError\u001b[39m: 'NoneType' object is not a mapping"
     ]
    }
   ],
   "source": [
    "import sqil_core as sqil\n",
    "import numpy as np\n",
    "import matplotlib.pyplot as plt\n",
    "# from rr_spec import create_experiment\n",
    "from laboneq.dsl.quantum import QPU\n",
    "from laboneq_applications.qpu_types.tunable_transmon import (\n",
    "    TunableTransmonOperations,\n",
    "    TunableTransmonQubit,\n",
    ")\n",
    "from helpers.sqil_transmon.qubit import SqilTransmon\n",
    "from helpers.sqil_transmon.operations import SqilTransmonOperations\n",
    "\n",
    "from laboneq_applications.experiments.options import (\n",
    "    ResonatorSpectroscopyExperimentOptions,\n",
    ")\n",
    "from laboneq_applications.core import validation\n",
    "from laboneq.dsl.enums import AcquisitionType\n",
    "from laboneq.simple import Experiment, SweepParameter, dsl\n",
    "\n",
    "from laboneq.dsl.quantum.quantum_element import QuantumElement\n",
    "from numpy.typing import ArrayLike\n",
    "\n",
    "# qubits = SqilTransmon.from_device_setup(self.zi_setup)\n",
    "# quantum_operations = SqilTransmonOperations()\n",
    "# qpu = QPU(qubits=qubits, quantum_operations=quantum_operations)\n",
    "\n",
    "\n",
    "@dsl.qubit_experiment\n",
    "def create_experiment(\n",
    "    qpu: QPU,\n",
    "    qubit: QuantumElement,\n",
    "    frequencies: ArrayLike,\n",
    "    options: ResonatorSpectroscopyExperimentOptions | None = None,\n",
    ") -> Experiment:\n",
    "    # Define the custom options for the experiment\n",
    "    opts = ResonatorSpectroscopyExperimentOptions() if options is None else options\n",
    "    qubit, frequencies = validation.validate_and_convert_single_qubit_sweeps(\n",
    "        qubit, frequencies\n",
    "    )\n",
    "    # guard against wrong options for the acquisition type\n",
    "    if AcquisitionType(opts.acquisition_type) != AcquisitionType.SPECTROSCOPY:\n",
    "        raise ValueError(\n",
    "            \"The only allowed acquisition_type for this experiment\"\n",
    "            \"is 'AcquisitionType.SPECTROSCOPY' (or 'spectrsocopy')\"\n",
    "            \"because it contains a sweep\"\n",
    "            \"of the frequency of a hardware oscillator.\",\n",
    "        )\n",
    "\n",
    "    qop = qpu.quantum_operations\n",
    "    with dsl.acquire_loop_rt(\n",
    "        count=opts.count,\n",
    "        averaging_mode=opts.averaging_mode,\n",
    "        acquisition_type=opts.acquisition_type,\n",
    "        repetition_mode=opts.repetition_mode,\n",
    "        repetition_time=opts.repetition_time,\n",
    "        reset_oscillator_phase=opts.reset_oscillator_phase,\n",
    "    ):\n",
    "        with dsl.sweep(\n",
    "            name=f\"freq_{qubit.uid}\",\n",
    "            parameter=SweepParameter(f\"frequencies_{qubit.uid}\", frequencies),\n",
    "        ) as frequency:\n",
    "            qop.set_frequency(qubit, frequency=frequency, readout=True)\n",
    "            if opts.use_cw:\n",
    "                qop.acquire(qubit, dsl.handles.result_handle(qubit.uid))\n",
    "            else:\n",
    "                qop.measure(qubit, dsl.handles.result_handle(qubit.uid))\n",
    "            qop.delay(qubit, opts.spectroscopy_reset_delay)\n",
    "\n",
    "\n",
    "class Test(sqil.experiment.ExperimentHandler):\n",
    "\n",
    "    def sequence(self, qu_idx, frequencies):\n",
    "        self.qpu.qubits[qu_idx].update(\n",
    "            **{\n",
    "                \"drive_lo_frequency\": 5e9,\n",
    "                \"readout_lo_frequency\": 7.2e9,\n",
    "                \"readout_resonator_frequency\": 7.4e9,\n",
    "            }\n",
    "        )\n",
    "        return create_experiment(self.qpu, self.qpu.qubits[qu_idx], frequencies)\n",
    "\n",
    "    def analyze(self, result, *params, **kwargs):\n",
    "        data = result[\"q0\"][\"result\"].data\n",
    "        # plt.plot(np.real(data), np.imag(data))\n",
    "        plt.plot(params[1], np.abs(data))\n",
    "\n",
    "t = Test()\n",
    "result = t.run(0, np.linspace(7.3e9, 8e9, 101))\n",
    "# sweep={'ro_power': np.linspace(-40, -15, 2)}"
   ]
  },
  {
   "cell_type": "code",
   "execution_count": null,
   "id": "22642f32",
   "metadata": {},
   "outputs": [
    {
     "data": {
      "text/plain": [
       "(101,)"
      ]
     },
     "execution_count": 35,
     "metadata": {},
     "output_type": "execute_result"
    }
   ],
   "source": [
    "result['q0'].result.data.shape"
   ]
  },
  {
   "cell_type": "code",
   "execution_count": 1,
   "id": "6c802f5f",
   "metadata": {},
   "outputs": [],
   "source": [
    "from laboneq import serializers\n",
    "from laboneq.contrib.example_helpers.generate_descriptor import generate_descriptor\n",
    "from laboneq.dsl.quantum import QPU\n",
    "from laboneq.simple import DeviceSetup\n",
    "from laboneq_applications.qpu_types.tunable_transmon import (\n",
    "    TunableTransmonOperations,\n",
    "    TunableTransmonQubit,\n",
    ")\n",
    "from helpers.sqil_transmon.qubit import SqilTransmon, SqilTransmonParameters\n",
    "from helpers.sqil_transmon.operations import SqilTransmonOperations\n",
    "\n",
    "zi_descriptor = generate_descriptor(\n",
    "    shfqc_6=[\"dev12183\"],\n",
    "    number_data_qubits=1,\n",
    "    number_flux_lines=0,\n",
    "    include_cr_lines=False,\n",
    "    multiplex=True,\n",
    "    number_multiplex=1,\n",
    "    get_zsync=False,\n",
    "    ip_address=\"localhost\",\n",
    ")\n",
    "\n",
    "\n",
    "zi_setup = DeviceSetup.from_descriptor(zi_descriptor, \"localhost\")\n",
    "\n",
    "qubits = SqilTransmon.from_device_setup(zi_setup)\n",
    "quantum_operations = SqilTransmonOperations()\n",
    "qpu = QPU(qubits=qubits, quantum_operations=quantum_operations)"
   ]
  },
  {
   "cell_type": "code",
   "execution_count": 28,
   "id": "2ff8d552",
   "metadata": {},
   "outputs": [],
   "source": [
    "b = qpu.copy_qubits()\n",
    "# qpu.override_qubits({qubit.uid: qubit.parameters for qubit in b})\n",
    "# dict(b[0].parameters)\n",
    "b[0].parameters\n",
    "\n",
    "qpu.qubits = b"
   ]
  },
  {
   "cell_type": "code",
   "execution_count": 4,
   "id": "61a86781",
   "metadata": {},
   "outputs": [
    {
     "name": "stdout",
     "output_type": "stream",
     "text": [
      "GOTCHA BITCH\n"
     ]
    },
    {
     "data": {
      "text/plain": [
       "\u001b[1;35mSqilTransmonParameters\u001b[0m\u001b[1m(\u001b[0m\n",
       "\u001b[2;32m│   \u001b[0m\u001b[33mge_T1\u001b[0m=\u001b[1;36m0\u001b[0m,\n",
       "\u001b[2;32m│   \u001b[0m\u001b[33mge_T2\u001b[0m=\u001b[1;36m0\u001b[0m,\n",
       "\u001b[2;32m│   \u001b[0m\u001b[33mge_T2_star\u001b[0m=\u001b[1;36m0\u001b[0m,\n",
       "\u001b[2;32m│   \u001b[0m\u001b[33mef_T1\u001b[0m=\u001b[1;36m0\u001b[0m,\n",
       "\u001b[2;32m│   \u001b[0m\u001b[33mef_T2\u001b[0m=\u001b[1;36m0\u001b[0m,\n",
       "\u001b[2;32m│   \u001b[0m\u001b[33mef_T2_star\u001b[0m=\u001b[1;36m0\u001b[0m,\n",
       "\u001b[2;32m│   \u001b[0m\u001b[33mdrive_lo_frequency\u001b[0m=\u001b[3;35mNone\u001b[0m,\n",
       "\u001b[2;32m│   \u001b[0m\u001b[33mreadout_lo_frequency\u001b[0m=\u001b[3;35mNone\u001b[0m,\n",
       "\u001b[2;32m│   \u001b[0m\u001b[33mresonance_frequency_ge\u001b[0m=\u001b[3;35mNone\u001b[0m,\n",
       "\u001b[2;32m│   \u001b[0m\u001b[33mresonance_frequency_ef\u001b[0m=\u001b[3;35mNone\u001b[0m,\n",
       "\u001b[2;32m│   \u001b[0m\u001b[33mreadout_resonator_frequency\u001b[0m=\u001b[3;35mNone\u001b[0m,\n",
       "\u001b[2;32m│   \u001b[0m\u001b[33mge_drive_amplitude_pi\u001b[0m=\u001b[1;36m0\u001b[0m\u001b[1;36m.2\u001b[0m,\n",
       "\u001b[2;32m│   \u001b[0m\u001b[33mge_drive_amplitude_pi2\u001b[0m=\u001b[1;36m0\u001b[0m\u001b[1;36m.1\u001b[0m,\n",
       "\u001b[2;32m│   \u001b[0m\u001b[33mge_drive_length\u001b[0m=\u001b[1;36m5e\u001b[0m\u001b[1;36m-08\u001b[0m,\n",
       "\u001b[2;32m│   \u001b[0m\u001b[33mge_drive_pulse\u001b[0m=\u001b[1m{\u001b[0m\n",
       "\u001b[2;32m│   │   \u001b[0m\u001b[32m'function'\u001b[0m: \u001b[32m'drag'\u001b[0m,\n",
       "\u001b[2;32m│   │   \u001b[0m\u001b[32m'beta'\u001b[0m: \u001b[1;36m0\u001b[0m,\n",
       "\u001b[2;32m│   │   \u001b[0m\u001b[32m'sigma'\u001b[0m: \u001b[1;36m0.25\u001b[0m\n",
       "\u001b[2;32m│   \u001b[0m\u001b[1m}\u001b[0m,\n",
       "\u001b[2;32m│   \u001b[0m\u001b[33mef_drive_amplitude_pi\u001b[0m=\u001b[1;36m0\u001b[0m\u001b[1;36m.2\u001b[0m,\n",
       "\u001b[2;32m│   \u001b[0m\u001b[33mef_drive_amplitude_pi2\u001b[0m=\u001b[1;36m0\u001b[0m\u001b[1;36m.1\u001b[0m,\n",
       "\u001b[2;32m│   \u001b[0m\u001b[33mef_drive_length\u001b[0m=\u001b[1;36m5e\u001b[0m\u001b[1;36m-08\u001b[0m,\n",
       "\u001b[2;32m│   \u001b[0m\u001b[33mef_drive_pulse\u001b[0m=\u001b[1m{\u001b[0m\n",
       "\u001b[2;32m│   │   \u001b[0m\u001b[32m'function'\u001b[0m: \u001b[32m'drag'\u001b[0m,\n",
       "\u001b[2;32m│   │   \u001b[0m\u001b[32m'beta'\u001b[0m: \u001b[1;36m0\u001b[0m,\n",
       "\u001b[2;32m│   │   \u001b[0m\u001b[32m'sigma'\u001b[0m: \u001b[1;36m0.25\u001b[0m\n",
       "\u001b[2;32m│   \u001b[0m\u001b[1m}\u001b[0m,\n",
       "\u001b[2;32m│   \u001b[0m\u001b[33mqubit_resonator_coupling_strength_g\u001b[0m=\u001b[1;36m0\u001b[0m,\n",
       "\u001b[2;32m│   \u001b[0m\u001b[33mge_chi_shift\u001b[0m=\u001b[1;36m0\u001b[0m,\n",
       "\u001b[2;32m│   \u001b[0m\u001b[33mreadout_amplitude\u001b[0m=\u001b[1;35mnp\u001b[0m\u001b[1;35m.float64\u001b[0m\u001b[1m(\u001b[0m\u001b[1;36m0.7943282347242815\u001b[0m\u001b[1m)\u001b[0m,\n",
       "\u001b[2;32m│   \u001b[0m\u001b[33mreadout_length\u001b[0m=\u001b[1;36m2e\u001b[0m\u001b[1;36m-06\u001b[0m,\n",
       "\u001b[2;32m│   \u001b[0m\u001b[33mreadout_pulse\u001b[0m=\u001b[1m{\u001b[0m\n",
       "\u001b[2;32m│   │   \u001b[0m\u001b[32m'function'\u001b[0m: \u001b[32m'const'\u001b[0m\n",
       "\u001b[2;32m│   \u001b[0m\u001b[1m}\u001b[0m,\n",
       "\u001b[2;32m│   \u001b[0m\u001b[33mreadout_integration_length\u001b[0m=\u001b[1;36m2e\u001b[0m\u001b[1;36m-06\u001b[0m,\n",
       "\u001b[2;32m│   \u001b[0m\u001b[33mreadout_integration_delay\u001b[0m=\u001b[1;36m2e\u001b[0m\u001b[1;36m-08\u001b[0m,\n",
       "\u001b[2;32m│   \u001b[0m\u001b[33mreadout_integration_kernels_type\u001b[0m=\u001b[32m'default'\u001b[0m,\n",
       "\u001b[2;32m│   \u001b[0m\u001b[33mreadout_integration_kernels\u001b[0m=\u001b[3;35mNone\u001b[0m,\n",
       "\u001b[2;32m│   \u001b[0m\u001b[33mreadout_integration_discrimination_thresholds\u001b[0m=\u001b[3;35mNone\u001b[0m,\n",
       "\u001b[2;32m│   \u001b[0m\u001b[33mreset_delay_length\u001b[0m=\u001b[1;36m1e\u001b[0m\u001b[1;36m-06\u001b[0m,\n",
       "\u001b[2;32m│   \u001b[0m\u001b[33mdrive_range\u001b[0m=\u001b[1;36m0\u001b[0m,\n",
       "\u001b[2;32m│   \u001b[0m\u001b[33mreadout_range_out\u001b[0m=\u001b[1;35mnp\u001b[0m\u001b[1;35m.float64\u001b[0m\u001b[1m(\u001b[0m\u001b[1;36m-10.0\u001b[0m\u001b[1m)\u001b[0m,\n",
       "\u001b[2;32m│   \u001b[0m\u001b[33mreadout_range_in\u001b[0m=\u001b[1;36m-20\u001b[0m,\n",
       "\u001b[2;32m│   \u001b[0m\u001b[33mro_power\u001b[0m=\u001b[1;36m-12\u001b[0m,\n",
       "\u001b[2;32m│   \u001b[0m\u001b[33mspectroscopy_length\u001b[0m=\u001b[1;36m5e\u001b[0m\u001b[1;36m-06\u001b[0m,\n",
       "\u001b[2;32m│   \u001b[0m\u001b[33mspectroscopy_amplitude\u001b[0m=\u001b[1;36m1\u001b[0m,\n",
       "\u001b[2;32m│   \u001b[0m\u001b[33mspectroscopy_pulse\u001b[0m=\u001b[1m{\u001b[0m\n",
       "\u001b[2;32m│   │   \u001b[0m\u001b[32m'function'\u001b[0m: \u001b[32m'const'\u001b[0m,\n",
       "\u001b[2;32m│   │   \u001b[0m\u001b[32m'can_compress'\u001b[0m: \u001b[3;92mTrue\u001b[0m\n",
       "\u001b[2;32m│   \u001b[0m\u001b[1m}\u001b[0m,\n",
       "\u001b[2;32m│   \u001b[0m\u001b[33mdc_slot\u001b[0m=\u001b[1;36m0\u001b[0m,\n",
       "\u001b[2;32m│   \u001b[0m\u001b[33mdc_voltage_parking\u001b[0m=\u001b[1;36m0\u001b[0m\u001b[1;36m.0\u001b[0m,\n",
       "\u001b[2;32m│   \u001b[0m\u001b[33mflux_offset_voltage\u001b[0m=\u001b[1;36m0\u001b[0m\u001b[1;36m.0\u001b[0m\n",
       "\u001b[1m)\u001b[0m\n"
      ]
     },
     "execution_count": 4,
     "metadata": {},
     "output_type": "execute_result"
    }
   ],
   "source": [
    "qpu.qubits[0].parameters#[\"readout_range_out\"] = -35\n",
    "qpu.qubits[0].update(**{\"ro_power\": -12})\n",
    "\n",
    "qpu.qubits[0].parameters"
   ]
  },
  {
   "cell_type": "code",
   "execution_count": null,
   "id": "3c8d92a3",
   "metadata": {},
   "outputs": [
    {
     "name": "stdout",
     "output_type": "stream",
     "text": [
      "params =\u001b[0m \u001b[0m{'qu_idx': 0, 'frequencies': 1}\u001b[0m\n",
      "\u001b[0mkwargs =\u001b[0m \u001b[0m[]\u001b[0m\n",
      "\u001b[0m"
     ]
    }
   ],
   "source": [
    "import inspect\n",
    "\n",
    "\n",
    "def map_inputs(func):\n",
    "    \"\"\"Extracts parameter names and keyword arguments from a function signature.\"\"\"\n",
    "    sig = inspect.signature(func)\n",
    "    params = {}\n",
    "    kwargs = []\n",
    "\n",
    "    for index, (name, param) in enumerate(sig.parameters.items()):\n",
    "        if param.default == inspect.Parameter.empty:\n",
    "            # Positional or required argument\n",
    "            params[name] = index\n",
    "        else:\n",
    "            # Keyword argument\n",
    "            kwargs.append(name)\n",
    "\n",
    "    return params, kwargs\n",
    "\n",
    "params, kwargs = map_inputs(t.sequence)\n",
    "print(\"params =\", params)\n",
    "print(\"kwargs =\", kwargs)"
   ]
  },
  {
   "cell_type": "code",
   "execution_count": null,
   "id": "fc9d026d",
   "metadata": {},
   "outputs": [
    {
     "name": "stdout",
     "output_type": "stream",
     "text": [
      "data: (0,)\n",
      "  ⌙ frequencies (Hz): (0,)\u001b[0m\n",
      "\u001b[0m"
     ]
    },
    {
     "data": {
      "text/plain": [
       "dict_keys(['frequencies', 'data', '__schema__'])"
      ]
     },
     "execution_count": 23,
     "metadata": {},
     "output_type": "execute_result"
    }
   ],
   "source": [
    "from plottr.data.datadict import DataDict\n",
    "\n",
    "\n",
    "def build_plottr_dict(db_schema):\n",
    "    \"\"\"Create a DataDict object from the given schema.\"\"\"\n",
    "    axes = []\n",
    "    db = {}\n",
    "\n",
    "    data_key = 'data'\n",
    "    data_unit = \"\"\n",
    "\n",
    "    for key, value in db_schema.items():\n",
    "        if value.get(\"type\") == \"axis\":\n",
    "            unit = value.get(\"unit\", \"\")\n",
    "            db[key] = dict(unit=unit)\n",
    "            axes.append(key)\n",
    "        elif value.get(\"type\") == \"data\":\n",
    "            data_key = key\n",
    "            data_unit = value.get(\"unit\", \"\")\n",
    "    db[data_key] = dict(axes=axes, unit=data_unit)\n",
    "\n",
    "    datadict =  DataDict(**db)\n",
    "    datadict.add_meta(\"schema\", db_schema)\n",
    "\n",
    "    return datadict\n",
    "\n",
    "\n",
    "# Example Usage:\n",
    "db_schema = {\"data\": {\"type\": \"data\"}, \"frequencies\": {\"type\": \"axis\", \"unit\": \"Hz\"}}\n",
    "\n",
    "plottr_dict = build_plottr_dict(db_schema)\n",
    "print(plottr_dict)\n",
    "\n",
    "plottr_dict.keys()"
   ]
  },
  {
   "cell_type": "code",
   "execution_count": 16,
   "id": "30830339",
   "metadata": {},
   "outputs": [
    {
     "data": {
      "text/plain": [
       "{'a': 1}"
      ]
     },
     "execution_count": 16,
     "metadata": {},
     "output_type": "execute_result"
    }
   ],
   "source": [
    "import json\n",
    "\n",
    "x = {'a': 1}\n",
    "json.loads(json.dumps(x))"
   ]
  },
  {
   "cell_type": "code",
   "execution_count": null,
   "id": "1d3adec3",
   "metadata": {},
   "outputs": [
    {
     "name": "stdout",
     "output_type": "stream",
     "text": [
      "[2025.05.12 23:47:25.411] INFO    Logging initialized from [Default inline config in laboneq.laboneq_logging] logdir is c:\\Users\\sqil\\Desktop\\code\\sqil-experiments\\measurements\\laboneq_output\\log\n",
      "\u001b[0m[2025.05.12 23:47:25.415] INFO    VERSION: laboneq 2.51.0\n",
      "\u001b[0m[2025.05.12 23:47:25.416] INFO    Connecting to data server at localhost:8004\n",
      "\u001b[0m[2025.05.12 23:47:25.420] INFO    Connected to Zurich Instruments LabOne Data Server version 25.04.0.628 at localhost:8004\n",
      "\u001b[0m[2025.05.12 23:47:25.426] WARNING SHFQC/QA:dev12183: Include the device options 'SHFQC/QC4CH' in the device setup ('options' field of the 'instruments' list in the device setup descriptor, 'device_options' argument when constructing instrument objects to be added to 'DeviceSetup' instances). This will become a strict requirement in the future.\n",
      "\u001b[0m[2025.05.12 23:47:25.431] INFO    Configuring the device setup\n",
      "\u001b[0m[2025.05.12 23:47:25.439] INFO    The device setup is configured\n",
      "\u001b[0m[2025.05.12 23:47:25.444] INFO    \u001b[1m ────────────────────────────────────────────────────────────────────────────── \u001b[0m\n",
      "\u001b[0m[2025.05.12 23:47:25.445] INFO    \u001b[1m \u001b[0m\u001b[1m \u001b[0m\u001b[1mWorkflow 'resonator_spectroscopy': execution started at 2025-05-12 \u001b[0m\u001b[1m         \u001b[0m\u001b[1m \u001b[0m\u001b[1m \u001b[0m\n",
      "\u001b[0m[2025.05.12 23:47:25.446] INFO    \u001b[1m \u001b[0m\u001b[1m \u001b[0m\u001b[1m21:47:25.444065Z\u001b[0m\u001b[1m                                                            \u001b[0m\u001b[1m \u001b[0m\u001b[1m \u001b[0m\n",
      "\u001b[0m[2025.05.12 23:47:25.446] INFO    \u001b[1m ────────────────────────────────────────────────────────────────────────────── \u001b[0m\n",
      "\u001b[0m[2025.05.12 23:47:25.448] INFO    \u001b[1mTask 'temporary_modify': started at 2025-05-12 21:47:25.447058Z\u001b[0m\n",
      "\u001b[0m[2025.05.12 23:47:25.449] INFO    \u001b[1mTask 'temporary_modify': ended at 2025-05-12 21:47:25.448059Z\u001b[0m\n",
      "\u001b[0m[2025.05.12 23:47:25.450] INFO    \u001b[1mTask 'create_experiment': started at 2025-05-12 21:47:25.450059Z\u001b[0m\n",
      "\u001b[0m[2025.05.12 23:47:25.454] INFO    \u001b[1mTask 'create_experiment': ended at 2025-05-12 21:47:25.454060Z\u001b[0m\n",
      "\u001b[0m[2025.05.12 23:47:25.456] INFO    \u001b[1mTask 'compile_experiment': started at 2025-05-12 21:47:25.455058Z\u001b[0m\n",
      "\u001b[0m[2025.05.12 23:47:25.460] INFO    Starting LabOne Q Compiler run...\n",
      "\u001b[0m[2025.05.12 23:47:25.479] INFO    Schedule completed. [0.017 s]\n",
      "\u001b[0m[2025.05.12 23:47:25.515] INFO    Code generation completed for all AWGs. [0.035 s]\n",
      "\u001b[0m[2025.05.12 23:47:25.517] INFO    Completed compilation step 1 of 1. [0.054 s]\n",
      "\u001b[0m[2025.05.12 23:47:25.520] INFO     ─────────────────────────────────────────────────────────────────────── \n",
      "\u001b[0m[2025.05.12 23:47:25.524] INFO     \u001b[1m \u001b[0m\u001b[1mDevice           \u001b[0m\u001b[1m \u001b[0m \u001b[1m \u001b[0m\u001b[1mAWG\u001b[0m\u001b[1m \u001b[0m \u001b[1m \u001b[0m\u001b[1mSeqC LOC\u001b[0m\u001b[1m \u001b[0m \u001b[1m \u001b[0m\u001b[1mCT entries\u001b[0m\u001b[1m \u001b[0m \u001b[1m \u001b[0m\u001b[1mWaveforms\u001b[0m\u001b[1m \u001b[0m \u001b[1m \u001b[0m\u001b[1mSamples\u001b[0m\u001b[1m \u001b[0m \n",
      "\u001b[0m[2025.05.12 23:47:25.525] INFO     ─────────────────────────────────────────────────────────────────────── \n",
      "\u001b[0m[2025.05.12 23:47:25.528] INFO      SHFQC_dev12183        0         21            0           1      8000  \n",
      "\u001b[0m[2025.05.12 23:47:25.529] INFO      SHFQC_dev12183_sg     0          4            1           0         0  \n",
      "\u001b[0m[2025.05.12 23:47:25.530] INFO     ─────────────────────────────────────────────────────────────────────── \n",
      "\u001b[0m[2025.05.12 23:47:25.531] INFO     \u001b[1m \u001b[0m\u001b[1mTOTAL            \u001b[0m\u001b[1m \u001b[0m \u001b[1m \u001b[0m\u001b[1m   \u001b[0m\u001b[1m \u001b[0m \u001b[1m \u001b[0m\u001b[1m      25\u001b[0m\u001b[1m \u001b[0m \u001b[1m \u001b[0m\u001b[1m         1\u001b[0m\u001b[1m \u001b[0m \u001b[1m \u001b[0m\u001b[1m         \u001b[0m\u001b[1m \u001b[0m \u001b[1m \u001b[0m\u001b[1m   8000\u001b[0m\u001b[1m \u001b[0m \n",
      "\u001b[0m[2025.05.12 23:47:25.532] INFO     ─────────────────────────────────────────────────────────────────────── \n",
      "\u001b[0m[2025.05.12 23:47:25.538] INFO    Finished LabOne Q Compiler run.\n",
      "\u001b[0m[2025.05.12 23:47:25.540] INFO    \u001b[1mTask 'compile_experiment': ended at 2025-05-12 21:47:25.539574Z\u001b[0m\n",
      "\u001b[0m[2025.05.12 23:47:25.543] INFO    \u001b[1mTask 'run_experiment': started at 2025-05-12 21:47:25.542338Z\u001b[0m\n",
      "\u001b[0m[2025.05.12 23:47:25.925] INFO    Starting near-time execution...\n",
      "\u001b[0m[2025.05.12 23:47:26.316] WARNING SHFQC/QA:dev12183: Channel 0 Output overrange count: 33\n",
      "\u001b[0m[2025.05.12 23:47:26.352] INFO    Finished near-time execution.\n",
      "\u001b[0m[2025.05.12 23:47:26.396] INFO    \u001b[1mTask 'run_experiment': ended at 2025-05-12 21:47:26.396471Z\u001b[0m\n",
      "\u001b[0m[2025.05.12 23:47:26.398] INFO    \u001b[1m ────────────────────────────────────────────────────────────────────────────── \u001b[0m\n",
      "\u001b[0m[2025.05.12 23:47:26.399] INFO    \u001b[1m \u001b[0m\u001b[1m \u001b[0m\u001b[1mWorkflow 'analysis_workflow': execution started at 2025-05-12 \u001b[0m\u001b[1m              \u001b[0m\u001b[1m \u001b[0m\u001b[1m \u001b[0m\n",
      "\u001b[0m[2025.05.12 23:47:26.400] INFO    \u001b[1m \u001b[0m\u001b[1m \u001b[0m\u001b[1m21:47:26.398463Z\u001b[0m\u001b[1m                                                            \u001b[0m\u001b[1m \u001b[0m\u001b[1m \u001b[0m\n",
      "\u001b[0m[2025.05.12 23:47:26.401] INFO    \u001b[1m ────────────────────────────────────────────────────────────────────────────── \u001b[0m\n",
      "\u001b[0m[2025.05.12 23:47:26.402] INFO    \u001b[1mTask 'calculate_signal_magnitude_and_phase': started at 2025-05-12 \u001b[0m\n",
      "\u001b[0m[2025.05.12 23:47:26.403] INFO    \u001b[1m21:47:26.402465Z\u001b[0m\n",
      "\u001b[0m[2025.05.12 23:47:26.405] INFO    \u001b[1mTask 'calculate_signal_magnitude_and_phase': ended at 2025-05-12 \u001b[0m\n",
      "\u001b[0m[2025.05.12 23:47:26.405] INFO    \u001b[1m21:47:26.404624Z\u001b[0m\n",
      "\u001b[0m[2025.05.12 23:47:26.407] INFO    \u001b[1mTask 'fit_data': started at 2025-05-12 21:47:26.406625Z\u001b[0m\n",
      "\u001b[0m[2025.05.12 23:47:26.408] INFO    \u001b[1mTask 'fit_data': ended at 2025-05-12 21:47:26.408624Z\u001b[0m\n",
      "\u001b[0m[2025.05.12 23:47:26.409] INFO    \u001b[1mTask 'extract_qubit_parameters': started at 2025-05-12 21:47:26.409624Z\u001b[0m\n",
      "\u001b[0m[2025.05.12 23:47:26.410] INFO    \u001b[1mTask 'extract_qubit_parameters': ended at 2025-05-12 21:47:26.410625Z\u001b[0m\n",
      "\u001b[0m[2025.05.12 23:47:26.411] INFO    \u001b[1mTask 'plot_raw_complex_data_1d': started at 2025-05-12 21:47:26.411626Z\u001b[0m\n",
      "\u001b[0m[2025.05.12 23:47:26.481] INFO    \u001b[1mArtifact: 'Raw_data_q0' of type 'Figure' logged at 2025-05-12 21:47:26.481184Z\u001b[0m\n",
      "\u001b[0m[2025.05.12 23:47:26.482] INFO    \u001b[1mTask 'plot_raw_complex_data_1d': ended at 2025-05-12 21:47:26.482173Z\u001b[0m\n",
      "\u001b[0m[2025.05.12 23:47:26.483] INFO    \u001b[1mTask 'plot_magnitude_phase': started at 2025-05-12 21:47:26.483174Z\u001b[0m\n",
      "\u001b[0m[2025.05.12 23:47:26.495] INFO    \u001b[1mArtifact: 'Magnitude_Phase_q0' of type 'Figure' logged at 2025-05-12 \u001b[0m\n",
      "\u001b[0m[2025.05.12 23:47:26.496] INFO    \u001b[1m21:47:26.495185Z\u001b[0m\n",
      "\u001b[0m[2025.05.12 23:47:26.497] INFO    \u001b[1mTask 'plot_magnitude_phase': ended at 2025-05-12 21:47:26.497174Z\u001b[0m\n",
      "\u001b[0m[2025.05.12 23:47:26.498] INFO    \u001b[1mTask 'plot_real_imaginary': started at 2025-05-12 21:47:26.498174Z\u001b[0m\n",
      "\u001b[0m[2025.05.12 23:47:26.504] INFO    \u001b[1mArtifact: 'Real_Imaginary_q0' of type 'Figure' logged at 2025-05-12 \u001b[0m\n",
      "\u001b[0m[2025.05.12 23:47:26.505] INFO    \u001b[1m21:47:26.504173Z\u001b[0m\n",
      "\u001b[0m[2025.05.12 23:47:26.506] INFO    \u001b[1mTask 'plot_real_imaginary': ended at 2025-05-12 21:47:26.506174Z\u001b[0m\n",
      "\u001b[0m[2025.05.12 23:47:26.507] INFO    \u001b[1m ────────────────────────────────────────────────────────────────────────────── \u001b[0m\n",
      "\u001b[0m[2025.05.12 23:47:26.508] INFO    \u001b[1m \u001b[0m\u001b[1m \u001b[0m\u001b[1mWorkflow 'analysis_workflow': execution ended at 2025-05-12 21:47:26.507175Z\u001b[0m\u001b[1m \u001b[0m\u001b[1m \u001b[0m\n",
      "\u001b[0m[2025.05.12 23:47:26.509] INFO    \u001b[1m ────────────────────────────────────────────────────────────────────────────── \u001b[0m\n",
      "\u001b[0m[2025.05.12 23:47:26.510] INFO    \u001b[1m ────────────────────────────────────────────────────────────────────────────── \u001b[0m\n",
      "\u001b[0m[2025.05.12 23:47:26.511] INFO    \u001b[1m \u001b[0m\u001b[1m \u001b[0m\u001b[1mWorkflow 'resonator_spectroscopy': execution ended at 2025-05-12 \u001b[0m\u001b[1m           \u001b[0m\u001b[1m \u001b[0m\u001b[1m \u001b[0m\n",
      "\u001b[0m[2025.05.12 23:47:26.512] INFO    \u001b[1m \u001b[0m\u001b[1m \u001b[0m\u001b[1m21:47:26.510174Z\u001b[0m\u001b[1m                                                            \u001b[0m\u001b[1m \u001b[0m\u001b[1m \u001b[0m\n",
      "\u001b[0m[2025.05.12 23:47:26.513] INFO    \u001b[1m ────────────────────────────────────────────────────────────────────────────── \u001b[0m\n",
      "\u001b[0m"
     ]
    }
   ],
   "source": [
    "from laboneq import serializers\n",
    "from laboneq.contrib.example_helpers.generate_descriptor import generate_descriptor\n",
    "from laboneq.dsl.quantum import QPU\n",
    "from laboneq.simple import DeviceSetup\n",
    "from laboneq_applications.qpu_types.tunable_transmon import (\n",
    "    TunableTransmonOperations,\n",
    "    TunableTransmonQubit,\n",
    ")\n",
    "from laboneq.dsl.session import Session\n",
    "\n",
    "from helpers.laboneq import print_qpu_signals\n",
    "\n",
    "from laboneq_applications.experiments import resonator_spectroscopy\n",
    "from laboneq_applications.experiments.options import TuneUpWorkflowOptions\n",
    "import matplotlib.pyplot as plt\n",
    "\n",
    "# Zurich instruments stetup\n",
    "zi_descriptor = generate_descriptor(\n",
    "    shfqc_6=[\"dev12183\"],\n",
    "    number_data_qubits=1,\n",
    "    number_flux_lines=0,\n",
    "    include_cr_lines=False,\n",
    "    multiplex=True,\n",
    "    number_multiplex=1,\n",
    "    get_zsync=False,\n",
    "    ip_address=\"localhost\",\n",
    ")\n",
    "\n",
    "zi_setup = DeviceSetup.from_descriptor(zi_descriptor, \"localhost\")\n",
    "zi_session = Session(zi_setup)\n",
    "zi_session.connect()\n",
    "\n",
    "qubits = TunableTransmonQubit.from_device_setup(zi_setup)\n",
    "quantum_operations = TunableTransmonOperations()\n",
    "qpu = QPU(qubits=qubits, quantum_operations=quantum_operations)\n",
    "\n",
    "qpu.qubits[0].update(**{\"drive_lo_frequency\": 5e9})\n",
    "qpu.qubits[0].update(**{\"readout_lo_frequency\": 7.2e9})\n",
    "qpu.qubits[0].update(**{\"readout_resonator_frequency\": 7.4e9})\n",
    "\n",
    "experiment_workflow = resonator_spectroscopy.experiment_workflow(\n",
    "    session=zi_session,\n",
    "    qpu=qpu,\n",
    "    qubit=qubits[0],\n",
    "    frequencies=np.linspace(7.3e9, 8e9, 101),\n",
    "    options={\"do_analysis\":True},\n",
    ")\n",
    "\n",
    "workflow_result = experiment_workflow.run()\n",
    "plt.show()"
   ]
  },
  {
   "cell_type": "code",
   "execution_count": null,
   "id": "0d2d4d05",
   "metadata": {},
   "outputs": [
    {
     "data": {
      "text/plain": [
       "{'old_parameter_values': {'q0': {'readout_resonator_frequency': 7400000000.0}},\n",
       " 'new_parameter_values': {'q0': {'readout_resonator_frequency': 7307000000.0+/-0}}}"
      ]
     },
     "execution_count": 7,
     "metadata": {},
     "output_type": "execute_result"
    }
   ],
   "source": [
    "analysis_workflow_results = workflow_result.tasks[\"analysis_workflow\"]\n",
    "analysis_workflow_results.output"
   ]
  },
  {
   "cell_type": "code",
   "execution_count": 25,
   "id": "4848577e",
   "metadata": {},
   "outputs": [
    {
     "ename": "TypeError",
     "evalue": "list indices must be integers or slices, not list",
     "output_type": "error",
     "traceback": [
      "\u001b[31m---------------------------------------------------------------------------\u001b[39m",
      "\u001b[31mTypeError\u001b[39m                                 Traceback (most recent call last)",
      "\u001b[36mCell\u001b[39m\u001b[36m \u001b[39m\u001b[32mIn[25]\u001b[39m\u001b[32m, line 4\u001b[39m\n\u001b[32m      1\u001b[39m x = [\u001b[33m'\u001b[39m\u001b[33ma\u001b[39m\u001b[33m'\u001b[39m, \u001b[33m'\u001b[39m\u001b[33mb\u001b[39m\u001b[33m'\u001b[39m, \u001b[33m'\u001b[39m\u001b[33mc\u001b[39m\u001b[33m'\u001b[39m, \u001b[33m'\u001b[39m\u001b[33md\u001b[39m\u001b[33m'\u001b[39m, \u001b[33m'\u001b[39m\u001b[33me\u001b[39m\u001b[33m'\u001b[39m]\n\u001b[32m      2\u001b[39m y = [\u001b[32m0\u001b[39m,\u001b[32m2\u001b[39m,\u001b[32m3\u001b[39m]\n\u001b[32m----> \u001b[39m\u001b[32m4\u001b[39m \u001b[43mx\u001b[49m\u001b[43m[\u001b[49m\u001b[43my\u001b[49m\u001b[43m]\u001b[49m\n",
      "\u001b[31mTypeError\u001b[39m: list indices must be integers or slices, not list"
     ]
    }
   ],
   "source": [
    "x = ['a', 'b', 'c', 'd', 'e']\n",
    "y = [0,2,3]\n",
    "\n",
    "x[y]"
   ]
  },
  {
   "cell_type": "code",
   "execution_count": 33,
   "id": "885a0553",
   "metadata": {},
   "outputs": [],
   "source": [
    "import shutil\n",
    "import os\n",
    "\n",
    "src = r\"C:\\Users\\sqil\\Desktop\\code\\sqil-experiments\\measurements\\data_local\\test\\2025-05-14\\00004-rr_spectroscopy_2025-05-14T153842\"\n",
    "dst = r\"C:\\Users\\sqil\\Desktop\\code\\sqil-experiments\\measurements\\data\\test\\2025-05-14\\00004-rr_spectroscopy_2025-05-14T153842\"\n",
    "\n",
    "# Ensure destination exists\n",
    "os.makedirs(dst, exist_ok=True)\n",
    "\n",
    "# Copy files recursively\n",
    "for root, dirs, files in os.walk(src):\n",
    "    for dir_name in dirs:\n",
    "        os.makedirs(\n",
    "            os.path.join(dst, os.path.relpath(os.path.join(root, dir_name), src)),\n",
    "            exist_ok=True,\n",
    "        )\n",
    "    for file_name in files:\n",
    "        shutil.copy2(\n",
    "            os.path.join(root, file_name),\n",
    "            os.path.join(dst, os.path.relpath(os.path.join(root, file_name), src)),\n",
    "        )"
   ]
  },
  {
   "cell_type": "code",
   "execution_count": 3,
   "id": "51ba19e8",
   "metadata": {},
   "outputs": [
    {
     "name": "stdout",
     "output_type": "stream",
     "text": [
      "[2025.06.04 15:35:57.804] INFO    Logging initialized from [Default inline config in laboneq.laboneq_logging] logdir is c:\\Users\\sqil\\Desktop\\code\\sqil-experiments\\measurements\\laboneq_output\\log\n",
      "\u001b[0m[2025.06.04 15:35:57.816] INFO    VERSION: laboneq 2.51.0\n",
      "\u001b[0m[2025.06.04 15:35:57.817] INFO    Connecting to data server at localhost:8004\n",
      "\u001b[0m[2025.06.04 15:35:57.821] INFO    Connected to Zurich Instruments LabOne Data Server version 25.04.0.628 at localhost:8004\n",
      "\u001b[0m[2025.06.04 15:35:57.827] WARNING SHFQC/QA:dev12183: Include the device options 'SHFQC/QC4CH' in the device setup ('options' field of the 'instruments' list in the device setup descriptor, 'device_options' argument when constructing instrument objects to be added to 'DeviceSetup' instances). This will become a strict requirement in the future.\n",
      "\u001b[0m[2025.06.04 15:35:57.832] INFO    Configuring the device setup\n",
      "\u001b[0m[2025.06.04 15:35:57.840] INFO    The device setup is configured\n",
      "\u001b[0mAcquisitionType.SPECTROSCOPY_IQ\u001b[0m\n",
      "\u001b[0m[2025.06.04 15:35:57.844] INFO    Resolved modulation type of oscillator 'q0_readout_acquire_osc' on signal 'q0/acquire' to HARDWARE\n",
      "\u001b[0m[2025.06.04 15:35:57.845] INFO    Starting LabOne Q Compiler run...\n",
      "\u001b[0m[2025.06.04 15:35:57.849] INFO    Schedule completed. [0.002 s]\n",
      "\u001b[0m[2025.06.04 15:35:57.858] INFO    Requested to compress pulse(s) rx_pulse_0 which has(have) either no, or too short, constant sections. Skipping compression\n",
      "\u001b[0m[2025.06.04 15:35:57.859] INFO    Requested to compress pulse(s) rx_pulse_0 which has(have) either no, or too short, constant sections. Skipping compression\n",
      "\u001b[0m[2025.06.04 15:35:57.860] INFO    Requested to compress pulse(s) rx_pulse_0 which has(have) either no, or too short, constant sections. Skipping compression\n",
      "\u001b[0m[2025.06.04 15:35:57.861] INFO    Requested to compress pulse(s) rx_pulse_0 which has(have) either no, or too short, constant sections. Skipping compression\n",
      "\u001b[0m[2025.06.04 15:35:57.862] INFO    Requested to compress pulse(s) rx_pulse_0 which has(have) either no, or too short, constant sections. Skipping compression\n",
      "\u001b[0m[2025.06.04 15:35:57.863] INFO    Requested to compress pulse(s) rx_pulse_0 which has(have) either no, or too short, constant sections. Skipping compression\n",
      "\u001b[0m[2025.06.04 15:35:57.864] INFO    Requested to compress pulse(s) rx_pulse_0 which has(have) either no, or too short, constant sections. Skipping compression\n",
      "\u001b[0m[2025.06.04 15:35:57.865] INFO    Requested to compress pulse(s) rx_pulse_0 which has(have) either no, or too short, constant sections. Skipping compression\n",
      "\u001b[0m[2025.06.04 15:35:57.866] INFO    Requested to compress pulse(s) rx_pulse_0 which has(have) either no, or too short, constant sections. Skipping compression\n",
      "\u001b[0m[2025.06.04 15:35:57.867] INFO    Requested to compress pulse(s) rx_pulse_0 which has(have) either no, or too short, constant sections. Skipping compression\n",
      "\u001b[0m[2025.06.04 15:35:57.869] INFO    Code generation completed for all AWGs. [0.019 s]\n",
      "\u001b[0m[2025.06.04 15:35:57.870] INFO    Completed compilation step 1 of 1. [0.023 s]\n",
      "\u001b[0m[2025.06.04 15:35:57.871] INFO    Require(s) long readout: SHFQC_dev12183\n",
      "\u001b[0m[2025.06.04 15:35:57.873] INFO     ─────────────────────────────────────────────────────────────────────── \n",
      "\u001b[0m[2025.06.04 15:35:57.875] INFO     \u001b[1m \u001b[0m\u001b[1mDevice           \u001b[0m\u001b[1m \u001b[0m \u001b[1m \u001b[0m\u001b[1mAWG\u001b[0m\u001b[1m \u001b[0m \u001b[1m \u001b[0m\u001b[1mSeqC LOC\u001b[0m\u001b[1m \u001b[0m \u001b[1m \u001b[0m\u001b[1mCT entries\u001b[0m\u001b[1m \u001b[0m \u001b[1m \u001b[0m\u001b[1mWaveforms\u001b[0m\u001b[1m \u001b[0m \u001b[1m \u001b[0m\u001b[1mSamples\u001b[0m\u001b[1m \u001b[0m \n",
      "\u001b[0m[2025.06.04 15:35:57.876] INFO     ─────────────────────────────────────────────────────────────────────── \n",
      "\u001b[0m[2025.06.04 15:35:57.878] INFO      SHFQC_dev12183        0         45            0           1     32000  \n",
      "\u001b[0m[2025.06.04 15:35:57.879] INFO      SHFQC_dev12183_sg     0         56           11          10      2432  \n",
      "\u001b[0m[2025.06.04 15:35:57.880] INFO     ─────────────────────────────────────────────────────────────────────── \n",
      "\u001b[0m[2025.06.04 15:35:57.882] INFO     \u001b[1m \u001b[0m\u001b[1mTOTAL            \u001b[0m\u001b[1m \u001b[0m \u001b[1m \u001b[0m\u001b[1m   \u001b[0m\u001b[1m \u001b[0m \u001b[1m \u001b[0m\u001b[1m     101\u001b[0m\u001b[1m \u001b[0m \u001b[1m \u001b[0m\u001b[1m        11\u001b[0m\u001b[1m \u001b[0m \u001b[1m \u001b[0m\u001b[1m         \u001b[0m\u001b[1m \u001b[0m \u001b[1m \u001b[0m\u001b[1m  34432\u001b[0m\u001b[1m \u001b[0m \n",
      "\u001b[0m[2025.06.04 15:35:57.883] INFO     ─────────────────────────────────────────────────────────────────────── \n",
      "\u001b[0m[2025.06.04 15:35:57.900] INFO    Finished LabOne Q Compiler run.\n",
      "\u001b[0m[2025.06.04 15:35:57.902] CRITICAL SHFQC/QA:dev12183: Experiment requires long readout that is not available on the device.\n",
      "\u001b[0m"
     ]
    },
    {
     "name": "stderr",
     "output_type": "stream",
     "text": [
      "[2025.06.04 15:35:57.902] CRITICAL SHFQC/QA:dev12183: Experiment requires long readout that is not available on the device.\n",
      "\u001b[0m"
     ]
    },
    {
     "ename": "LabOneQControllerException",
     "evalue": "SHFQC/QA:dev12183: Experiment requires long readout that is not available on the device.",
     "output_type": "error",
     "traceback": [
      "\u001b[31m---------------------------------------------------------------------------\u001b[39m",
      "\u001b[31mLabOneQControllerException\u001b[39m                Traceback (most recent call last)",
      "\u001b[36mCell\u001b[39m\u001b[36m \u001b[39m\u001b[32mIn[3]\u001b[39m\u001b[32m, line 55\u001b[39m\n\u001b[32m     53\u001b[39m time_rabi_exp = create_experiment(qpu, qubits[\u001b[32m0\u001b[39m], np.linspace(\u001b[32m1e-9\u001b[39m, \u001b[32m70e-9\u001b[39m, \u001b[32m10\u001b[39m), options=options)\n\u001b[32m     54\u001b[39m compiled_exp = compile_experiment(session, time_rabi_exp)\n\u001b[32m---> \u001b[39m\u001b[32m55\u001b[39m res = \u001b[43mrun_experiment\u001b[49m\u001b[43m(\u001b[49m\u001b[43msession\u001b[49m\u001b[43m,\u001b[49m\u001b[43m \u001b[49m\u001b[43mcompiled_exp\u001b[49m\u001b[43m)\u001b[49m\n",
      "\u001b[36mFile \u001b[39m\u001b[32mc:\\Users\\sqil\\AppData\\Local\\pypoetry\\Cache\\virtualenvs\\sqil-experiments-gl8RHkKX-py3.12\\Lib\\site-packages\\laboneq\\workflow\\variable_tracker.py:77\u001b[39m, in \u001b[36mtrack.<locals>.inner\u001b[39m\u001b[34m(*args, **kwargs)\u001b[39m\n\u001b[32m     75\u001b[39m         \u001b[38;5;28;01mfor\u001b[39;00m k, v \u001b[38;5;129;01min\u001b[39;00m frame.f_back.f_locals.items():\n\u001b[32m     76\u001b[39m             ctx.add_variable(k, v)\n\u001b[32m---> \u001b[39m\u001b[32m77\u001b[39m \u001b[38;5;28;01mreturn\u001b[39;00m \u001b[43mfunc\u001b[49m\u001b[43m(\u001b[49m\u001b[43m*\u001b[49m\u001b[43margs\u001b[49m\u001b[43m,\u001b[49m\u001b[43m \u001b[49m\u001b[43m*\u001b[49m\u001b[43m*\u001b[49m\u001b[43mkwargs\u001b[49m\u001b[43m)\u001b[49m\n",
      "\u001b[36mFile \u001b[39m\u001b[32mc:\\Users\\sqil\\AppData\\Local\\pypoetry\\Cache\\virtualenvs\\sqil-experiments-gl8RHkKX-py3.12\\Lib\\site-packages\\laboneq\\workflow\\task_wrapper.py:85\u001b[39m, in \u001b[36mtask_.__call__\u001b[39m\u001b[34m(self, *args, **kwargs)\u001b[39m\n\u001b[32m     83\u001b[39m     root.extend(block)\n\u001b[32m     84\u001b[39m     \u001b[38;5;28;01mreturn\u001b[39;00m cast(B, block.ref)\n\u001b[32m---> \u001b[39m\u001b[32m85\u001b[39m \u001b[38;5;28;01mreturn\u001b[39;00m \u001b[38;5;28;43mself\u001b[39;49m\u001b[43m.\u001b[49m\u001b[43m_func\u001b[49m\u001b[43m(\u001b[49m\u001b[43m*\u001b[49m\u001b[43margs\u001b[49m\u001b[43m,\u001b[49m\u001b[43m \u001b[49m\u001b[43m*\u001b[49m\u001b[43m*\u001b[49m\u001b[43mkwargs\u001b[49m\u001b[43m)\u001b[49m\n",
      "\u001b[36mFile \u001b[39m\u001b[32mc:\\Users\\sqil\\AppData\\Local\\pypoetry\\Cache\\virtualenvs\\sqil-experiments-gl8RHkKX-py3.12\\Lib\\site-packages\\laboneq\\workflow\\tasks\\run_experiment.py:197\u001b[39m, in \u001b[36mrun_experiment\u001b[39m\u001b[34m(session, compiled_experiment, options)\u001b[39m\n\u001b[32m    182\u001b[39m \u001b[38;5;250m\u001b[39m\u001b[33;03m\"\"\"Run the compiled experiment on the quantum processor via the specified session.\u001b[39;00m\n\u001b[32m    183\u001b[39m \n\u001b[32m    184\u001b[39m \u001b[33;03mArguments:\u001b[39;00m\n\u001b[32m   (...)\u001b[39m\u001b[32m    194\u001b[39m \u001b[33;03m        ... an instance of RunExperimentResults if `return_raw_results` is `False`.\u001b[39;00m\n\u001b[32m    195\u001b[39m \u001b[33;03m\"\"\"\u001b[39;00m\n\u001b[32m    196\u001b[39m opts = RunExperimentOptions() \u001b[38;5;28;01mif\u001b[39;00m options \u001b[38;5;129;01mis\u001b[39;00m \u001b[38;5;28;01mNone\u001b[39;00m \u001b[38;5;28;01melse\u001b[39;00m options\n\u001b[32m--> \u001b[39m\u001b[32m197\u001b[39m laboneq_results = \u001b[43msession\u001b[49m\u001b[43m.\u001b[49m\u001b[43mrun\u001b[49m\u001b[43m(\u001b[49m\u001b[43mcompiled_experiment\u001b[49m\u001b[43m)\u001b[49m\n\u001b[32m    198\u001b[39m \u001b[38;5;28;01mif\u001b[39;00m opts.return_legacy_results:\n\u001b[32m    199\u001b[39m     \u001b[38;5;28;01mreturn\u001b[39;00m laboneq_results\n",
      "\u001b[36mFile \u001b[39m\u001b[32mc:\\Users\\sqil\\AppData\\Local\\pypoetry\\Cache\\virtualenvs\\sqil-experiments-gl8RHkKX-py3.12\\Lib\\site-packages\\laboneq\\dsl\\session.py:435\u001b[39m, in \u001b[36mSession.run\u001b[39m\u001b[34m(self, experiment)\u001b[39m\n\u001b[32m    426\u001b[39m \u001b[38;5;28mself\u001b[39m._last_results = Results(\n\u001b[32m    427\u001b[39m     experiment=\u001b[38;5;28mself\u001b[39m.experiment,\n\u001b[32m    428\u001b[39m     device_setup=\u001b[38;5;28mself\u001b[39m.device_setup,\n\u001b[32m   (...)\u001b[39m\u001b[32m    432\u001b[39m     execution_errors=[],\n\u001b[32m    433\u001b[39m )\n\u001b[32m    434\u001b[39m \u001b[38;5;28;01mtry\u001b[39;00m:\n\u001b[32m--> \u001b[39m\u001b[32m435\u001b[39m     \u001b[43mcontroller\u001b[49m\u001b[43m.\u001b[49m\u001b[43mexecute_compiled\u001b[49m\u001b[43m(\u001b[49m\n\u001b[32m    436\u001b[39m \u001b[43m        \u001b[49m\u001b[38;5;28;43mself\u001b[39;49m\u001b[43m.\u001b[49m\u001b[43mcompiled_experiment\u001b[49m\u001b[43m.\u001b[49m\u001b[43mscheduled_experiment\u001b[49m\u001b[43m,\u001b[49m\u001b[43m \u001b[49m\u001b[43mProtectedSession\u001b[49m\u001b[43m(\u001b[49m\u001b[38;5;28;43mself\u001b[39;49m\u001b[43m)\u001b[49m\n\u001b[32m    437\u001b[39m \u001b[43m    \u001b[49m\u001b[43m)\u001b[49m\n\u001b[32m    438\u001b[39m \u001b[38;5;28;01mfinally\u001b[39;00m:\n\u001b[32m    439\u001b[39m     results = controller.results()\n",
      "\u001b[36mFile \u001b[39m\u001b[32mc:\\Users\\sqil\\AppData\\Local\\pypoetry\\Cache\\virtualenvs\\sqil-experiments-gl8RHkKX-py3.12\\Lib\\site-packages\\laboneq\\controller\\controller.py:311\u001b[39m, in \u001b[36mController.execute_compiled\u001b[39m\u001b[34m(self, scheduled_experiment, protected_session)\u001b[39m\n\u001b[32m    306\u001b[39m \u001b[38;5;28;01mdef\u001b[39;00m\u001b[38;5;250m \u001b[39m\u001b[34mexecute_compiled\u001b[39m(\n\u001b[32m    307\u001b[39m     \u001b[38;5;28mself\u001b[39m,\n\u001b[32m    308\u001b[39m     scheduled_experiment: ScheduledExperiment,\n\u001b[32m    309\u001b[39m     protected_session: ProtectedSession | \u001b[38;5;28;01mNone\u001b[39;00m = \u001b[38;5;28;01mNone\u001b[39;00m,\n\u001b[32m    310\u001b[39m ):\n\u001b[32m--> \u001b[39m\u001b[32m311\u001b[39m     \u001b[38;5;28;43mself\u001b[39;49m\u001b[43m.\u001b[49m\u001b[43m_event_loop\u001b[49m\u001b[43m.\u001b[49m\u001b[43mrun\u001b[49m\u001b[43m(\u001b[49m\n\u001b[32m    312\u001b[39m \u001b[43m        \u001b[49m\u001b[38;5;28;43mself\u001b[39;49m\u001b[43m.\u001b[49m\u001b[43m_execute_compiled_async\u001b[49m\u001b[43m,\u001b[49m\u001b[43m \u001b[49m\u001b[43mscheduled_experiment\u001b[49m\u001b[43m,\u001b[49m\u001b[43m \u001b[49m\u001b[43mprotected_session\u001b[49m\n\u001b[32m    313\u001b[39m \u001b[43m    \u001b[49m\u001b[43m)\u001b[49m\n",
      "\u001b[36mFile \u001b[39m\u001b[32mc:\\Users\\sqil\\AppData\\Local\\pypoetry\\Cache\\virtualenvs\\sqil-experiments-gl8RHkKX-py3.12\\Lib\\site-packages\\laboneq\\core\\utilities\\async_helpers.py:39\u001b[39m, in \u001b[36mEventLoopHolder.run\u001b[39m\u001b[34m(self, func, *args, **kwargs)\u001b[39m\n\u001b[32m     37\u001b[39m \u001b[38;5;28mself\u001b[39m._ensure_event_loop()\n\u001b[32m     38\u001b[39m \u001b[38;5;28;01mwith\u001b[39;00m \u001b[38;5;28mself\u001b[39m._override_sigint_handler():\n\u001b[32m---> \u001b[39m\u001b[32m39\u001b[39m     \u001b[38;5;28;01mreturn\u001b[39;00m \u001b[38;5;28;43mself\u001b[39;49m\u001b[43m.\u001b[49m\u001b[43m_wait_with_yielding\u001b[49m\u001b[43m(\u001b[49m\n\u001b[32m     40\u001b[39m \u001b[43m        \u001b[49m\u001b[43masyncio\u001b[49m\u001b[43m.\u001b[49m\u001b[43mrun_coroutine_threadsafe\u001b[49m\u001b[43m(\u001b[49m\u001b[43mfunc\u001b[49m\u001b[43m(\u001b[49m\u001b[43m*\u001b[49m\u001b[43margs\u001b[49m\u001b[43m,\u001b[49m\u001b[43m \u001b[49m\u001b[43m*\u001b[49m\u001b[43m*\u001b[49m\u001b[43mkwargs\u001b[49m\u001b[43m)\u001b[49m\u001b[43m,\u001b[49m\u001b[43m \u001b[49m\u001b[38;5;28;43mself\u001b[39;49m\u001b[43m.\u001b[49m\u001b[43m_loop\u001b[49m\u001b[43m)\u001b[49m\n\u001b[32m     41\u001b[39m \u001b[43m    \u001b[49m\u001b[43m)\u001b[49m\n",
      "\u001b[36mFile \u001b[39m\u001b[32mc:\\Users\\sqil\\AppData\\Local\\pypoetry\\Cache\\virtualenvs\\sqil-experiments-gl8RHkKX-py3.12\\Lib\\site-packages\\laboneq\\core\\utilities\\async_helpers.py:80\u001b[39m, in \u001b[36mEventLoopHolder._wait_with_yielding\u001b[39m\u001b[34m(self, future)\u001b[39m\n\u001b[32m     76\u001b[39m \u001b[38;5;28;01mwhile\u001b[39;00m \u001b[38;5;28;01mTrue\u001b[39;00m:\n\u001b[32m     77\u001b[39m     \u001b[38;5;28;01mtry\u001b[39;00m:\n\u001b[32m     78\u001b[39m         \u001b[38;5;66;03m# Exit future wait every 0.1s to handle SIGINT, balancing\u001b[39;00m\n\u001b[32m     79\u001b[39m         \u001b[38;5;66;03m# responsiveness and CPU load.\u001b[39;00m\n\u001b[32m---> \u001b[39m\u001b[32m80\u001b[39m         \u001b[38;5;28;01mreturn\u001b[39;00m \u001b[43mfuture\u001b[49m\u001b[43m.\u001b[49m\u001b[43mresult\u001b[49m\u001b[43m(\u001b[49m\u001b[43mtimeout\u001b[49m\u001b[43m=\u001b[49m\u001b[32;43m0.1\u001b[39;49m\u001b[43m)\u001b[49m  \u001b[38;5;66;03m# @IgnoreException\u001b[39;00m\n\u001b[32m     81\u001b[39m     \u001b[38;5;28;01mexcept\u001b[39;00m concurrent.futures.TimeoutError:  \u001b[38;5;66;03m# noqa: PERF203\u001b[39;00m\n\u001b[32m     82\u001b[39m         \u001b[38;5;28;01mpass\u001b[39;00m\n",
      "\u001b[36mFile \u001b[39m\u001b[32m~\\AppData\\Local\\anaconda3\\Lib\\concurrent\\futures\\_base.py:456\u001b[39m, in \u001b[36mFuture.result\u001b[39m\u001b[34m(self, timeout)\u001b[39m\n\u001b[32m    454\u001b[39m     \u001b[38;5;28;01mraise\u001b[39;00m CancelledError()\n\u001b[32m    455\u001b[39m \u001b[38;5;28;01melif\u001b[39;00m \u001b[38;5;28mself\u001b[39m._state == FINISHED:\n\u001b[32m--> \u001b[39m\u001b[32m456\u001b[39m     \u001b[38;5;28;01mreturn\u001b[39;00m \u001b[38;5;28;43mself\u001b[39;49m\u001b[43m.\u001b[49m\u001b[43m__get_result\u001b[49m\u001b[43m(\u001b[49m\u001b[43m)\u001b[49m\n\u001b[32m    457\u001b[39m \u001b[38;5;28;01melse\u001b[39;00m:\n\u001b[32m    458\u001b[39m     \u001b[38;5;28;01mraise\u001b[39;00m \u001b[38;5;167;01mTimeoutError\u001b[39;00m()\n",
      "\u001b[36mFile \u001b[39m\u001b[32m~\\AppData\\Local\\anaconda3\\Lib\\concurrent\\futures\\_base.py:401\u001b[39m, in \u001b[36mFuture.__get_result\u001b[39m\u001b[34m(self)\u001b[39m\n\u001b[32m    399\u001b[39m \u001b[38;5;28;01mif\u001b[39;00m \u001b[38;5;28mself\u001b[39m._exception:\n\u001b[32m    400\u001b[39m     \u001b[38;5;28;01mtry\u001b[39;00m:\n\u001b[32m--> \u001b[39m\u001b[32m401\u001b[39m         \u001b[38;5;28;01mraise\u001b[39;00m \u001b[38;5;28mself\u001b[39m._exception\n\u001b[32m    402\u001b[39m     \u001b[38;5;28;01mfinally\u001b[39;00m:\n\u001b[32m    403\u001b[39m         \u001b[38;5;66;03m# Break a reference cycle with the exception in self._exception\u001b[39;00m\n\u001b[32m    404\u001b[39m         \u001b[38;5;28mself\u001b[39m = \u001b[38;5;28;01mNone\u001b[39;00m\n",
      "\u001b[36mFile \u001b[39m\u001b[32mc:\\Users\\sqil\\AppData\\Local\\pypoetry\\Cache\\virtualenvs\\sqil-experiments-gl8RHkKX-py3.12\\Lib\\site-packages\\laboneq\\controller\\controller.py:323\u001b[39m, in \u001b[36mController._execute_compiled_async\u001b[39m\u001b[34m(self, scheduled_experiment, protected_session)\u001b[39m\n\u001b[32m    315\u001b[39m \u001b[38;5;28;01masync\u001b[39;00m \u001b[38;5;28;01mdef\u001b[39;00m\u001b[38;5;250m \u001b[39m\u001b[34m_execute_compiled_async\u001b[39m(\n\u001b[32m    316\u001b[39m     \u001b[38;5;28mself\u001b[39m,\n\u001b[32m    317\u001b[39m     scheduled_experiment: ScheduledExperiment,\n\u001b[32m    318\u001b[39m     protected_session: ProtectedSession | \u001b[38;5;28;01mNone\u001b[39;00m = \u001b[38;5;28;01mNone\u001b[39;00m,\n\u001b[32m    319\u001b[39m ):\n\u001b[32m    320\u001b[39m     \u001b[38;5;66;03m# Ensure all connect configurations are still valid!\u001b[39;00m\n\u001b[32m    321\u001b[39m     \u001b[38;5;28;01mawait\u001b[39;00m \u001b[38;5;28mself\u001b[39m._connect_async()\n\u001b[32m--> \u001b[39m\u001b[32m323\u001b[39m     \u001b[38;5;28mself\u001b[39m._recipe_data = \u001b[43mpre_process_compiled\u001b[49m\u001b[43m(\u001b[49m\u001b[43mscheduled_experiment\u001b[49m\u001b[43m,\u001b[49m\u001b[43m \u001b[49m\u001b[38;5;28;43mself\u001b[39;49m\u001b[43m.\u001b[49m\u001b[43m_devices\u001b[49m\u001b[43m)\u001b[49m\n\u001b[32m    324\u001b[39m     \u001b[38;5;28mself\u001b[39m._prepare_result_shapes()\n\u001b[32m    326\u001b[39m     \u001b[38;5;28;01mif\u001b[39;00m protected_session \u001b[38;5;129;01mis\u001b[39;00m \u001b[38;5;28;01mNone\u001b[39;00m:\n",
      "\u001b[36mFile \u001b[39m\u001b[32mc:\\Users\\sqil\\AppData\\Local\\pypoetry\\Cache\\virtualenvs\\sqil-experiments-gl8RHkKX-py3.12\\Lib\\site-packages\\laboneq\\controller\\recipe_processor.py:572\u001b[39m, in \u001b[36mpre_process_compiled\u001b[39m\u001b[34m(scheduled_experiment, devices)\u001b[39m\n\u001b[32m    567\u001b[39m \u001b[38;5;28;01mdef\u001b[39;00m\u001b[38;5;250m \u001b[39m\u001b[34mpre_process_compiled\u001b[39m(\n\u001b[32m    568\u001b[39m     scheduled_experiment: ScheduledExperiment,\n\u001b[32m    569\u001b[39m     devices: DeviceCollection,\n\u001b[32m    570\u001b[39m ) -> RecipeData:\n\u001b[32m    571\u001b[39m     \u001b[38;5;28;01mfor\u001b[39;00m device_uid, device \u001b[38;5;129;01min\u001b[39;00m devices.all:\n\u001b[32m--> \u001b[39m\u001b[32m572\u001b[39m         \u001b[43mdevice\u001b[49m\u001b[43m.\u001b[49m\u001b[43mvalidate_scheduled_experiment\u001b[49m\u001b[43m(\u001b[49m\u001b[43mdevice_uid\u001b[49m\u001b[43m,\u001b[49m\u001b[43m \u001b[49m\u001b[43mscheduled_experiment\u001b[49m\u001b[43m)\u001b[49m\n\u001b[32m    574\u001b[39m     recipe = scheduled_experiment.recipe\n\u001b[32m    575\u001b[39m     \u001b[38;5;28;01massert\u001b[39;00m recipe \u001b[38;5;129;01mis\u001b[39;00m \u001b[38;5;129;01mnot\u001b[39;00m \u001b[38;5;28;01mNone\u001b[39;00m\n",
      "\u001b[36mFile \u001b[39m\u001b[32mc:\\Users\\sqil\\AppData\\Local\\pypoetry\\Cache\\virtualenvs\\sqil-experiments-gl8RHkKX-py3.12\\Lib\\site-packages\\laboneq\\controller\\devices\\device_shfqa.py:232\u001b[39m, in \u001b[36mDeviceSHFQA.validate_scheduled_experiment\u001b[39m\u001b[34m(self, device_uid, scheduled_experiment)\u001b[39m\n\u001b[32m    230\u001b[39m \u001b[38;5;28;01mif\u001b[39;00m \u001b[38;5;28mlen\u001b[39m(long_readout_signals) > \u001b[32m0\u001b[39m:\n\u001b[32m    231\u001b[39m     \u001b[38;5;28;01mif\u001b[39;00m \u001b[38;5;129;01mnot\u001b[39;00m \u001b[38;5;28mself\u001b[39m._long_readout_available:\n\u001b[32m--> \u001b[39m\u001b[32m232\u001b[39m         \u001b[38;5;28;01mraise\u001b[39;00m LabOneQControllerException(\n\u001b[32m    233\u001b[39m             \u001b[33mf\u001b[39m\u001b[33m\"\u001b[39m\u001b[38;5;132;01m{\u001b[39;00m\u001b[38;5;28mself\u001b[39m.dev_repr\u001b[38;5;132;01m}\u001b[39;00m\u001b[33m: Experiment requires long readout that is not available on the device.\u001b[39m\u001b[33m\"\u001b[39m\n\u001b[32m    234\u001b[39m         )\n\u001b[32m    235\u001b[39m     \u001b[38;5;66;03m# for iw in artifacts.integration_weights.items()\u001b[39;00m\n\u001b[32m    236\u001b[39m     \u001b[38;5;66;03m# nc.add(\"qachannels/?/modulation/enable\", 1)\u001b[39;00m\n\u001b[32m    238\u001b[39m initialization = get_initialization_by_device_uid(\n\u001b[32m    239\u001b[39m     scheduled_experiment.recipe, device_uid\n\u001b[32m    240\u001b[39m )\n",
      "\u001b[31mLabOneQControllerException\u001b[39m: SHFQC/QA:dev12183: Experiment requires long readout that is not available on the device."
     ]
    }
   ],
   "source": [
    "import numpy as np\n",
    "from laboneq import serializers\n",
    "from laboneq.contrib.example_helpers.generate_descriptor import generate_descriptor\n",
    "from laboneq.dsl.quantum import QPU\n",
    "from laboneq.simple import DeviceSetup\n",
    "from laboneq_applications.qpu_types.tunable_transmon import (\n",
    "    TunableTransmonOperations,\n",
    "    TunableTransmonQubit,\n",
    ")\n",
    "from helpers.sqil_transmon.qubit import SqilTransmon, SqilTransmonParameters\n",
    "from helpers.sqil_transmon.operations import SqilTransmonOperations\n",
    "\n",
    "\n",
    "from laboneq.dsl.session import Session\n",
    "from laboneq.workflow.tasks import compile_experiment, run_experiment\n",
    "from laboneq.dsl.enums import AcquisitionType\n",
    "from time_rabi import create_experiment, TimeRabiOptions\n",
    "\n",
    "zi_descriptor = generate_descriptor(\n",
    "    shfqc_6=[\"dev12183\"],\n",
    "    number_data_qubits=1,\n",
    "    number_flux_lines=0,\n",
    "    include_cr_lines=False,\n",
    "    multiplex=False,\n",
    "    number_multiplex=0,\n",
    "    get_zsync=False,\n",
    "    ip_address=\"localhost\",\n",
    ")\n",
    "\n",
    "\n",
    "zi_setup = DeviceSetup.from_descriptor(zi_descriptor, \"localhost\")\n",
    "\n",
    "qubits = TunableTransmonQubit.from_device_setup(zi_setup)\n",
    "quantum_operations = TunableTransmonOperations()\n",
    "qpu = QPU(qubits=qubits, quantum_operations=quantum_operations)\n",
    "\n",
    "qpu.qubits[0].update(\n",
    "    **{\n",
    "        \"drive_lo_frequency\": 5e9,\n",
    "        \"readout_lo_frequency\": 7.2e9,\n",
    "        \"readout_resonator_frequency\": 7.4e9,\n",
    "        \"readout_integration_length\": 8e-6,\n",
    "        \"readout_length\": 8e-6,\n",
    "    }\n",
    ")\n",
    "\n",
    "session = Session(zi_setup)\n",
    "session.connect()\n",
    "\n",
    "options = TimeRabiOptions()\n",
    "options.acquisition_type = AcquisitionType.SPECTROSCOPY\n",
    "\n",
    "time_rabi_exp = create_experiment(qpu, qubits[0], np.linspace(1e-9, 70e-9, 10), options=options)\n",
    "compiled_exp = compile_experiment(session, time_rabi_exp)\n",
    "res = run_experiment(session, compiled_exp)"
   ]
  },
  {
   "cell_type": "code",
   "execution_count": null,
   "id": "01b933b6",
   "metadata": {},
   "outputs": [
    {
     "name": "stdout",
     "output_type": "stream",
     "text": [
      "[2025.06.04 15:42:54.166] INFO    Logging initialized from [Default inline config in laboneq.laboneq_logging] logdir is c:\\Users\\sqil\\Desktop\\code\\sqil-experiments\\measurements\\laboneq_output\\log\n",
      "\u001b[0m[2025.06.04 15:42:54.168] INFO    VERSION: laboneq 2.51.0\n",
      "\u001b[0m[2025.06.04 15:42:54.169] INFO    Connecting to data server at localhost:8004\n",
      "\u001b[0m[2025.06.04 15:42:54.173] INFO    Connected to Zurich Instruments LabOne Data Server version 25.04.0.628 at localhost:8004\n",
      "\u001b[0m[2025.06.04 15:42:54.179] WARNING SHFQC/QA:dev12183: Include the device options 'SHFQC/QC4CH' in the device setup ('options' field of the 'instruments' list in the device setup descriptor, 'device_options' argument when constructing instrument objects to be added to 'DeviceSetup' instances). This will become a strict requirement in the future.\n",
      "\u001b[0m[2025.06.04 15:42:54.185] INFO    Configuring the device setup\n",
      "\u001b[0m[2025.06.04 15:42:54.192] INFO    The device setup is configured\n",
      "\u001b[0m[2025.06.04 15:42:54.196] INFO    \u001b[1m ────────────────────────────────────────────────────────────────────────────── \u001b[0m\n",
      "\u001b[0m[2025.06.04 15:42:54.196] INFO    \u001b[1m \u001b[0m\u001b[1m \u001b[0m\u001b[1mWorkflow 'amplitude_rabi': execution started at 2025-06-04 13:42:54.195702Z\u001b[0m\u001b[1m \u001b[0m\u001b[1m \u001b[0m\u001b[1m \u001b[0m\n",
      "\u001b[0m[2025.06.04 15:42:54.197] INFO    \u001b[1m ────────────────────────────────────────────────────────────────────────────── \u001b[0m\n",
      "\u001b[0m[2025.06.04 15:42:54.198] INFO    \u001b[1mTask 'temporary_modify': started at 2025-06-04 13:42:54.198757Z\u001b[0m\n",
      "\u001b[0m[2025.06.04 15:42:54.199] INFO    \u001b[1mTask 'temporary_modify': ended at 2025-06-04 13:42:54.199763Z\u001b[0m\n",
      "\u001b[0m[2025.06.04 15:42:54.200] INFO    \u001b[1mTask 'create_experiment': started at 2025-06-04 13:42:54.200861Z\u001b[0m\n",
      "\u001b[0m[2025.06.04 15:42:54.202] INFO    \u001b[1mTask 'create_experiment': ended at 2025-06-04 13:42:54.202862Z\u001b[0m\n",
      "\u001b[0m[2025.06.04 15:42:54.203] INFO    \u001b[1mTask 'compile_experiment': started at 2025-06-04 13:42:54.203861Z\u001b[0m\n",
      "\u001b[0m[2025.06.04 15:42:54.204] INFO    Resolved modulation type of oscillator 'q0_readout_acquire_osc' on signal 'q0/acquire' to SOFTWARE\n",
      "\u001b[0m[2025.06.04 15:42:54.205] INFO    Starting LabOne Q Compiler run...\n",
      "\u001b[0m[2025.06.04 15:42:54.209] INFO    Schedule completed. [0.002 s]\n",
      "\u001b[0m[2025.06.04 15:42:54.220] INFO    Code generation completed for all AWGs. [0.010 s]\n",
      "\u001b[0m[2025.06.04 15:42:54.222] INFO    Completed compilation step 1 of 1. [0.014 s]\n",
      "\u001b[0m[2025.06.04 15:42:54.223] INFO    Require(s) long readout: SHFQC_dev12183\n",
      "\u001b[0m[2025.06.04 15:42:54.225] INFO     ─────────────────────────────────────────────────────────────────────── \n",
      "\u001b[0m[2025.06.04 15:42:54.226] INFO     \u001b[1m \u001b[0m\u001b[1mDevice           \u001b[0m\u001b[1m \u001b[0m \u001b[1m \u001b[0m\u001b[1mAWG\u001b[0m\u001b[1m \u001b[0m \u001b[1m \u001b[0m\u001b[1mSeqC LOC\u001b[0m\u001b[1m \u001b[0m \u001b[1m \u001b[0m\u001b[1mCT entries\u001b[0m\u001b[1m \u001b[0m \u001b[1m \u001b[0m\u001b[1mWaveforms\u001b[0m\u001b[1m \u001b[0m \u001b[1m \u001b[0m\u001b[1mSamples\u001b[0m\u001b[1m \u001b[0m \n",
      "\u001b[0m[2025.06.04 15:42:54.227] INFO     ─────────────────────────────────────────────────────────────────────── \n",
      "\u001b[0m[2025.06.04 15:42:54.227] INFO      SHFQC_dev12183        0         17            0           1     32000  \n",
      "\u001b[0m[2025.06.04 15:42:54.228] INFO      SHFQC_dev12183_sg     0         32           12           1       224  \n",
      "\u001b[0m[2025.06.04 15:42:54.229] INFO     ─────────────────────────────────────────────────────────────────────── \n",
      "\u001b[0m[2025.06.04 15:42:54.230] INFO     \u001b[1m \u001b[0m\u001b[1mTOTAL            \u001b[0m\u001b[1m \u001b[0m \u001b[1m \u001b[0m\u001b[1m   \u001b[0m\u001b[1m \u001b[0m \u001b[1m \u001b[0m\u001b[1m      49\u001b[0m\u001b[1m \u001b[0m \u001b[1m \u001b[0m\u001b[1m        12\u001b[0m\u001b[1m \u001b[0m \u001b[1m \u001b[0m\u001b[1m         \u001b[0m\u001b[1m \u001b[0m \u001b[1m \u001b[0m\u001b[1m  32224\u001b[0m\u001b[1m \u001b[0m \n",
      "\u001b[0m[2025.06.04 15:42:54.230] INFO     ─────────────────────────────────────────────────────────────────────── \n",
      "\u001b[0m[2025.06.04 15:42:54.234] INFO    Finished LabOne Q Compiler run.\n",
      "\u001b[0m[2025.06.04 15:42:54.237] INFO    \u001b[1mTask 'compile_experiment': ended at 2025-06-04 13:42:54.236376Z\u001b[0m\n",
      "\u001b[0m[2025.06.04 15:42:54.238] INFO    \u001b[1mTask 'run_experiment': started at 2025-06-04 13:42:54.238377Z\u001b[0m\n",
      "\u001b[0m[2025.06.04 15:42:54.240] CRITICAL SHFQC/QA:dev12183: Experiment requires long readout that is not available on the device.\n",
      "\u001b[0m"
     ]
    },
    {
     "name": "stderr",
     "output_type": "stream",
     "text": [
      "[2025.06.04 15:42:54.240] CRITICAL SHFQC/QA:dev12183: Experiment requires long readout that is not available on the device.\n",
      "\u001b[0m"
     ]
    },
    {
     "name": "stdout",
     "output_type": "stream",
     "text": [
      "[2025.06.04 15:42:54.242] ERROR   \u001b[1mTask 'run_experiment': failed at 2025-06-04 13:42:54.242376Z with: \u001b[0m\n",
      "\u001b[0m"
     ]
    },
    {
     "name": "stderr",
     "output_type": "stream",
     "text": [
      "[2025.06.04 15:42:54.242] ERROR   \u001b[1mTask 'run_experiment': failed at 2025-06-04 13:42:54.242376Z with: \u001b[0m\n",
      "\u001b[0m"
     ]
    },
    {
     "name": "stdout",
     "output_type": "stream",
     "text": [
      "[2025.06.04 15:42:54.245] ERROR   \u001b[1mLabOneQControllerException('SHFQC/QA:dev12183: Experiment requires long readout \u001b[0m\n",
      "\u001b[0m"
     ]
    },
    {
     "name": "stderr",
     "output_type": "stream",
     "text": [
      "[2025.06.04 15:42:54.245] ERROR   \u001b[1mLabOneQControllerException('SHFQC/QA:dev12183: Experiment requires long readout \u001b[0m\n",
      "\u001b[0m"
     ]
    },
    {
     "name": "stdout",
     "output_type": "stream",
     "text": [
      "[2025.06.04 15:42:54.247] ERROR   \u001b[1mthat is not available on the device.')\u001b[0m\n",
      "\u001b[0m"
     ]
    },
    {
     "name": "stderr",
     "output_type": "stream",
     "text": [
      "[2025.06.04 15:42:54.247] ERROR   \u001b[1mthat is not available on the device.')\u001b[0m\n",
      "\u001b[0m"
     ]
    },
    {
     "name": "stdout",
     "output_type": "stream",
     "text": [
      "[2025.06.04 15:42:54.249] INFO    \u001b[1mTask 'run_experiment': ended at 2025-06-04 13:42:54.249376Z\u001b[0m\n",
      "\u001b[0m[2025.06.04 15:42:54.252] INFO    \u001b[1m ────────────────────────────────────────────────────────────────────────────── \u001b[0m\n",
      "\u001b[0m[2025.06.04 15:42:54.253] INFO    \u001b[1m \u001b[0m\u001b[1m \u001b[0m\u001b[1mWorkflow 'amplitude_rabi': execution ended at 2025-06-04 13:42:54.252375Z\u001b[0m\u001b[1m   \u001b[0m\u001b[1m \u001b[0m\u001b[1m \u001b[0m\n",
      "\u001b[0m[2025.06.04 15:42:54.254] INFO    \u001b[1m ────────────────────────────────────────────────────────────────────────────── \u001b[0m\n",
      "\u001b[0m"
     ]
    },
    {
     "ename": "LabOneQControllerException",
     "evalue": "SHFQC/QA:dev12183: Experiment requires long readout that is not available on the device.",
     "output_type": "error",
     "traceback": [
      "\u001b[31m---------------------------------------------------------------------------\u001b[39m",
      "\u001b[31mLabOneQControllerException\u001b[39m                Traceback (most recent call last)",
      "\u001b[36mCell\u001b[39m\u001b[36m \u001b[39m\u001b[32mIn[8]\u001b[39m\u001b[32m, line 58\u001b[39m\n\u001b[32m     55\u001b[39m options.acquisition_type = AcquisitionType.SPECTROSCOPY\n\u001b[32m     57\u001b[39m workflow = amplitude_rabi.experiment_workflow(session, qpu, qubits, [np.linspace(\u001b[32m1e-6\u001b[39m, \u001b[32m0.5\u001b[39m, \u001b[32m10\u001b[39m)], options=options)\n\u001b[32m---> \u001b[39m\u001b[32m58\u001b[39m \u001b[43mworkflow\u001b[49m\u001b[43m.\u001b[49m\u001b[43mrun\u001b[49m\u001b[43m(\u001b[49m\u001b[43m)\u001b[49m\n",
      "\u001b[36mFile \u001b[39m\u001b[32mc:\\Users\\sqil\\AppData\\Local\\pypoetry\\Cache\\virtualenvs\\sqil-experiments-gl8RHkKX-py3.12\\Lib\\site-packages\\laboneq\\workflow\\core.py:218\u001b[39m, in \u001b[36mWorkflow.run\u001b[39m\u001b[34m(self, until)\u001b[39m\n\u001b[32m    214\u001b[39m \u001b[38;5;28;01mfor\u001b[39;00m logstore \u001b[38;5;129;01min\u001b[39;00m \u001b[38;5;28mself\u001b[39m._logstores():\n\u001b[32m    215\u001b[39m     state.add_recorder(\n\u001b[32m    216\u001b[39m         logstore.create_logbook(\u001b[38;5;28mself\u001b[39m, start_time=state.start_time)\n\u001b[32m    217\u001b[39m     )\n\u001b[32m--> \u001b[39m\u001b[32m218\u001b[39m \u001b[38;5;28;01mreturn\u001b[39;00m \u001b[38;5;28;43mself\u001b[39;49m\u001b[43m.\u001b[49m\u001b[43m_execute\u001b[49m\u001b[43m(\u001b[49m\u001b[43mstate\u001b[49m\u001b[43m)\u001b[49m\n",
      "\u001b[36mFile \u001b[39m\u001b[32mc:\\Users\\sqil\\AppData\\Local\\pypoetry\\Cache\\virtualenvs\\sqil-experiments-gl8RHkKX-py3.12\\Lib\\site-packages\\laboneq\\workflow\\core.py:128\u001b[39m, in \u001b[36mWorkflow._execute\u001b[39m\u001b[34m(self, state)\u001b[39m\n\u001b[32m    126\u001b[39m \u001b[38;5;28;01mtry\u001b[39;00m:\n\u001b[32m    127\u001b[39m     \u001b[38;5;28;01mwith\u001b[39;00m executor.ExecutorStateContext.scoped(state):\n\u001b[32m--> \u001b[39m\u001b[32m128\u001b[39m         \u001b[38;5;28;43mself\u001b[39;49m\u001b[43m.\u001b[49m\u001b[43m_root\u001b[49m\u001b[43m.\u001b[49m\u001b[43mexecute\u001b[49m\u001b[43m(\u001b[49m\u001b[43mstate\u001b[49m\u001b[43m)\u001b[49m\n\u001b[32m    129\u001b[39m \u001b[38;5;28;01mexcept\u001b[39;00m \u001b[38;5;167;01mException\u001b[39;00m:\n\u001b[32m    130\u001b[39m     \u001b[38;5;28;01mif\u001b[39;00m \u001b[38;5;28mself\u001b[39m._recovery \u001b[38;5;129;01mis\u001b[39;00m \u001b[38;5;129;01mnot\u001b[39;00m \u001b[38;5;28;01mNone\u001b[39;00m:\n",
      "\u001b[36mFile \u001b[39m\u001b[32mc:\\Users\\sqil\\AppData\\Local\\pypoetry\\Cache\\virtualenvs\\sqil-experiments-gl8RHkKX-py3.12\\Lib\\site-packages\\laboneq\\workflow\\blocks\\workflow_block.py:159\u001b[39m, in \u001b[36mWorkflowBlock.execute\u001b[39m\u001b[34m(self, executor)\u001b[39m\n\u001b[32m    154\u001b[39m     \u001b[38;5;28;01mif\u001b[39;00m executor.get_block_status(block) \u001b[38;5;129;01min\u001b[39;00m (\n\u001b[32m    155\u001b[39m         ExecutionStatus.FINISHED,\n\u001b[32m    156\u001b[39m         ExecutionStatus.SKIPPED,\n\u001b[32m    157\u001b[39m     ):\n\u001b[32m    158\u001b[39m         \u001b[38;5;28;01mcontinue\u001b[39;00m\n\u001b[32m--> \u001b[39m\u001b[32m159\u001b[39m     \u001b[43mblock\u001b[49m\u001b[43m.\u001b[49m\u001b[43mexecute\u001b[49m\u001b[43m(\u001b[49m\u001b[43mexecutor\u001b[49m\u001b[43m)\u001b[49m\n\u001b[32m    160\u001b[39m body_loop_finished = \u001b[38;5;28;01mTrue\u001b[39;00m\n\u001b[32m    161\u001b[39m executor.set_block_status(\u001b[38;5;28mself\u001b[39m, ExecutionStatus.FINISHED)\n",
      "\u001b[36mFile \u001b[39m\u001b[32mc:\\Users\\sqil\\AppData\\Local\\pypoetry\\Cache\\virtualenvs\\sqil-experiments-gl8RHkKX-py3.12\\Lib\\site-packages\\laboneq\\workflow\\blocks\\task_block.py:61\u001b[39m, in \u001b[36mTaskBlock.execute\u001b[39m\u001b[34m(self, executor)\u001b[39m\n\u001b[32m     59\u001b[39m     \u001b[38;5;28mself\u001b[39m._exucute_hidden(executor)\n\u001b[32m     60\u001b[39m \u001b[38;5;28;01melse\u001b[39;00m:\n\u001b[32m---> \u001b[39m\u001b[32m61\u001b[39m     \u001b[38;5;28;43mself\u001b[39;49m\u001b[43m.\u001b[49m\u001b[43m_execute_visible\u001b[49m\u001b[43m(\u001b[49m\u001b[43mexecutor\u001b[49m\u001b[43m)\u001b[49m\n",
      "\u001b[36mFile \u001b[39m\u001b[32mc:\\Users\\sqil\\AppData\\Local\\pypoetry\\Cache\\virtualenvs\\sqil-experiments-gl8RHkKX-py3.12\\Lib\\site-packages\\laboneq\\workflow\\blocks\\task_block.py:91\u001b[39m, in \u001b[36mTaskBlock._execute_visible\u001b[39m\u001b[34m(self, executor)\u001b[39m\n\u001b[32m     89\u001b[39m executor.set_block_status(\u001b[38;5;28mself\u001b[39m, ExecutionStatus.IN_PROGRESS)\n\u001b[32m     90\u001b[39m \u001b[38;5;28;01mtry\u001b[39;00m:\n\u001b[32m---> \u001b[39m\u001b[32m91\u001b[39m     task._output = \u001b[38;5;28;43mself\u001b[39;49m\u001b[43m.\u001b[49m\u001b[43mtask\u001b[49m\u001b[43m.\u001b[49m\u001b[43mfunc\u001b[49m\u001b[43m(\u001b[49m\u001b[43m*\u001b[49m\u001b[43m*\u001b[49m\u001b[43mparams\u001b[49m\u001b[43m)\u001b[49m\n\u001b[32m     92\u001b[39m \u001b[38;5;28;01mexcept\u001b[39;00m \u001b[38;5;167;01mException\u001b[39;00m \u001b[38;5;28;01mas\u001b[39;00m error:\n\u001b[32m     93\u001b[39m     task._end_time = utc_now()\n",
      "\u001b[36mFile \u001b[39m\u001b[32mc:\\Users\\sqil\\AppData\\Local\\pypoetry\\Cache\\virtualenvs\\sqil-experiments-gl8RHkKX-py3.12\\Lib\\site-packages\\laboneq\\workflow\\tasks\\run_experiment.py:197\u001b[39m, in \u001b[36mrun_experiment\u001b[39m\u001b[34m(session, compiled_experiment, options)\u001b[39m\n\u001b[32m    182\u001b[39m \u001b[38;5;250m\u001b[39m\u001b[33;03m\"\"\"Run the compiled experiment on the quantum processor via the specified session.\u001b[39;00m\n\u001b[32m    183\u001b[39m \n\u001b[32m    184\u001b[39m \u001b[33;03mArguments:\u001b[39;00m\n\u001b[32m   (...)\u001b[39m\u001b[32m    194\u001b[39m \u001b[33;03m        ... an instance of RunExperimentResults if `return_raw_results` is `False`.\u001b[39;00m\n\u001b[32m    195\u001b[39m \u001b[33;03m\"\"\"\u001b[39;00m\n\u001b[32m    196\u001b[39m opts = RunExperimentOptions() \u001b[38;5;28;01mif\u001b[39;00m options \u001b[38;5;129;01mis\u001b[39;00m \u001b[38;5;28;01mNone\u001b[39;00m \u001b[38;5;28;01melse\u001b[39;00m options\n\u001b[32m--> \u001b[39m\u001b[32m197\u001b[39m laboneq_results = \u001b[43msession\u001b[49m\u001b[43m.\u001b[49m\u001b[43mrun\u001b[49m\u001b[43m(\u001b[49m\u001b[43mcompiled_experiment\u001b[49m\u001b[43m)\u001b[49m\n\u001b[32m    198\u001b[39m \u001b[38;5;28;01mif\u001b[39;00m opts.return_legacy_results:\n\u001b[32m    199\u001b[39m     \u001b[38;5;28;01mreturn\u001b[39;00m laboneq_results\n",
      "\u001b[36mFile \u001b[39m\u001b[32mc:\\Users\\sqil\\AppData\\Local\\pypoetry\\Cache\\virtualenvs\\sqil-experiments-gl8RHkKX-py3.12\\Lib\\site-packages\\laboneq\\dsl\\session.py:435\u001b[39m, in \u001b[36mSession.run\u001b[39m\u001b[34m(self, experiment)\u001b[39m\n\u001b[32m    426\u001b[39m \u001b[38;5;28mself\u001b[39m._last_results = Results(\n\u001b[32m    427\u001b[39m     experiment=\u001b[38;5;28mself\u001b[39m.experiment,\n\u001b[32m    428\u001b[39m     device_setup=\u001b[38;5;28mself\u001b[39m.device_setup,\n\u001b[32m   (...)\u001b[39m\u001b[32m    432\u001b[39m     execution_errors=[],\n\u001b[32m    433\u001b[39m )\n\u001b[32m    434\u001b[39m \u001b[38;5;28;01mtry\u001b[39;00m:\n\u001b[32m--> \u001b[39m\u001b[32m435\u001b[39m     \u001b[43mcontroller\u001b[49m\u001b[43m.\u001b[49m\u001b[43mexecute_compiled\u001b[49m\u001b[43m(\u001b[49m\n\u001b[32m    436\u001b[39m \u001b[43m        \u001b[49m\u001b[38;5;28;43mself\u001b[39;49m\u001b[43m.\u001b[49m\u001b[43mcompiled_experiment\u001b[49m\u001b[43m.\u001b[49m\u001b[43mscheduled_experiment\u001b[49m\u001b[43m,\u001b[49m\u001b[43m \u001b[49m\u001b[43mProtectedSession\u001b[49m\u001b[43m(\u001b[49m\u001b[38;5;28;43mself\u001b[39;49m\u001b[43m)\u001b[49m\n\u001b[32m    437\u001b[39m \u001b[43m    \u001b[49m\u001b[43m)\u001b[49m\n\u001b[32m    438\u001b[39m \u001b[38;5;28;01mfinally\u001b[39;00m:\n\u001b[32m    439\u001b[39m     results = controller.results()\n",
      "\u001b[36mFile \u001b[39m\u001b[32mc:\\Users\\sqil\\AppData\\Local\\pypoetry\\Cache\\virtualenvs\\sqil-experiments-gl8RHkKX-py3.12\\Lib\\site-packages\\laboneq\\controller\\controller.py:311\u001b[39m, in \u001b[36mController.execute_compiled\u001b[39m\u001b[34m(self, scheduled_experiment, protected_session)\u001b[39m\n\u001b[32m    306\u001b[39m \u001b[38;5;28;01mdef\u001b[39;00m\u001b[38;5;250m \u001b[39m\u001b[34mexecute_compiled\u001b[39m(\n\u001b[32m    307\u001b[39m     \u001b[38;5;28mself\u001b[39m,\n\u001b[32m    308\u001b[39m     scheduled_experiment: ScheduledExperiment,\n\u001b[32m    309\u001b[39m     protected_session: ProtectedSession | \u001b[38;5;28;01mNone\u001b[39;00m = \u001b[38;5;28;01mNone\u001b[39;00m,\n\u001b[32m    310\u001b[39m ):\n\u001b[32m--> \u001b[39m\u001b[32m311\u001b[39m     \u001b[38;5;28;43mself\u001b[39;49m\u001b[43m.\u001b[49m\u001b[43m_event_loop\u001b[49m\u001b[43m.\u001b[49m\u001b[43mrun\u001b[49m\u001b[43m(\u001b[49m\n\u001b[32m    312\u001b[39m \u001b[43m        \u001b[49m\u001b[38;5;28;43mself\u001b[39;49m\u001b[43m.\u001b[49m\u001b[43m_execute_compiled_async\u001b[49m\u001b[43m,\u001b[49m\u001b[43m \u001b[49m\u001b[43mscheduled_experiment\u001b[49m\u001b[43m,\u001b[49m\u001b[43m \u001b[49m\u001b[43mprotected_session\u001b[49m\n\u001b[32m    313\u001b[39m \u001b[43m    \u001b[49m\u001b[43m)\u001b[49m\n",
      "\u001b[36mFile \u001b[39m\u001b[32mc:\\Users\\sqil\\AppData\\Local\\pypoetry\\Cache\\virtualenvs\\sqil-experiments-gl8RHkKX-py3.12\\Lib\\site-packages\\laboneq\\core\\utilities\\async_helpers.py:39\u001b[39m, in \u001b[36mEventLoopHolder.run\u001b[39m\u001b[34m(self, func, *args, **kwargs)\u001b[39m\n\u001b[32m     37\u001b[39m \u001b[38;5;28mself\u001b[39m._ensure_event_loop()\n\u001b[32m     38\u001b[39m \u001b[38;5;28;01mwith\u001b[39;00m \u001b[38;5;28mself\u001b[39m._override_sigint_handler():\n\u001b[32m---> \u001b[39m\u001b[32m39\u001b[39m     \u001b[38;5;28;01mreturn\u001b[39;00m \u001b[38;5;28;43mself\u001b[39;49m\u001b[43m.\u001b[49m\u001b[43m_wait_with_yielding\u001b[49m\u001b[43m(\u001b[49m\n\u001b[32m     40\u001b[39m \u001b[43m        \u001b[49m\u001b[43masyncio\u001b[49m\u001b[43m.\u001b[49m\u001b[43mrun_coroutine_threadsafe\u001b[49m\u001b[43m(\u001b[49m\u001b[43mfunc\u001b[49m\u001b[43m(\u001b[49m\u001b[43m*\u001b[49m\u001b[43margs\u001b[49m\u001b[43m,\u001b[49m\u001b[43m \u001b[49m\u001b[43m*\u001b[49m\u001b[43m*\u001b[49m\u001b[43mkwargs\u001b[49m\u001b[43m)\u001b[49m\u001b[43m,\u001b[49m\u001b[43m \u001b[49m\u001b[38;5;28;43mself\u001b[39;49m\u001b[43m.\u001b[49m\u001b[43m_loop\u001b[49m\u001b[43m)\u001b[49m\n\u001b[32m     41\u001b[39m \u001b[43m    \u001b[49m\u001b[43m)\u001b[49m\n",
      "\u001b[36mFile \u001b[39m\u001b[32mc:\\Users\\sqil\\AppData\\Local\\pypoetry\\Cache\\virtualenvs\\sqil-experiments-gl8RHkKX-py3.12\\Lib\\site-packages\\laboneq\\core\\utilities\\async_helpers.py:80\u001b[39m, in \u001b[36mEventLoopHolder._wait_with_yielding\u001b[39m\u001b[34m(self, future)\u001b[39m\n\u001b[32m     76\u001b[39m \u001b[38;5;28;01mwhile\u001b[39;00m \u001b[38;5;28;01mTrue\u001b[39;00m:\n\u001b[32m     77\u001b[39m     \u001b[38;5;28;01mtry\u001b[39;00m:\n\u001b[32m     78\u001b[39m         \u001b[38;5;66;03m# Exit future wait every 0.1s to handle SIGINT, balancing\u001b[39;00m\n\u001b[32m     79\u001b[39m         \u001b[38;5;66;03m# responsiveness and CPU load.\u001b[39;00m\n\u001b[32m---> \u001b[39m\u001b[32m80\u001b[39m         \u001b[38;5;28;01mreturn\u001b[39;00m \u001b[43mfuture\u001b[49m\u001b[43m.\u001b[49m\u001b[43mresult\u001b[49m\u001b[43m(\u001b[49m\u001b[43mtimeout\u001b[49m\u001b[43m=\u001b[49m\u001b[32;43m0.1\u001b[39;49m\u001b[43m)\u001b[49m  \u001b[38;5;66;03m# @IgnoreException\u001b[39;00m\n\u001b[32m     81\u001b[39m     \u001b[38;5;28;01mexcept\u001b[39;00m concurrent.futures.TimeoutError:  \u001b[38;5;66;03m# noqa: PERF203\u001b[39;00m\n\u001b[32m     82\u001b[39m         \u001b[38;5;28;01mpass\u001b[39;00m\n",
      "\u001b[36mFile \u001b[39m\u001b[32m~\\AppData\\Local\\anaconda3\\Lib\\concurrent\\futures\\_base.py:456\u001b[39m, in \u001b[36mFuture.result\u001b[39m\u001b[34m(self, timeout)\u001b[39m\n\u001b[32m    454\u001b[39m     \u001b[38;5;28;01mraise\u001b[39;00m CancelledError()\n\u001b[32m    455\u001b[39m \u001b[38;5;28;01melif\u001b[39;00m \u001b[38;5;28mself\u001b[39m._state == FINISHED:\n\u001b[32m--> \u001b[39m\u001b[32m456\u001b[39m     \u001b[38;5;28;01mreturn\u001b[39;00m \u001b[38;5;28;43mself\u001b[39;49m\u001b[43m.\u001b[49m\u001b[43m__get_result\u001b[49m\u001b[43m(\u001b[49m\u001b[43m)\u001b[49m\n\u001b[32m    457\u001b[39m \u001b[38;5;28;01melse\u001b[39;00m:\n\u001b[32m    458\u001b[39m     \u001b[38;5;28;01mraise\u001b[39;00m \u001b[38;5;167;01mTimeoutError\u001b[39;00m()\n",
      "\u001b[36mFile \u001b[39m\u001b[32m~\\AppData\\Local\\anaconda3\\Lib\\concurrent\\futures\\_base.py:401\u001b[39m, in \u001b[36mFuture.__get_result\u001b[39m\u001b[34m(self)\u001b[39m\n\u001b[32m    399\u001b[39m \u001b[38;5;28;01mif\u001b[39;00m \u001b[38;5;28mself\u001b[39m._exception:\n\u001b[32m    400\u001b[39m     \u001b[38;5;28;01mtry\u001b[39;00m:\n\u001b[32m--> \u001b[39m\u001b[32m401\u001b[39m         \u001b[38;5;28;01mraise\u001b[39;00m \u001b[38;5;28mself\u001b[39m._exception\n\u001b[32m    402\u001b[39m     \u001b[38;5;28;01mfinally\u001b[39;00m:\n\u001b[32m    403\u001b[39m         \u001b[38;5;66;03m# Break a reference cycle with the exception in self._exception\u001b[39;00m\n\u001b[32m    404\u001b[39m         \u001b[38;5;28mself\u001b[39m = \u001b[38;5;28;01mNone\u001b[39;00m\n",
      "\u001b[36mFile \u001b[39m\u001b[32mc:\\Users\\sqil\\AppData\\Local\\pypoetry\\Cache\\virtualenvs\\sqil-experiments-gl8RHkKX-py3.12\\Lib\\site-packages\\laboneq\\controller\\controller.py:323\u001b[39m, in \u001b[36mController._execute_compiled_async\u001b[39m\u001b[34m(self, scheduled_experiment, protected_session)\u001b[39m\n\u001b[32m    315\u001b[39m \u001b[38;5;28;01masync\u001b[39;00m \u001b[38;5;28;01mdef\u001b[39;00m\u001b[38;5;250m \u001b[39m\u001b[34m_execute_compiled_async\u001b[39m(\n\u001b[32m    316\u001b[39m     \u001b[38;5;28mself\u001b[39m,\n\u001b[32m    317\u001b[39m     scheduled_experiment: ScheduledExperiment,\n\u001b[32m    318\u001b[39m     protected_session: ProtectedSession | \u001b[38;5;28;01mNone\u001b[39;00m = \u001b[38;5;28;01mNone\u001b[39;00m,\n\u001b[32m    319\u001b[39m ):\n\u001b[32m    320\u001b[39m     \u001b[38;5;66;03m# Ensure all connect configurations are still valid!\u001b[39;00m\n\u001b[32m    321\u001b[39m     \u001b[38;5;28;01mawait\u001b[39;00m \u001b[38;5;28mself\u001b[39m._connect_async()\n\u001b[32m--> \u001b[39m\u001b[32m323\u001b[39m     \u001b[38;5;28mself\u001b[39m._recipe_data = \u001b[43mpre_process_compiled\u001b[49m\u001b[43m(\u001b[49m\u001b[43mscheduled_experiment\u001b[49m\u001b[43m,\u001b[49m\u001b[43m \u001b[49m\u001b[38;5;28;43mself\u001b[39;49m\u001b[43m.\u001b[49m\u001b[43m_devices\u001b[49m\u001b[43m)\u001b[49m\n\u001b[32m    324\u001b[39m     \u001b[38;5;28mself\u001b[39m._prepare_result_shapes()\n\u001b[32m    326\u001b[39m     \u001b[38;5;28;01mif\u001b[39;00m protected_session \u001b[38;5;129;01mis\u001b[39;00m \u001b[38;5;28;01mNone\u001b[39;00m:\n",
      "\u001b[36mFile \u001b[39m\u001b[32mc:\\Users\\sqil\\AppData\\Local\\pypoetry\\Cache\\virtualenvs\\sqil-experiments-gl8RHkKX-py3.12\\Lib\\site-packages\\laboneq\\controller\\recipe_processor.py:572\u001b[39m, in \u001b[36mpre_process_compiled\u001b[39m\u001b[34m(scheduled_experiment, devices)\u001b[39m\n\u001b[32m    567\u001b[39m \u001b[38;5;28;01mdef\u001b[39;00m\u001b[38;5;250m \u001b[39m\u001b[34mpre_process_compiled\u001b[39m(\n\u001b[32m    568\u001b[39m     scheduled_experiment: ScheduledExperiment,\n\u001b[32m    569\u001b[39m     devices: DeviceCollection,\n\u001b[32m    570\u001b[39m ) -> RecipeData:\n\u001b[32m    571\u001b[39m     \u001b[38;5;28;01mfor\u001b[39;00m device_uid, device \u001b[38;5;129;01min\u001b[39;00m devices.all:\n\u001b[32m--> \u001b[39m\u001b[32m572\u001b[39m         \u001b[43mdevice\u001b[49m\u001b[43m.\u001b[49m\u001b[43mvalidate_scheduled_experiment\u001b[49m\u001b[43m(\u001b[49m\u001b[43mdevice_uid\u001b[49m\u001b[43m,\u001b[49m\u001b[43m \u001b[49m\u001b[43mscheduled_experiment\u001b[49m\u001b[43m)\u001b[49m\n\u001b[32m    574\u001b[39m     recipe = scheduled_experiment.recipe\n\u001b[32m    575\u001b[39m     \u001b[38;5;28;01massert\u001b[39;00m recipe \u001b[38;5;129;01mis\u001b[39;00m \u001b[38;5;129;01mnot\u001b[39;00m \u001b[38;5;28;01mNone\u001b[39;00m\n",
      "\u001b[36mFile \u001b[39m\u001b[32mc:\\Users\\sqil\\AppData\\Local\\pypoetry\\Cache\\virtualenvs\\sqil-experiments-gl8RHkKX-py3.12\\Lib\\site-packages\\laboneq\\controller\\devices\\device_shfqa.py:232\u001b[39m, in \u001b[36mDeviceSHFQA.validate_scheduled_experiment\u001b[39m\u001b[34m(self, device_uid, scheduled_experiment)\u001b[39m\n\u001b[32m    230\u001b[39m \u001b[38;5;28;01mif\u001b[39;00m \u001b[38;5;28mlen\u001b[39m(long_readout_signals) > \u001b[32m0\u001b[39m:\n\u001b[32m    231\u001b[39m     \u001b[38;5;28;01mif\u001b[39;00m \u001b[38;5;129;01mnot\u001b[39;00m \u001b[38;5;28mself\u001b[39m._long_readout_available:\n\u001b[32m--> \u001b[39m\u001b[32m232\u001b[39m         \u001b[38;5;28;01mraise\u001b[39;00m LabOneQControllerException(\n\u001b[32m    233\u001b[39m             \u001b[33mf\u001b[39m\u001b[33m\"\u001b[39m\u001b[38;5;132;01m{\u001b[39;00m\u001b[38;5;28mself\u001b[39m.dev_repr\u001b[38;5;132;01m}\u001b[39;00m\u001b[33m: Experiment requires long readout that is not available on the device.\u001b[39m\u001b[33m\"\u001b[39m\n\u001b[32m    234\u001b[39m         )\n\u001b[32m    235\u001b[39m     \u001b[38;5;66;03m# for iw in artifacts.integration_weights.items()\u001b[39;00m\n\u001b[32m    236\u001b[39m     \u001b[38;5;66;03m# nc.add(\"qachannels/?/modulation/enable\", 1)\u001b[39;00m\n\u001b[32m    238\u001b[39m initialization = get_initialization_by_device_uid(\n\u001b[32m    239\u001b[39m     scheduled_experiment.recipe, device_uid\n\u001b[32m    240\u001b[39m )\n",
      "\u001b[31mLabOneQControllerException\u001b[39m: SHFQC/QA:dev12183: Experiment requires long readout that is not available on the device."
     ]
    }
   ],
   "source": [
    "import numpy as np\n",
    "from laboneq.contrib.example_helpers.generate_descriptor import generate_descriptor\n",
    "from laboneq.dsl.quantum import QPU\n",
    "from laboneq.simple import DeviceSetup\n",
    "from laboneq_applications.qpu_types.tunable_transmon import (\n",
    "    TunableTransmonOperations,\n",
    "    TunableTransmonQubit,\n",
    ")\n",
    "\n",
    "from laboneq.dsl.session import Session\n",
    "from laboneq.dsl.enums import AcquisitionType\n",
    "\n",
    "from laboneq_applications.experiments import amplitude_rabi\n",
    "from laboneq_applications.experiments.options import TuneUpWorkflowOptions\n",
    "\n",
    "zi_descriptor = generate_descriptor(\n",
    "    shfqc_6=[\"dev12183\"],\n",
    "    number_data_qubits=1,\n",
    "    number_flux_lines=0,\n",
    "    include_cr_lines=False,\n",
    "    multiplex=False,\n",
    "    number_multiplex=0,\n",
    "    get_zsync=False,\n",
    "    ip_address=\"localhost\",\n",
    ")\n",
    "zi_setup = DeviceSetup.from_descriptor(zi_descriptor, \"localhost\")\n",
    "\n",
    "qubits = TunableTransmonQubit.from_device_setup(zi_setup)\n",
    "quantum_operations = TunableTransmonOperations()\n",
    "qpu = QPU(qubits=qubits, quantum_operations=quantum_operations)\n",
    "\n",
    "qpu.qubits[0].update(\n",
    "    **{\n",
    "        \"drive_lo_frequency\": 5e9,\n",
    "        \"readout_lo_frequency\": 7.2e9,\n",
    "        \"readout_resonator_frequency\": 7.4e9,\n",
    "        \"readout_integration_length\": 8e-6,\n",
    "        \"readout_length\": 8e-6,\n",
    "    }\n",
    ")\n",
    "\n",
    "session = Session(zi_setup)\n",
    "session.connect()\n",
    "\n",
    "options = TuneUpWorkflowOptions()\n",
    "options.acquisition_type = AcquisitionType.SPECTROSCOPY\n",
    "\n",
    "workflow = amplitude_rabi.experiment_workflow(\n",
    "    session,qpu, qubits, [np.linspace(1e-6, 0.5, 10)], options=options)\n",
    "workflow.run()"
   ]
  }
 ],
 "metadata": {
  "kernelspec": {
   "display_name": "sqil-experiments-gl8RHkKX-py3.12",
   "language": "python",
   "name": "python3"
  },
  "language_info": {
   "codemirror_mode": {
    "name": "ipython",
    "version": 3
   },
   "file_extension": ".py",
   "mimetype": "text/x-python",
   "name": "python",
   "nbconvert_exporter": "python",
   "pygments_lexer": "ipython3",
   "version": "3.12.7"
  }
 },
 "nbformat": 4,
 "nbformat_minor": 5
}
