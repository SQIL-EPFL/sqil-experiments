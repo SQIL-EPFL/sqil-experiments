{
 "cells": [
  {
   "cell_type": "code",
   "execution_count": 1,
   "id": "02d6d18d-f62a-4840-b3b7-4d3ae0b66361",
   "metadata": {},
   "outputs": [],
   "source": [
    "from helpers.customized_drivers.SignalCore_SC5511A_locking_fix import *"
   ]
  },
  {
   "cell_type": "code",
   "execution_count": 2,
   "id": "b49a1d6f-4ef2-41c7-b277-6f92c5f3f3da",
   "metadata": {},
   "outputs": [],
   "source": [
    "sc20=SignalCore_SC5511A(\"SC\",'10003C68') #20GHz signal core"
   ]
  },
  {
   "cell_type": "code",
   "execution_count": 3,
   "id": "bd607435-c104-4cb5-b915-a6a66d403bbc",
   "metadata": {},
   "outputs": [],
   "source": [
    "sc20.power(-40) # for safety"
   ]
  },
  {
   "cell_type": "code",
   "execution_count": 4,
   "id": "10d1f9a3-65a7-451a-8127-938ad40dbe6f",
   "metadata": {},
   "outputs": [
    {
     "data": {
      "text/plain": [
       "0"
      ]
     },
     "execution_count": 4,
     "metadata": {},
     "output_type": "execute_result"
    }
   ],
   "source": [
    "sc20.do_set_ref_out_freq(10) "
   ]
  },
  {
   "cell_type": "code",
   "execution_count": 5,
   "id": "93e1554b-d8ba-444d-b801-2d77743a5515",
   "metadata": {},
   "outputs": [
    {
     "data": {
      "text/plain": [
       "0"
      ]
     },
     "execution_count": 5,
     "metadata": {},
     "output_type": "execute_result"
    }
   ],
   "source": [
    "sc20.do_set_reference_source(1) #to enable phase locking"
   ]
  },
  {
   "cell_type": "code",
   "execution_count": 7,
   "id": "bbc2d5d4-9af3-41b7-ba84-b6b5f2818f7e",
   "metadata": {},
   "outputs": [
    {
     "data": {
      "text/plain": [
       "(0, False)"
      ]
     },
     "execution_count": 7,
     "metadata": {},
     "output_type": "execute_result"
    }
   ],
   "source": [
    "sc20.do_set_standby(True) # update PLL locking\n",
    "sc20.do_set_standby(False)"
   ]
  },
  {
   "cell_type": "code",
   "execution_count": 7,
   "id": "0133d425-0431-4965-98f6-787f686a8e5e",
   "metadata": {},
   "outputs": [
    {
     "data": {
      "text/plain": [
       "0"
      ]
     },
     "execution_count": 7,
     "metadata": {},
     "output_type": "execute_result"
    }
   ],
   "source": [
    "sc20.do_set_output_status(0)"
   ]
  },
  {
   "cell_type": "code",
   "execution_count": 8,
   "id": "5be0a0eb-d459-4d4d-87f9-94dd442e4daf",
   "metadata": {},
   "outputs": [
    {
     "data": {
      "text/plain": [
       "0"
      ]
     },
     "execution_count": 8,
     "metadata": {},
     "output_type": "execute_result"
    }
   ],
   "source": [
    "sc20.do_set_output_status(1)"
   ]
  },
  {
   "cell_type": "code",
   "execution_count": 12,
   "id": "ae381907-2709-476d-bc0d-753af0d2d203",
   "metadata": {},
   "outputs": [
    {
     "data": {
      "text/plain": [
       "0"
      ]
     },
     "execution_count": 12,
     "metadata": {},
     "output_type": "execute_result"
    }
   ],
   "source": [
    "sc20.do_set_frequency(17e9)"
   ]
  },
  {
   "cell_type": "code",
   "execution_count": 10,
   "id": "a0596a8b-3749-4d62-b2fc-505ca75de1d3",
   "metadata": {},
   "outputs": [
    {
     "data": {
      "text/plain": [
       "17000000000"
      ]
     },
     "execution_count": 10,
     "metadata": {},
     "output_type": "execute_result"
    }
   ],
   "source": [
    "sc20.do_get_frequency()"
   ]
  },
  {
   "cell_type": "code",
   "execution_count": 16,
   "id": "cbf31a87-3749-4abb-b147-ed2118060f25",
   "metadata": {},
   "outputs": [],
   "source": [
    "sc20.close()"
   ]
  },
  {
   "cell_type": "code",
   "execution_count": null,
   "id": "ba2fd4a2-619d-431c-9710-6abb8a46a254",
   "metadata": {},
   "outputs": [],
   "source": []
  },
  {
   "cell_type": "code",
   "execution_count": null,
   "id": "9de472d2-1d82-4d6f-bd76-2f49f3aa3e1c",
   "metadata": {},
   "outputs": [],
   "source": []
  },
  {
   "cell_type": "code",
   "execution_count": 1,
   "id": "d3df378e-7fdb-42b7-b07c-48a27c719de8",
   "metadata": {},
   "outputs": [],
   "source": [
    "from helpers.customized_drivers.SignalCore_SC5511A import *"
   ]
  },
  {
   "cell_type": "code",
   "execution_count": 2,
   "id": "4d2348ad-df18-41a2-a7b0-cd3638c51138",
   "metadata": {},
   "outputs": [],
   "source": [
    "sc20=SignalCore_SC5511A(\"SC\",'10003C68')"
   ]
  },
  {
   "cell_type": "code",
   "execution_count": 3,
   "id": "364583a3-633e-46ef-9f3f-81c7242c62c7",
   "metadata": {},
   "outputs": [
    {
     "data": {
      "text/plain": [
       "0"
      ]
     },
     "execution_count": 3,
     "metadata": {},
     "output_type": "execute_result"
    }
   ],
   "source": [
    "sc20.do_set_power(-40) # for safety"
   ]
  },
  {
   "cell_type": "code",
   "execution_count": 4,
   "id": "c333ef7f-3519-4747-9677-133e9f331a99",
   "metadata": {},
   "outputs": [
    {
     "data": {
      "text/plain": [
       "0"
      ]
     },
     "execution_count": 4,
     "metadata": {},
     "output_type": "execute_result"
    }
   ],
   "source": [
    "sc20.do_set_ref_out_freq(10) "
   ]
  },
  {
   "cell_type": "code",
   "execution_count": 5,
   "id": "a484049a-b766-405d-a2d4-a24a7cd8f2f3",
   "metadata": {},
   "outputs": [
    {
     "data": {
      "text/plain": [
       "0"
      ]
     },
     "execution_count": 5,
     "metadata": {},
     "output_type": "execute_result"
    }
   ],
   "source": [
    "sc20.do_set_reference_source(1) #to enable phase locking"
   ]
  },
  {
   "cell_type": "code",
   "execution_count": 3,
   "id": "09efe411-b9b0-454e-8156-791de046bf8f",
   "metadata": {},
   "outputs": [
    {
     "data": {
      "text/plain": [
       "0"
      ]
     },
     "execution_count": 3,
     "metadata": {},
     "output_type": "execute_result"
    }
   ],
   "source": [
    "sc20.do_set_output_status(0)"
   ]
  },
  {
   "cell_type": "code",
   "execution_count": 7,
   "id": "f8cf7e69-db2a-4842-8fb1-ab0acd411598",
   "metadata": {},
   "outputs": [
    {
     "data": {
      "text/plain": [
       "0"
      ]
     },
     "execution_count": 7,
     "metadata": {},
     "output_type": "execute_result"
    }
   ],
   "source": [
    "sc20.do_set_output_status(1)"
   ]
  },
  {
   "cell_type": "code",
   "execution_count": 8,
   "id": "c5bd8339-528a-4c8e-9000-2684228c83a2",
   "metadata": {},
   "outputs": [
    {
     "data": {
      "text/plain": [
       "0"
      ]
     },
     "execution_count": 8,
     "metadata": {},
     "output_type": "execute_result"
    }
   ],
   "source": [
    "sc20.do_set_frequency(17e9)"
   ]
  },
  {
   "cell_type": "code",
   "execution_count": 9,
   "id": "84e679e2-a217-4fa4-a89d-1eb98f3159a1",
   "metadata": {},
   "outputs": [
    {
     "data": {
      "text/plain": [
       "17000000000"
      ]
     },
     "execution_count": 9,
     "metadata": {},
     "output_type": "execute_result"
    }
   ],
   "source": [
    "sc20.do_get_frequency()"
   ]
  },
  {
   "cell_type": "code",
   "execution_count": 10,
   "id": "bc09b226-584f-4e20-81d5-7dd1f80d28da",
   "metadata": {},
   "outputs": [],
   "source": [
    "sc20.close()"
   ]
  },
  {
   "cell_type": "code",
   "execution_count": null,
   "id": "1d504efa-0004-42ba-8cb2-506d8d900963",
   "metadata": {},
   "outputs": [],
   "source": []
  }
 ],
 "metadata": {
  "kernelspec": {
   "display_name": "Python 3 (ipykernel)",
   "language": "python",
   "name": "python3"
  },
  "language_info": {
   "codemirror_mode": {
    "name": "ipython",
    "version": 3
   },
   "file_extension": ".py",
   "mimetype": "text/x-python",
   "name": "python",
   "nbconvert_exporter": "python",
   "pygments_lexer": "ipython3",
   "version": "3.12.4"
  }
 },
 "nbformat": 4,
 "nbformat_minor": 5
}
